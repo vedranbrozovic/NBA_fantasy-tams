{
 "cells": [
  {
   "cell_type": "code",
   "execution_count": null,
   "metadata": {
    "collapsed": true
   },
   "outputs": [],
   "source": [
    "%pip install nba_api"
   ]
  },
  {
   "cell_type": "code",
   "execution_count": null,
   "outputs": [],
   "source": [
    "# Latest changes visible from the github profile here: https://github.com/vedranbrozovic/NBA_fantasy-tams\n",
    "# Author: Vedran Brozovic (https://github.com/vedranbrozovic) with a lot of help of materials listed below\n",
    "\n",
    "\"\"\"\n",
    "\n",
    "github link:    https://github.com/vedranbrozovic/NBA_fantasy-tams\n",
    "\n",
    "api link:       https://github.com/swar/nba_api/blob/master/docs/nba_api/stats/endpoints/leaguegamefinder.md\n",
    "                https://github.com/swar/nba_api/tree/master/docs/nba_api\n",
    "\n",
    "code base link: https://github.com/liannewriting/data-science-project-from-scratch-youtube-nba/blob/main/main.py\n",
    "                https://youtu.be/cSnM2PHVqYs\n",
    "\n",
    "\"\"\""
   ],
   "metadata": {
    "collapsed": false
   }
  },
  {
   "cell_type": "code",
   "execution_count": 1,
   "outputs": [],
   "source": [
    "# import libraries\n",
    "\n",
    "from nba_api.stats.endpoints import leaguegamefinder\n",
    "import datetime as dt\n",
    "import pandas as pd\n",
    "import numpy as np\n",
    "import matplotlib.pyplot as plt"
   ],
   "metadata": {
    "collapsed": false
   }
  },
  {
   "cell_type": "code",
   "execution_count": 2,
   "outputs": [],
   "source": [
    "league_start= dt.date(2022,10,17)   #league start\n",
    "league_end= dt.date.today()\n",
    "\n",
    "# to get a stupid MM/DD/YYYY format to push the parameter through\n",
    "league_start_str = league_start.strftime(\"%m/%d/%Y\")\n",
    "league_end_str = league_end.strftime(\"%m/%d/%Y\")\n",
    "\n",
    "\n"
   ],
   "metadata": {
    "collapsed": false
   }
  },
  {
   "cell_type": "code",
   "execution_count": 3,
   "outputs": [
    {
     "data": {
      "text/plain": "    SEASON_ID     TEAM_ID TEAM_ABBREVIATION               TEAM_NAME  \\\n0       22022  1610612747               LAL      Los Angeles Lakers   \n1       22022  1610612743               DEN          Denver Nuggets   \n2       22022  1610612744               GSW   Golden State Warriors   \n3       22022  1610612765               DET         Detroit Pistons   \n4       22022  1610612756               PHX            Phoenix Suns   \n..        ...         ...               ...                     ...   \n185     22022  1610612757               POR  Portland Trail Blazers   \n186     22022  1610612747               LAL      Los Angeles Lakers   \n187     22022  1610612744               GSW   Golden State Warriors   \n188     22022  1610612755               PHI      Philadelphia 76ers   \n189     22022  1610612738               BOS          Boston Celtics   \n\n        GAME_ID   GAME_DATE      MATCHUP    WL  MIN  PTS  ...  FT_PCT  OREB  \\\n0    0022200095  2022-10-30  LAL vs. DEN  None  108   45  ...   0.750     4   \n1    0022200095  2022-10-30    DEN @ LAL  None  108   44  ...   0.778     5   \n2    0022200091  2022-10-30    GSW @ DET     L  241  114  ...   0.960    13   \n3    0022200091  2022-10-30  DET vs. GSW     W  240  128  ...   0.895    12   \n4    0022200094  2022-10-30  PHX vs. HOU  None  120   68  ...   0.769     7   \n..          ...         ...          ...   ...  ...  ...  ...     ...   ...   \n185  0022200014  2022-10-19    POR @ SAC     W  239  115  ...   0.788    11   \n186  0022200002  2022-10-18    LAL @ GSW     L  241  109  ...   0.760     9   \n187  0022200002  2022-10-18  GSW vs. LAL     W  241  123  ...   0.739    11   \n188  0022200001  2022-10-18    PHI @ BOS     L  239  117  ...   0.857     4   \n189  0022200001  2022-10-18  BOS vs. PHI     W  240  126  ...   0.786     6   \n\n     DREB  REB  AST  STL  BLK  TOV  PF  PLUS_MINUS  \n0      16   20   11    2    2    4   7        -1.8  \n1      18   23   12    1    3    5   7         1.4  \n2      29   42   23    8    4   14  24       -11.4  \n3      35   47   24    4    3   15  25        11.8  \n4      14   21   18    6    4    9  14         9.0  \n..    ...  ...  ...  ...  ...  ...  ..         ...  \n185    33   44   20   11    2   11  17         7.0  \n186    39   48   23   12    4   21  18       -14.0  \n187    37   48   31   11    4   18  23        14.0  \n188    27   31   16    8    3   14  25        -9.0  \n189    30   36   24    8    3   10  23         9.0  \n\n[190 rows x 28 columns]",
      "text/html": "<div>\n<style scoped>\n    .dataframe tbody tr th:only-of-type {\n        vertical-align: middle;\n    }\n\n    .dataframe tbody tr th {\n        vertical-align: top;\n    }\n\n    .dataframe thead th {\n        text-align: right;\n    }\n</style>\n<table border=\"1\" class=\"dataframe\">\n  <thead>\n    <tr style=\"text-align: right;\">\n      <th></th>\n      <th>SEASON_ID</th>\n      <th>TEAM_ID</th>\n      <th>TEAM_ABBREVIATION</th>\n      <th>TEAM_NAME</th>\n      <th>GAME_ID</th>\n      <th>GAME_DATE</th>\n      <th>MATCHUP</th>\n      <th>WL</th>\n      <th>MIN</th>\n      <th>PTS</th>\n      <th>...</th>\n      <th>FT_PCT</th>\n      <th>OREB</th>\n      <th>DREB</th>\n      <th>REB</th>\n      <th>AST</th>\n      <th>STL</th>\n      <th>BLK</th>\n      <th>TOV</th>\n      <th>PF</th>\n      <th>PLUS_MINUS</th>\n    </tr>\n  </thead>\n  <tbody>\n    <tr>\n      <th>0</th>\n      <td>22022</td>\n      <td>1610612747</td>\n      <td>LAL</td>\n      <td>Los Angeles Lakers</td>\n      <td>0022200095</td>\n      <td>2022-10-30</td>\n      <td>LAL vs. DEN</td>\n      <td>None</td>\n      <td>108</td>\n      <td>45</td>\n      <td>...</td>\n      <td>0.750</td>\n      <td>4</td>\n      <td>16</td>\n      <td>20</td>\n      <td>11</td>\n      <td>2</td>\n      <td>2</td>\n      <td>4</td>\n      <td>7</td>\n      <td>-1.8</td>\n    </tr>\n    <tr>\n      <th>1</th>\n      <td>22022</td>\n      <td>1610612743</td>\n      <td>DEN</td>\n      <td>Denver Nuggets</td>\n      <td>0022200095</td>\n      <td>2022-10-30</td>\n      <td>DEN @ LAL</td>\n      <td>None</td>\n      <td>108</td>\n      <td>44</td>\n      <td>...</td>\n      <td>0.778</td>\n      <td>5</td>\n      <td>18</td>\n      <td>23</td>\n      <td>12</td>\n      <td>1</td>\n      <td>3</td>\n      <td>5</td>\n      <td>7</td>\n      <td>1.4</td>\n    </tr>\n    <tr>\n      <th>2</th>\n      <td>22022</td>\n      <td>1610612744</td>\n      <td>GSW</td>\n      <td>Golden State Warriors</td>\n      <td>0022200091</td>\n      <td>2022-10-30</td>\n      <td>GSW @ DET</td>\n      <td>L</td>\n      <td>241</td>\n      <td>114</td>\n      <td>...</td>\n      <td>0.960</td>\n      <td>13</td>\n      <td>29</td>\n      <td>42</td>\n      <td>23</td>\n      <td>8</td>\n      <td>4</td>\n      <td>14</td>\n      <td>24</td>\n      <td>-11.4</td>\n    </tr>\n    <tr>\n      <th>3</th>\n      <td>22022</td>\n      <td>1610612765</td>\n      <td>DET</td>\n      <td>Detroit Pistons</td>\n      <td>0022200091</td>\n      <td>2022-10-30</td>\n      <td>DET vs. GSW</td>\n      <td>W</td>\n      <td>240</td>\n      <td>128</td>\n      <td>...</td>\n      <td>0.895</td>\n      <td>12</td>\n      <td>35</td>\n      <td>47</td>\n      <td>24</td>\n      <td>4</td>\n      <td>3</td>\n      <td>15</td>\n      <td>25</td>\n      <td>11.8</td>\n    </tr>\n    <tr>\n      <th>4</th>\n      <td>22022</td>\n      <td>1610612756</td>\n      <td>PHX</td>\n      <td>Phoenix Suns</td>\n      <td>0022200094</td>\n      <td>2022-10-30</td>\n      <td>PHX vs. HOU</td>\n      <td>None</td>\n      <td>120</td>\n      <td>68</td>\n      <td>...</td>\n      <td>0.769</td>\n      <td>7</td>\n      <td>14</td>\n      <td>21</td>\n      <td>18</td>\n      <td>6</td>\n      <td>4</td>\n      <td>9</td>\n      <td>14</td>\n      <td>9.0</td>\n    </tr>\n    <tr>\n      <th>...</th>\n      <td>...</td>\n      <td>...</td>\n      <td>...</td>\n      <td>...</td>\n      <td>...</td>\n      <td>...</td>\n      <td>...</td>\n      <td>...</td>\n      <td>...</td>\n      <td>...</td>\n      <td>...</td>\n      <td>...</td>\n      <td>...</td>\n      <td>...</td>\n      <td>...</td>\n      <td>...</td>\n      <td>...</td>\n      <td>...</td>\n      <td>...</td>\n      <td>...</td>\n      <td>...</td>\n    </tr>\n    <tr>\n      <th>185</th>\n      <td>22022</td>\n      <td>1610612757</td>\n      <td>POR</td>\n      <td>Portland Trail Blazers</td>\n      <td>0022200014</td>\n      <td>2022-10-19</td>\n      <td>POR @ SAC</td>\n      <td>W</td>\n      <td>239</td>\n      <td>115</td>\n      <td>...</td>\n      <td>0.788</td>\n      <td>11</td>\n      <td>33</td>\n      <td>44</td>\n      <td>20</td>\n      <td>11</td>\n      <td>2</td>\n      <td>11</td>\n      <td>17</td>\n      <td>7.0</td>\n    </tr>\n    <tr>\n      <th>186</th>\n      <td>22022</td>\n      <td>1610612747</td>\n      <td>LAL</td>\n      <td>Los Angeles Lakers</td>\n      <td>0022200002</td>\n      <td>2022-10-18</td>\n      <td>LAL @ GSW</td>\n      <td>L</td>\n      <td>241</td>\n      <td>109</td>\n      <td>...</td>\n      <td>0.760</td>\n      <td>9</td>\n      <td>39</td>\n      <td>48</td>\n      <td>23</td>\n      <td>12</td>\n      <td>4</td>\n      <td>21</td>\n      <td>18</td>\n      <td>-14.0</td>\n    </tr>\n    <tr>\n      <th>187</th>\n      <td>22022</td>\n      <td>1610612744</td>\n      <td>GSW</td>\n      <td>Golden State Warriors</td>\n      <td>0022200002</td>\n      <td>2022-10-18</td>\n      <td>GSW vs. LAL</td>\n      <td>W</td>\n      <td>241</td>\n      <td>123</td>\n      <td>...</td>\n      <td>0.739</td>\n      <td>11</td>\n      <td>37</td>\n      <td>48</td>\n      <td>31</td>\n      <td>11</td>\n      <td>4</td>\n      <td>18</td>\n      <td>23</td>\n      <td>14.0</td>\n    </tr>\n    <tr>\n      <th>188</th>\n      <td>22022</td>\n      <td>1610612755</td>\n      <td>PHI</td>\n      <td>Philadelphia 76ers</td>\n      <td>0022200001</td>\n      <td>2022-10-18</td>\n      <td>PHI @ BOS</td>\n      <td>L</td>\n      <td>239</td>\n      <td>117</td>\n      <td>...</td>\n      <td>0.857</td>\n      <td>4</td>\n      <td>27</td>\n      <td>31</td>\n      <td>16</td>\n      <td>8</td>\n      <td>3</td>\n      <td>14</td>\n      <td>25</td>\n      <td>-9.0</td>\n    </tr>\n    <tr>\n      <th>189</th>\n      <td>22022</td>\n      <td>1610612738</td>\n      <td>BOS</td>\n      <td>Boston Celtics</td>\n      <td>0022200001</td>\n      <td>2022-10-18</td>\n      <td>BOS vs. PHI</td>\n      <td>W</td>\n      <td>240</td>\n      <td>126</td>\n      <td>...</td>\n      <td>0.786</td>\n      <td>6</td>\n      <td>30</td>\n      <td>36</td>\n      <td>24</td>\n      <td>8</td>\n      <td>3</td>\n      <td>10</td>\n      <td>23</td>\n      <td>9.0</td>\n    </tr>\n  </tbody>\n</table>\n<p>190 rows × 28 columns</p>\n</div>"
     },
     "execution_count": 3,
     "metadata": {},
     "output_type": "execute_result"
    }
   ],
   "source": [
    "gamefinder = leaguegamefinder.LeagueGameFinder(date_from_nullable=league_start_str, # start date\n",
    "                                               date_to_nullable=league_end_str,     # end date\n",
    "                                               league_id_nullable='00',\n",
    "                                               )\n",
    "# would be for specific date: date_from_nullable=game_date_str\n",
    "games = gamefinder.get_data_frames()[0]\n",
    "\n",
    "games"
   ],
   "metadata": {
    "collapsed": false
   }
  },
  {
   "cell_type": "code",
   "execution_count": 4,
   "outputs": [
    {
     "name": "stdout",
     "output_type": "stream",
     "text": [
      "These are unfinished games: \n",
      "They will not be considered\n"
     ]
    },
    {
     "data": {
      "text/plain": "  SEASON_ID     TEAM_ID TEAM_ABBREVIATION           TEAM_NAME     GAME_ID  \\\n0     22022  1610612747               LAL  Los Angeles Lakers  0022200095   \n1     22022  1610612743               DEN      Denver Nuggets  0022200095   \n4     22022  1610612756               PHX        Phoenix Suns  0022200094   \n5     22022  1610612745               HOU     Houston Rockets  0022200094   \n\n    GAME_DATE      MATCHUP    WL  MIN  PTS  ...  FT_PCT  OREB  DREB  REB  AST  \\\n0  2022-10-30  LAL vs. DEN  None  108   45  ...   0.750     4    16   20   11   \n1  2022-10-30    DEN @ LAL  None  108   44  ...   0.778     5    18   23   12   \n4  2022-10-30  PHX vs. HOU  None  120   68  ...   0.769     7    14   21   18   \n5  2022-10-30    HOU @ PHX  None  120   63  ...   0.714     9    13   22   10   \n\n   STL  BLK  TOV  PF  PLUS_MINUS  \n0    2    2    4   7        -1.8  \n1    1    3    5   7         1.4  \n4    6    4    9  14         9.0  \n5    6    1   10  14        -9.0  \n\n[4 rows x 28 columns]",
      "text/html": "<div>\n<style scoped>\n    .dataframe tbody tr th:only-of-type {\n        vertical-align: middle;\n    }\n\n    .dataframe tbody tr th {\n        vertical-align: top;\n    }\n\n    .dataframe thead th {\n        text-align: right;\n    }\n</style>\n<table border=\"1\" class=\"dataframe\">\n  <thead>\n    <tr style=\"text-align: right;\">\n      <th></th>\n      <th>SEASON_ID</th>\n      <th>TEAM_ID</th>\n      <th>TEAM_ABBREVIATION</th>\n      <th>TEAM_NAME</th>\n      <th>GAME_ID</th>\n      <th>GAME_DATE</th>\n      <th>MATCHUP</th>\n      <th>WL</th>\n      <th>MIN</th>\n      <th>PTS</th>\n      <th>...</th>\n      <th>FT_PCT</th>\n      <th>OREB</th>\n      <th>DREB</th>\n      <th>REB</th>\n      <th>AST</th>\n      <th>STL</th>\n      <th>BLK</th>\n      <th>TOV</th>\n      <th>PF</th>\n      <th>PLUS_MINUS</th>\n    </tr>\n  </thead>\n  <tbody>\n    <tr>\n      <th>0</th>\n      <td>22022</td>\n      <td>1610612747</td>\n      <td>LAL</td>\n      <td>Los Angeles Lakers</td>\n      <td>0022200095</td>\n      <td>2022-10-30</td>\n      <td>LAL vs. DEN</td>\n      <td>None</td>\n      <td>108</td>\n      <td>45</td>\n      <td>...</td>\n      <td>0.750</td>\n      <td>4</td>\n      <td>16</td>\n      <td>20</td>\n      <td>11</td>\n      <td>2</td>\n      <td>2</td>\n      <td>4</td>\n      <td>7</td>\n      <td>-1.8</td>\n    </tr>\n    <tr>\n      <th>1</th>\n      <td>22022</td>\n      <td>1610612743</td>\n      <td>DEN</td>\n      <td>Denver Nuggets</td>\n      <td>0022200095</td>\n      <td>2022-10-30</td>\n      <td>DEN @ LAL</td>\n      <td>None</td>\n      <td>108</td>\n      <td>44</td>\n      <td>...</td>\n      <td>0.778</td>\n      <td>5</td>\n      <td>18</td>\n      <td>23</td>\n      <td>12</td>\n      <td>1</td>\n      <td>3</td>\n      <td>5</td>\n      <td>7</td>\n      <td>1.4</td>\n    </tr>\n    <tr>\n      <th>4</th>\n      <td>22022</td>\n      <td>1610612756</td>\n      <td>PHX</td>\n      <td>Phoenix Suns</td>\n      <td>0022200094</td>\n      <td>2022-10-30</td>\n      <td>PHX vs. HOU</td>\n      <td>None</td>\n      <td>120</td>\n      <td>68</td>\n      <td>...</td>\n      <td>0.769</td>\n      <td>7</td>\n      <td>14</td>\n      <td>21</td>\n      <td>18</td>\n      <td>6</td>\n      <td>4</td>\n      <td>9</td>\n      <td>14</td>\n      <td>9.0</td>\n    </tr>\n    <tr>\n      <th>5</th>\n      <td>22022</td>\n      <td>1610612745</td>\n      <td>HOU</td>\n      <td>Houston Rockets</td>\n      <td>0022200094</td>\n      <td>2022-10-30</td>\n      <td>HOU @ PHX</td>\n      <td>None</td>\n      <td>120</td>\n      <td>63</td>\n      <td>...</td>\n      <td>0.714</td>\n      <td>9</td>\n      <td>13</td>\n      <td>22</td>\n      <td>10</td>\n      <td>6</td>\n      <td>1</td>\n      <td>10</td>\n      <td>14</td>\n      <td>-9.0</td>\n    </tr>\n  </tbody>\n</table>\n<p>4 rows × 28 columns</p>\n</div>"
     },
     "execution_count": 4,
     "metadata": {},
     "output_type": "execute_result"
    }
   ],
   "source": [
    "unfinished = games[games.WL.isnull() == True]\n",
    "print(\"These are unfinished games: \")\n",
    "\n",
    "print(\"They will not be considered\")\n",
    "unfinished"
   ],
   "metadata": {
    "collapsed": false
   }
  },
  {
   "cell_type": "code",
   "execution_count": 5,
   "outputs": [],
   "source": [
    "games = games[games.WL.isnull() == False]"
   ],
   "metadata": {
    "collapsed": false
   }
  },
  {
   "cell_type": "code",
   "execution_count": 6,
   "outputs": [
    {
     "name": "stderr",
     "output_type": "stream",
     "text": [
      "C:\\Users\\vbrozovi\\AppData\\Local\\Temp\\ipykernel_36584\\3849726044.py:6: SettingWithCopyWarning: \n",
      "A value is trying to be set on a copy of a slice from a DataFrame.\n",
      "Try using .loc[row_indexer,col_indexer] = value instead\n",
      "\n",
      "See the caveats in the documentation: https://pandas.pydata.org/pandas-docs/stable/user_guide/indexing.html#returning-a-view-versus-a-copy\n",
      "  games['OPPONENT'] = opponent\n",
      "C:\\Users\\vbrozovi\\AppData\\Local\\Temp\\ipykernel_36584\\3849726044.py:9: SettingWithCopyWarning: \n",
      "A value is trying to be set on a copy of a slice from a DataFrame.\n",
      "Try using .loc[row_indexer,col_indexer] = value instead\n",
      "\n",
      "See the caveats in the documentation: https://pandas.pydata.org/pandas-docs/stable/user_guide/indexing.html#returning-a-view-versus-a-copy\n",
      "  games['IS_HOME'] = 1\n",
      "C:\\Users\\vbrozovi\\AppData\\Local\\Temp\\ipykernel_36584\\3849726044.py:13: SettingWithCopyWarning: \n",
      "A value is trying to be set on a copy of a slice from a DataFrame.\n",
      "Try using .loc[row_indexer,col_indexer] = value instead\n",
      "\n",
      "See the caveats in the documentation: https://pandas.pydata.org/pandas-docs/stable/user_guide/indexing.html#returning-a-view-versus-a-copy\n",
      "  games['IS_WIN'] = 1\n"
     ]
    }
   ],
   "source": [
    "# Add additional information in separate columns from MATCHDAY\n",
    "\n",
    "# Add a column about an opponent - always in matchup\n",
    "\n",
    "opponent = games['MATCHUP'].str[-3:]\n",
    "games['OPPONENT'] = opponent\n",
    "\n",
    "# Is it a home or away game? > first set all to home then change those having @ to away\n",
    "games['IS_HOME'] = 1\n",
    "games.loc[games['MATCHUP'].str.contains('@'), 'IS_HOME'] = 0\n",
    "\n",
    "# Add actual countable Wins\n",
    "games['IS_WIN'] = 1\n",
    "games.loc[games['WL'] == 'L', 'IS_WIN'] = 0"
   ],
   "metadata": {
    "collapsed": false
   }
  },
  {
   "cell_type": "code",
   "execution_count": 7,
   "outputs": [
    {
     "data": {
      "text/plain": "    SEASON_ID     TEAM_ID TEAM_ABBREVIATION               TEAM_NAME  \\\n2       22022  1610612744               GSW   Golden State Warriors   \n3       22022  1610612765               DET         Detroit Pistons   \n6       22022  1610612750               MIN  Minnesota Timberwolves   \n7       22022  1610612759               SAS       San Antonio Spurs   \n8       22022  1610612746               LAC             LA Clippers   \n..        ...         ...               ...                     ...   \n185     22022  1610612757               POR  Portland Trail Blazers   \n186     22022  1610612747               LAL      Los Angeles Lakers   \n187     22022  1610612744               GSW   Golden State Warriors   \n188     22022  1610612755               PHI      Philadelphia 76ers   \n189     22022  1610612738               BOS          Boston Celtics   \n\n        GAME_ID   GAME_DATE      MATCHUP WL  MIN  PTS  ...  REB  AST  STL  \\\n2    0022200091  2022-10-30    GSW @ DET  L  241  114  ...   42   23    8   \n3    0022200091  2022-10-30  DET vs. GSW  W  240  128  ...   47   24    4   \n6    0022200092  2022-10-30    MIN @ SAS  L  239   98  ...   45   21   11   \n7    0022200092  2022-10-30  SAS vs. MIN  W  240  107  ...   52   27    6   \n8    0022200088  2022-10-30  LAC vs. NOP  L  241   91  ...   39   24    3   \n..          ...         ...          ... ..  ...  ...  ...  ...  ...  ...   \n185  0022200014  2022-10-19    POR @ SAC  W  239  115  ...   44   20   11   \n186  0022200002  2022-10-18    LAL @ GSW  L  241  109  ...   48   23   12   \n187  0022200002  2022-10-18  GSW vs. LAL  W  241  123  ...   48   31   11   \n188  0022200001  2022-10-18    PHI @ BOS  L  239  117  ...   31   16    8   \n189  0022200001  2022-10-18  BOS vs. PHI  W  240  126  ...   36   24    8   \n\n     BLK  TOV  PF  PLUS_MINUS  OPPONENT  IS_HOME  IS_WIN  \n2      4   14  24       -11.4       DET        0       0  \n3      3   15  25        11.8       GSW        1       1  \n6      7   11  23       -15.8       SAS        0       0  \n7      7   19  21        18.2       MIN        1       1  \n8      6   14  15       -21.0       NOP        1       0  \n..   ...  ...  ..         ...       ...      ...     ...  \n185    2   11  17         7.0       SAC        0       1  \n186    4   21  18       -14.0       GSW        0       0  \n187    4   18  23        14.0       LAL        1       1  \n188    3   14  25        -9.0       BOS        0       0  \n189    3   10  23         9.0       PHI        1       1  \n\n[186 rows x 31 columns]",
      "text/html": "<div>\n<style scoped>\n    .dataframe tbody tr th:only-of-type {\n        vertical-align: middle;\n    }\n\n    .dataframe tbody tr th {\n        vertical-align: top;\n    }\n\n    .dataframe thead th {\n        text-align: right;\n    }\n</style>\n<table border=\"1\" class=\"dataframe\">\n  <thead>\n    <tr style=\"text-align: right;\">\n      <th></th>\n      <th>SEASON_ID</th>\n      <th>TEAM_ID</th>\n      <th>TEAM_ABBREVIATION</th>\n      <th>TEAM_NAME</th>\n      <th>GAME_ID</th>\n      <th>GAME_DATE</th>\n      <th>MATCHUP</th>\n      <th>WL</th>\n      <th>MIN</th>\n      <th>PTS</th>\n      <th>...</th>\n      <th>REB</th>\n      <th>AST</th>\n      <th>STL</th>\n      <th>BLK</th>\n      <th>TOV</th>\n      <th>PF</th>\n      <th>PLUS_MINUS</th>\n      <th>OPPONENT</th>\n      <th>IS_HOME</th>\n      <th>IS_WIN</th>\n    </tr>\n  </thead>\n  <tbody>\n    <tr>\n      <th>2</th>\n      <td>22022</td>\n      <td>1610612744</td>\n      <td>GSW</td>\n      <td>Golden State Warriors</td>\n      <td>0022200091</td>\n      <td>2022-10-30</td>\n      <td>GSW @ DET</td>\n      <td>L</td>\n      <td>241</td>\n      <td>114</td>\n      <td>...</td>\n      <td>42</td>\n      <td>23</td>\n      <td>8</td>\n      <td>4</td>\n      <td>14</td>\n      <td>24</td>\n      <td>-11.4</td>\n      <td>DET</td>\n      <td>0</td>\n      <td>0</td>\n    </tr>\n    <tr>\n      <th>3</th>\n      <td>22022</td>\n      <td>1610612765</td>\n      <td>DET</td>\n      <td>Detroit Pistons</td>\n      <td>0022200091</td>\n      <td>2022-10-30</td>\n      <td>DET vs. GSW</td>\n      <td>W</td>\n      <td>240</td>\n      <td>128</td>\n      <td>...</td>\n      <td>47</td>\n      <td>24</td>\n      <td>4</td>\n      <td>3</td>\n      <td>15</td>\n      <td>25</td>\n      <td>11.8</td>\n      <td>GSW</td>\n      <td>1</td>\n      <td>1</td>\n    </tr>\n    <tr>\n      <th>6</th>\n      <td>22022</td>\n      <td>1610612750</td>\n      <td>MIN</td>\n      <td>Minnesota Timberwolves</td>\n      <td>0022200092</td>\n      <td>2022-10-30</td>\n      <td>MIN @ SAS</td>\n      <td>L</td>\n      <td>239</td>\n      <td>98</td>\n      <td>...</td>\n      <td>45</td>\n      <td>21</td>\n      <td>11</td>\n      <td>7</td>\n      <td>11</td>\n      <td>23</td>\n      <td>-15.8</td>\n      <td>SAS</td>\n      <td>0</td>\n      <td>0</td>\n    </tr>\n    <tr>\n      <th>7</th>\n      <td>22022</td>\n      <td>1610612759</td>\n      <td>SAS</td>\n      <td>San Antonio Spurs</td>\n      <td>0022200092</td>\n      <td>2022-10-30</td>\n      <td>SAS vs. MIN</td>\n      <td>W</td>\n      <td>240</td>\n      <td>107</td>\n      <td>...</td>\n      <td>52</td>\n      <td>27</td>\n      <td>6</td>\n      <td>7</td>\n      <td>19</td>\n      <td>21</td>\n      <td>18.2</td>\n      <td>MIN</td>\n      <td>1</td>\n      <td>1</td>\n    </tr>\n    <tr>\n      <th>8</th>\n      <td>22022</td>\n      <td>1610612746</td>\n      <td>LAC</td>\n      <td>LA Clippers</td>\n      <td>0022200088</td>\n      <td>2022-10-30</td>\n      <td>LAC vs. NOP</td>\n      <td>L</td>\n      <td>241</td>\n      <td>91</td>\n      <td>...</td>\n      <td>39</td>\n      <td>24</td>\n      <td>3</td>\n      <td>6</td>\n      <td>14</td>\n      <td>15</td>\n      <td>-21.0</td>\n      <td>NOP</td>\n      <td>1</td>\n      <td>0</td>\n    </tr>\n    <tr>\n      <th>...</th>\n      <td>...</td>\n      <td>...</td>\n      <td>...</td>\n      <td>...</td>\n      <td>...</td>\n      <td>...</td>\n      <td>...</td>\n      <td>...</td>\n      <td>...</td>\n      <td>...</td>\n      <td>...</td>\n      <td>...</td>\n      <td>...</td>\n      <td>...</td>\n      <td>...</td>\n      <td>...</td>\n      <td>...</td>\n      <td>...</td>\n      <td>...</td>\n      <td>...</td>\n      <td>...</td>\n    </tr>\n    <tr>\n      <th>185</th>\n      <td>22022</td>\n      <td>1610612757</td>\n      <td>POR</td>\n      <td>Portland Trail Blazers</td>\n      <td>0022200014</td>\n      <td>2022-10-19</td>\n      <td>POR @ SAC</td>\n      <td>W</td>\n      <td>239</td>\n      <td>115</td>\n      <td>...</td>\n      <td>44</td>\n      <td>20</td>\n      <td>11</td>\n      <td>2</td>\n      <td>11</td>\n      <td>17</td>\n      <td>7.0</td>\n      <td>SAC</td>\n      <td>0</td>\n      <td>1</td>\n    </tr>\n    <tr>\n      <th>186</th>\n      <td>22022</td>\n      <td>1610612747</td>\n      <td>LAL</td>\n      <td>Los Angeles Lakers</td>\n      <td>0022200002</td>\n      <td>2022-10-18</td>\n      <td>LAL @ GSW</td>\n      <td>L</td>\n      <td>241</td>\n      <td>109</td>\n      <td>...</td>\n      <td>48</td>\n      <td>23</td>\n      <td>12</td>\n      <td>4</td>\n      <td>21</td>\n      <td>18</td>\n      <td>-14.0</td>\n      <td>GSW</td>\n      <td>0</td>\n      <td>0</td>\n    </tr>\n    <tr>\n      <th>187</th>\n      <td>22022</td>\n      <td>1610612744</td>\n      <td>GSW</td>\n      <td>Golden State Warriors</td>\n      <td>0022200002</td>\n      <td>2022-10-18</td>\n      <td>GSW vs. LAL</td>\n      <td>W</td>\n      <td>241</td>\n      <td>123</td>\n      <td>...</td>\n      <td>48</td>\n      <td>31</td>\n      <td>11</td>\n      <td>4</td>\n      <td>18</td>\n      <td>23</td>\n      <td>14.0</td>\n      <td>LAL</td>\n      <td>1</td>\n      <td>1</td>\n    </tr>\n    <tr>\n      <th>188</th>\n      <td>22022</td>\n      <td>1610612755</td>\n      <td>PHI</td>\n      <td>Philadelphia 76ers</td>\n      <td>0022200001</td>\n      <td>2022-10-18</td>\n      <td>PHI @ BOS</td>\n      <td>L</td>\n      <td>239</td>\n      <td>117</td>\n      <td>...</td>\n      <td>31</td>\n      <td>16</td>\n      <td>8</td>\n      <td>3</td>\n      <td>14</td>\n      <td>25</td>\n      <td>-9.0</td>\n      <td>BOS</td>\n      <td>0</td>\n      <td>0</td>\n    </tr>\n    <tr>\n      <th>189</th>\n      <td>22022</td>\n      <td>1610612738</td>\n      <td>BOS</td>\n      <td>Boston Celtics</td>\n      <td>0022200001</td>\n      <td>2022-10-18</td>\n      <td>BOS vs. PHI</td>\n      <td>W</td>\n      <td>240</td>\n      <td>126</td>\n      <td>...</td>\n      <td>36</td>\n      <td>24</td>\n      <td>8</td>\n      <td>3</td>\n      <td>10</td>\n      <td>23</td>\n      <td>9.0</td>\n      <td>PHI</td>\n      <td>1</td>\n      <td>1</td>\n    </tr>\n  </tbody>\n</table>\n<p>186 rows × 31 columns</p>\n</div>"
     },
     "execution_count": 7,
     "metadata": {},
     "output_type": "execute_result"
    }
   ],
   "source": [
    "games"
   ],
   "metadata": {
    "collapsed": false
   }
  },
  {
   "cell_type": "code",
   "execution_count": 8,
   "outputs": [
    {
     "data": {
      "text/plain": "       TEAM_ID TEAM_ABBREVIATION               TEAM_NAME\n2   1610612744               GSW   Golden State Warriors\n3   1610612765               DET         Detroit Pistons\n6   1610612750               MIN  Minnesota Timberwolves\n7   1610612759               SAS       San Antonio Spurs\n8   1610612746               LAC             LA Clippers\n9   1610612740               NOP    New Orleans Pelicans\n10  1610612752               NYK         New York Knicks\n11  1610612739               CLE     Cleveland Cavaliers\n12  1610612742               DAL        Dallas Mavericks\n13  1610612753               ORL           Orlando Magic\n14  1610612764               WAS      Washington Wizards\n15  1610612738               BOS          Boston Celtics\n16  1610612748               MIA              Miami Heat\n17  1610612758               SAC        Sacramento Kings\n18  1610612762               UTA               Utah Jazz\n19  1610612763               MEM       Memphis Grizzlies\n20  1610612766               CHA       Charlotte Hornets\n23  1610612760               OKC   Oklahoma City Thunder\n24  1610612755               PHI      Philadelphia 76ers\n25  1610612741               CHI           Chicago Bulls\n26  1610612737               ATL           Atlanta Hawks\n27  1610612749               MIL         Milwaukee Bucks\n28  1610612751               BKN           Brooklyn Nets\n29  1610612754               IND          Indiana Pacers\n30  1610612745               HOU         Houston Rockets\n31  1610612757               POR  Portland Trail Blazers\n35  1610612747               LAL      Los Angeles Lakers\n38  1610612743               DEN          Denver Nuggets\n43  1610612761               TOR         Toronto Raptors\n47  1610612756               PHX            Phoenix Suns",
      "text/html": "<div>\n<style scoped>\n    .dataframe tbody tr th:only-of-type {\n        vertical-align: middle;\n    }\n\n    .dataframe tbody tr th {\n        vertical-align: top;\n    }\n\n    .dataframe thead th {\n        text-align: right;\n    }\n</style>\n<table border=\"1\" class=\"dataframe\">\n  <thead>\n    <tr style=\"text-align: right;\">\n      <th></th>\n      <th>TEAM_ID</th>\n      <th>TEAM_ABBREVIATION</th>\n      <th>TEAM_NAME</th>\n    </tr>\n  </thead>\n  <tbody>\n    <tr>\n      <th>2</th>\n      <td>1610612744</td>\n      <td>GSW</td>\n      <td>Golden State Warriors</td>\n    </tr>\n    <tr>\n      <th>3</th>\n      <td>1610612765</td>\n      <td>DET</td>\n      <td>Detroit Pistons</td>\n    </tr>\n    <tr>\n      <th>6</th>\n      <td>1610612750</td>\n      <td>MIN</td>\n      <td>Minnesota Timberwolves</td>\n    </tr>\n    <tr>\n      <th>7</th>\n      <td>1610612759</td>\n      <td>SAS</td>\n      <td>San Antonio Spurs</td>\n    </tr>\n    <tr>\n      <th>8</th>\n      <td>1610612746</td>\n      <td>LAC</td>\n      <td>LA Clippers</td>\n    </tr>\n    <tr>\n      <th>9</th>\n      <td>1610612740</td>\n      <td>NOP</td>\n      <td>New Orleans Pelicans</td>\n    </tr>\n    <tr>\n      <th>10</th>\n      <td>1610612752</td>\n      <td>NYK</td>\n      <td>New York Knicks</td>\n    </tr>\n    <tr>\n      <th>11</th>\n      <td>1610612739</td>\n      <td>CLE</td>\n      <td>Cleveland Cavaliers</td>\n    </tr>\n    <tr>\n      <th>12</th>\n      <td>1610612742</td>\n      <td>DAL</td>\n      <td>Dallas Mavericks</td>\n    </tr>\n    <tr>\n      <th>13</th>\n      <td>1610612753</td>\n      <td>ORL</td>\n      <td>Orlando Magic</td>\n    </tr>\n    <tr>\n      <th>14</th>\n      <td>1610612764</td>\n      <td>WAS</td>\n      <td>Washington Wizards</td>\n    </tr>\n    <tr>\n      <th>15</th>\n      <td>1610612738</td>\n      <td>BOS</td>\n      <td>Boston Celtics</td>\n    </tr>\n    <tr>\n      <th>16</th>\n      <td>1610612748</td>\n      <td>MIA</td>\n      <td>Miami Heat</td>\n    </tr>\n    <tr>\n      <th>17</th>\n      <td>1610612758</td>\n      <td>SAC</td>\n      <td>Sacramento Kings</td>\n    </tr>\n    <tr>\n      <th>18</th>\n      <td>1610612762</td>\n      <td>UTA</td>\n      <td>Utah Jazz</td>\n    </tr>\n    <tr>\n      <th>19</th>\n      <td>1610612763</td>\n      <td>MEM</td>\n      <td>Memphis Grizzlies</td>\n    </tr>\n    <tr>\n      <th>20</th>\n      <td>1610612766</td>\n      <td>CHA</td>\n      <td>Charlotte Hornets</td>\n    </tr>\n    <tr>\n      <th>23</th>\n      <td>1610612760</td>\n      <td>OKC</td>\n      <td>Oklahoma City Thunder</td>\n    </tr>\n    <tr>\n      <th>24</th>\n      <td>1610612755</td>\n      <td>PHI</td>\n      <td>Philadelphia 76ers</td>\n    </tr>\n    <tr>\n      <th>25</th>\n      <td>1610612741</td>\n      <td>CHI</td>\n      <td>Chicago Bulls</td>\n    </tr>\n    <tr>\n      <th>26</th>\n      <td>1610612737</td>\n      <td>ATL</td>\n      <td>Atlanta Hawks</td>\n    </tr>\n    <tr>\n      <th>27</th>\n      <td>1610612749</td>\n      <td>MIL</td>\n      <td>Milwaukee Bucks</td>\n    </tr>\n    <tr>\n      <th>28</th>\n      <td>1610612751</td>\n      <td>BKN</td>\n      <td>Brooklyn Nets</td>\n    </tr>\n    <tr>\n      <th>29</th>\n      <td>1610612754</td>\n      <td>IND</td>\n      <td>Indiana Pacers</td>\n    </tr>\n    <tr>\n      <th>30</th>\n      <td>1610612745</td>\n      <td>HOU</td>\n      <td>Houston Rockets</td>\n    </tr>\n    <tr>\n      <th>31</th>\n      <td>1610612757</td>\n      <td>POR</td>\n      <td>Portland Trail Blazers</td>\n    </tr>\n    <tr>\n      <th>35</th>\n      <td>1610612747</td>\n      <td>LAL</td>\n      <td>Los Angeles Lakers</td>\n    </tr>\n    <tr>\n      <th>38</th>\n      <td>1610612743</td>\n      <td>DEN</td>\n      <td>Denver Nuggets</td>\n    </tr>\n    <tr>\n      <th>43</th>\n      <td>1610612761</td>\n      <td>TOR</td>\n      <td>Toronto Raptors</td>\n    </tr>\n    <tr>\n      <th>47</th>\n      <td>1610612756</td>\n      <td>PHX</td>\n      <td>Phoenix Suns</td>\n    </tr>\n  </tbody>\n</table>\n</div>"
     },
     "execution_count": 8,
     "metadata": {},
     "output_type": "execute_result"
    }
   ],
   "source": [
    "teams = games.drop_duplicates(['TEAM_ID','TEAM_ABBREVIATION','TEAM_NAME'])[['TEAM_ID','TEAM_ABBREVIATION','TEAM_NAME']]\n",
    "teams"
   ],
   "metadata": {
    "collapsed": false
   }
  },
  {
   "cell_type": "code",
   "execution_count": 9,
   "outputs": [
    {
     "data": {
      "text/plain": "       TEAM_ID TEAM_ABBREVIATION               TEAM_NAME TEAM_OWNER  TEAM_PICK\n0   1610612745               HOU         Houston Rockets      Miran         10\n1   1610612761               TOR         Toronto Raptors      Miran          2\n2   1610612763               MEM       Memphis Grizzlies      Miran          3\n3   1610612765               DET         Detroit Pistons      Miran          8\n4   1610612755               PHI      Philadelphia 76ers      Miran          1\n5   1610612754               IND          Indiana Pacers      Miran          9\n6   1610612737               ATL           Atlanta Hawks      Miran          6\n7   1610612750               MIN  Minnesota Timberwolves      Miran          5\n8   1610612756               PHX            Phoenix Suns      Miran          4\n9   1610612752               NYK         New York Knicks      Miran          7\n10  1610612746               LAC             LA Clippers       Tata          3\n11  1610612758               SAC        Sacramento Kings       Tata         10\n12  1610612748               MIA              Miami Heat       Tata          4\n13  1610612742               DAL        Dallas Mavericks       Tata          1\n14  1610612760               OKC   Oklahoma City Thunder       Tata          7\n15  1610612753               ORL           Orlando Magic       Tata          6\n16  1610612740               NOP    New Orleans Pelicans       Tata          5\n17  1610612766               CHA       Charlotte Hornets       Tata          9\n18  1610612764               WAS      Washington Wizards       Tata          8\n19  1610612744               GSW   Golden State Warriors       Tata          2\n20  1610612749               MIL         Milwaukee Bucks     Vedran          1\n21  1610612743               DEN          Denver Nuggets     Vedran          3\n22  1610612759               SAS       San Antonio Spurs     Vedran         10\n23  1610612738               BOS          Boston Celtics     Vedran          2\n24  1610612739               CLE     Cleveland Cavaliers     Vedran          8\n25  1610612741               CHI           Chicago Bulls     Vedran          7\n26  1610612751               BKN           Brooklyn Nets     Vedran          4\n27  1610612757               POR  Portland Trail Blazers     Vedran          5\n28  1610612762               UTA               Utah Jazz     Vedran          9\n29  1610612747               LAL      Los Angeles Lakers     Vedran          6",
      "text/html": "<div>\n<style scoped>\n    .dataframe tbody tr th:only-of-type {\n        vertical-align: middle;\n    }\n\n    .dataframe tbody tr th {\n        vertical-align: top;\n    }\n\n    .dataframe thead th {\n        text-align: right;\n    }\n</style>\n<table border=\"1\" class=\"dataframe\">\n  <thead>\n    <tr style=\"text-align: right;\">\n      <th></th>\n      <th>TEAM_ID</th>\n      <th>TEAM_ABBREVIATION</th>\n      <th>TEAM_NAME</th>\n      <th>TEAM_OWNER</th>\n      <th>TEAM_PICK</th>\n    </tr>\n  </thead>\n  <tbody>\n    <tr>\n      <th>0</th>\n      <td>1610612745</td>\n      <td>HOU</td>\n      <td>Houston Rockets</td>\n      <td>Miran</td>\n      <td>10</td>\n    </tr>\n    <tr>\n      <th>1</th>\n      <td>1610612761</td>\n      <td>TOR</td>\n      <td>Toronto Raptors</td>\n      <td>Miran</td>\n      <td>2</td>\n    </tr>\n    <tr>\n      <th>2</th>\n      <td>1610612763</td>\n      <td>MEM</td>\n      <td>Memphis Grizzlies</td>\n      <td>Miran</td>\n      <td>3</td>\n    </tr>\n    <tr>\n      <th>3</th>\n      <td>1610612765</td>\n      <td>DET</td>\n      <td>Detroit Pistons</td>\n      <td>Miran</td>\n      <td>8</td>\n    </tr>\n    <tr>\n      <th>4</th>\n      <td>1610612755</td>\n      <td>PHI</td>\n      <td>Philadelphia 76ers</td>\n      <td>Miran</td>\n      <td>1</td>\n    </tr>\n    <tr>\n      <th>5</th>\n      <td>1610612754</td>\n      <td>IND</td>\n      <td>Indiana Pacers</td>\n      <td>Miran</td>\n      <td>9</td>\n    </tr>\n    <tr>\n      <th>6</th>\n      <td>1610612737</td>\n      <td>ATL</td>\n      <td>Atlanta Hawks</td>\n      <td>Miran</td>\n      <td>6</td>\n    </tr>\n    <tr>\n      <th>7</th>\n      <td>1610612750</td>\n      <td>MIN</td>\n      <td>Minnesota Timberwolves</td>\n      <td>Miran</td>\n      <td>5</td>\n    </tr>\n    <tr>\n      <th>8</th>\n      <td>1610612756</td>\n      <td>PHX</td>\n      <td>Phoenix Suns</td>\n      <td>Miran</td>\n      <td>4</td>\n    </tr>\n    <tr>\n      <th>9</th>\n      <td>1610612752</td>\n      <td>NYK</td>\n      <td>New York Knicks</td>\n      <td>Miran</td>\n      <td>7</td>\n    </tr>\n    <tr>\n      <th>10</th>\n      <td>1610612746</td>\n      <td>LAC</td>\n      <td>LA Clippers</td>\n      <td>Tata</td>\n      <td>3</td>\n    </tr>\n    <tr>\n      <th>11</th>\n      <td>1610612758</td>\n      <td>SAC</td>\n      <td>Sacramento Kings</td>\n      <td>Tata</td>\n      <td>10</td>\n    </tr>\n    <tr>\n      <th>12</th>\n      <td>1610612748</td>\n      <td>MIA</td>\n      <td>Miami Heat</td>\n      <td>Tata</td>\n      <td>4</td>\n    </tr>\n    <tr>\n      <th>13</th>\n      <td>1610612742</td>\n      <td>DAL</td>\n      <td>Dallas Mavericks</td>\n      <td>Tata</td>\n      <td>1</td>\n    </tr>\n    <tr>\n      <th>14</th>\n      <td>1610612760</td>\n      <td>OKC</td>\n      <td>Oklahoma City Thunder</td>\n      <td>Tata</td>\n      <td>7</td>\n    </tr>\n    <tr>\n      <th>15</th>\n      <td>1610612753</td>\n      <td>ORL</td>\n      <td>Orlando Magic</td>\n      <td>Tata</td>\n      <td>6</td>\n    </tr>\n    <tr>\n      <th>16</th>\n      <td>1610612740</td>\n      <td>NOP</td>\n      <td>New Orleans Pelicans</td>\n      <td>Tata</td>\n      <td>5</td>\n    </tr>\n    <tr>\n      <th>17</th>\n      <td>1610612766</td>\n      <td>CHA</td>\n      <td>Charlotte Hornets</td>\n      <td>Tata</td>\n      <td>9</td>\n    </tr>\n    <tr>\n      <th>18</th>\n      <td>1610612764</td>\n      <td>WAS</td>\n      <td>Washington Wizards</td>\n      <td>Tata</td>\n      <td>8</td>\n    </tr>\n    <tr>\n      <th>19</th>\n      <td>1610612744</td>\n      <td>GSW</td>\n      <td>Golden State Warriors</td>\n      <td>Tata</td>\n      <td>2</td>\n    </tr>\n    <tr>\n      <th>20</th>\n      <td>1610612749</td>\n      <td>MIL</td>\n      <td>Milwaukee Bucks</td>\n      <td>Vedran</td>\n      <td>1</td>\n    </tr>\n    <tr>\n      <th>21</th>\n      <td>1610612743</td>\n      <td>DEN</td>\n      <td>Denver Nuggets</td>\n      <td>Vedran</td>\n      <td>3</td>\n    </tr>\n    <tr>\n      <th>22</th>\n      <td>1610612759</td>\n      <td>SAS</td>\n      <td>San Antonio Spurs</td>\n      <td>Vedran</td>\n      <td>10</td>\n    </tr>\n    <tr>\n      <th>23</th>\n      <td>1610612738</td>\n      <td>BOS</td>\n      <td>Boston Celtics</td>\n      <td>Vedran</td>\n      <td>2</td>\n    </tr>\n    <tr>\n      <th>24</th>\n      <td>1610612739</td>\n      <td>CLE</td>\n      <td>Cleveland Cavaliers</td>\n      <td>Vedran</td>\n      <td>8</td>\n    </tr>\n    <tr>\n      <th>25</th>\n      <td>1610612741</td>\n      <td>CHI</td>\n      <td>Chicago Bulls</td>\n      <td>Vedran</td>\n      <td>7</td>\n    </tr>\n    <tr>\n      <th>26</th>\n      <td>1610612751</td>\n      <td>BKN</td>\n      <td>Brooklyn Nets</td>\n      <td>Vedran</td>\n      <td>4</td>\n    </tr>\n    <tr>\n      <th>27</th>\n      <td>1610612757</td>\n      <td>POR</td>\n      <td>Portland Trail Blazers</td>\n      <td>Vedran</td>\n      <td>5</td>\n    </tr>\n    <tr>\n      <th>28</th>\n      <td>1610612762</td>\n      <td>UTA</td>\n      <td>Utah Jazz</td>\n      <td>Vedran</td>\n      <td>9</td>\n    </tr>\n    <tr>\n      <th>29</th>\n      <td>1610612747</td>\n      <td>LAL</td>\n      <td>Los Angeles Lakers</td>\n      <td>Vedran</td>\n      <td>6</td>\n    </tr>\n  </tbody>\n</table>\n</div>"
     },
     "execution_count": 9,
     "metadata": {},
     "output_type": "execute_result"
    }
   ],
   "source": [
    "# Now we're actually importing the team selection (probably I want to move this the very start later on)\n",
    "# I used the drop duplicates to match it, could pull from static api\n",
    "\n",
    "# For now, setup the .txt file with the same fields (add TEAM_OWNER & TEAM_PICK) and change the URL string to match it\n",
    "url ='https://raw.githubusercontent.com/vedranbrozovic/NBA_fantasy-tams/main/Team_selection.txt'\n",
    "team_selection = pd.read_csv(url,sep='\\t')\n",
    "team_selection\n"
   ],
   "metadata": {
    "collapsed": false
   }
  },
  {
   "cell_type": "code",
   "execution_count": 10,
   "outputs": [],
   "source": [
    "# Add info on the team owner & pick number to the games dataframe\n",
    "team_selection_df = team_selection[['TEAM_ID','TEAM_OWNER','TEAM_PICK']]\n",
    "\n",
    "games = pd.merge(games, team_selection_df, on=[\"TEAM_ID\"])\n",
    "\n"
   ],
   "metadata": {
    "collapsed": false
   }
  },
  {
   "cell_type": "code",
   "execution_count": 11,
   "outputs": [
    {
     "data": {
      "text/plain": "    SEASON_ID     TEAM_ID TEAM_ABBREVIATION               TEAM_NAME  \\\n0       22022  1610612744               GSW   Golden State Warriors   \n1       22022  1610612752               NYK         New York Knicks   \n2       22022  1610612753               ORL           Orlando Magic   \n3       22022  1610612764               WAS      Washington Wizards   \n4       22022  1610612737               ATL           Atlanta Hawks   \n..        ...         ...               ...                     ...   \n181     22022  1610612762               UTA               Utah Jazz   \n182     22022  1610612763               MEM       Memphis Grizzlies   \n183     22022  1610612737               ATL           Atlanta Hawks   \n184     22022  1610612749               MIL         Milwaukee Bucks   \n185     22022  1610612757               POR  Portland Trail Blazers   \n\n        GAME_ID   GAME_DATE      MATCHUP WL  MIN  PTS  ...  BLK  TOV  PF  \\\n0    0022200091  2022-10-30    GSW @ DET  L  241  114  ...    4   14  24   \n1    0022200023  2022-10-21  NYK vs. DET  W  239  130  ...    6   12  26   \n2    0022200003  2022-10-19    ORL @ DET  L  240  109  ...    5   18  23   \n3    0022200052  2022-10-25  WAS vs. DET  W  241  120  ...    7   11  20   \n4    0022200070  2022-10-28    ATL @ DET  W  241  136  ...    8    6  26   \n..          ...         ...          ... ..  ...  ...  ...  ...  ...  ..   \n181  0022200048  2022-10-24    UTA @ HOU  L  239  108  ...   10   20  27   \n182  0022200024  2022-10-21    MEM @ HOU  W  240  129  ...   10   12  20   \n183  0022200005  2022-10-19  ATL vs. HOU  W  240  117  ...    5    9  18   \n184  0022200033  2022-10-22  MIL vs. HOU  W  241  125  ...   10   16  22   \n185  0022200080  2022-10-28  POR vs. HOU  W  240  125  ...    6   15  19   \n\n     PLUS_MINUS  OPPONENT  IS_HOME  IS_WIN  TEAM_OWNER  TEAM_PICK  \\\n0         -11.4       DET        0       0        Tata          2   \n1          24.0       DET        1       1       Miran          7   \n2          -4.0       DET        0       0        Tata          6   \n3          21.0       DET        1       1        Tata          8   \n4          24.0       DET        0       1       Miran          6   \n..          ...       ...      ...     ...         ...        ...   \n181        -6.0       HOU        0       0      Vedran          9   \n182         7.0       HOU        0       1       Miran          3   \n183        10.0       HOU        1       1       Miran          6   \n184        20.0       HOU        1       1      Vedran          1   \n185        14.0       HOU        1       1      Vedran          5   \n\n     OPPOSING_OWNER  \n0             Miran  \n1             Miran  \n2             Miran  \n3             Miran  \n4             Miran  \n..              ...  \n181           Miran  \n182           Miran  \n183           Miran  \n184           Miran  \n185           Miran  \n\n[186 rows x 34 columns]",
      "text/html": "<div>\n<style scoped>\n    .dataframe tbody tr th:only-of-type {\n        vertical-align: middle;\n    }\n\n    .dataframe tbody tr th {\n        vertical-align: top;\n    }\n\n    .dataframe thead th {\n        text-align: right;\n    }\n</style>\n<table border=\"1\" class=\"dataframe\">\n  <thead>\n    <tr style=\"text-align: right;\">\n      <th></th>\n      <th>SEASON_ID</th>\n      <th>TEAM_ID</th>\n      <th>TEAM_ABBREVIATION</th>\n      <th>TEAM_NAME</th>\n      <th>GAME_ID</th>\n      <th>GAME_DATE</th>\n      <th>MATCHUP</th>\n      <th>WL</th>\n      <th>MIN</th>\n      <th>PTS</th>\n      <th>...</th>\n      <th>BLK</th>\n      <th>TOV</th>\n      <th>PF</th>\n      <th>PLUS_MINUS</th>\n      <th>OPPONENT</th>\n      <th>IS_HOME</th>\n      <th>IS_WIN</th>\n      <th>TEAM_OWNER</th>\n      <th>TEAM_PICK</th>\n      <th>OPPOSING_OWNER</th>\n    </tr>\n  </thead>\n  <tbody>\n    <tr>\n      <th>0</th>\n      <td>22022</td>\n      <td>1610612744</td>\n      <td>GSW</td>\n      <td>Golden State Warriors</td>\n      <td>0022200091</td>\n      <td>2022-10-30</td>\n      <td>GSW @ DET</td>\n      <td>L</td>\n      <td>241</td>\n      <td>114</td>\n      <td>...</td>\n      <td>4</td>\n      <td>14</td>\n      <td>24</td>\n      <td>-11.4</td>\n      <td>DET</td>\n      <td>0</td>\n      <td>0</td>\n      <td>Tata</td>\n      <td>2</td>\n      <td>Miran</td>\n    </tr>\n    <tr>\n      <th>1</th>\n      <td>22022</td>\n      <td>1610612752</td>\n      <td>NYK</td>\n      <td>New York Knicks</td>\n      <td>0022200023</td>\n      <td>2022-10-21</td>\n      <td>NYK vs. DET</td>\n      <td>W</td>\n      <td>239</td>\n      <td>130</td>\n      <td>...</td>\n      <td>6</td>\n      <td>12</td>\n      <td>26</td>\n      <td>24.0</td>\n      <td>DET</td>\n      <td>1</td>\n      <td>1</td>\n      <td>Miran</td>\n      <td>7</td>\n      <td>Miran</td>\n    </tr>\n    <tr>\n      <th>2</th>\n      <td>22022</td>\n      <td>1610612753</td>\n      <td>ORL</td>\n      <td>Orlando Magic</td>\n      <td>0022200003</td>\n      <td>2022-10-19</td>\n      <td>ORL @ DET</td>\n      <td>L</td>\n      <td>240</td>\n      <td>109</td>\n      <td>...</td>\n      <td>5</td>\n      <td>18</td>\n      <td>23</td>\n      <td>-4.0</td>\n      <td>DET</td>\n      <td>0</td>\n      <td>0</td>\n      <td>Tata</td>\n      <td>6</td>\n      <td>Miran</td>\n    </tr>\n    <tr>\n      <th>3</th>\n      <td>22022</td>\n      <td>1610612764</td>\n      <td>WAS</td>\n      <td>Washington Wizards</td>\n      <td>0022200052</td>\n      <td>2022-10-25</td>\n      <td>WAS vs. DET</td>\n      <td>W</td>\n      <td>241</td>\n      <td>120</td>\n      <td>...</td>\n      <td>7</td>\n      <td>11</td>\n      <td>20</td>\n      <td>21.0</td>\n      <td>DET</td>\n      <td>1</td>\n      <td>1</td>\n      <td>Tata</td>\n      <td>8</td>\n      <td>Miran</td>\n    </tr>\n    <tr>\n      <th>4</th>\n      <td>22022</td>\n      <td>1610612737</td>\n      <td>ATL</td>\n      <td>Atlanta Hawks</td>\n      <td>0022200070</td>\n      <td>2022-10-28</td>\n      <td>ATL @ DET</td>\n      <td>W</td>\n      <td>241</td>\n      <td>136</td>\n      <td>...</td>\n      <td>8</td>\n      <td>6</td>\n      <td>26</td>\n      <td>24.0</td>\n      <td>DET</td>\n      <td>0</td>\n      <td>1</td>\n      <td>Miran</td>\n      <td>6</td>\n      <td>Miran</td>\n    </tr>\n    <tr>\n      <th>...</th>\n      <td>...</td>\n      <td>...</td>\n      <td>...</td>\n      <td>...</td>\n      <td>...</td>\n      <td>...</td>\n      <td>...</td>\n      <td>...</td>\n      <td>...</td>\n      <td>...</td>\n      <td>...</td>\n      <td>...</td>\n      <td>...</td>\n      <td>...</td>\n      <td>...</td>\n      <td>...</td>\n      <td>...</td>\n      <td>...</td>\n      <td>...</td>\n      <td>...</td>\n      <td>...</td>\n    </tr>\n    <tr>\n      <th>181</th>\n      <td>22022</td>\n      <td>1610612762</td>\n      <td>UTA</td>\n      <td>Utah Jazz</td>\n      <td>0022200048</td>\n      <td>2022-10-24</td>\n      <td>UTA @ HOU</td>\n      <td>L</td>\n      <td>239</td>\n      <td>108</td>\n      <td>...</td>\n      <td>10</td>\n      <td>20</td>\n      <td>27</td>\n      <td>-6.0</td>\n      <td>HOU</td>\n      <td>0</td>\n      <td>0</td>\n      <td>Vedran</td>\n      <td>9</td>\n      <td>Miran</td>\n    </tr>\n    <tr>\n      <th>182</th>\n      <td>22022</td>\n      <td>1610612763</td>\n      <td>MEM</td>\n      <td>Memphis Grizzlies</td>\n      <td>0022200024</td>\n      <td>2022-10-21</td>\n      <td>MEM @ HOU</td>\n      <td>W</td>\n      <td>240</td>\n      <td>129</td>\n      <td>...</td>\n      <td>10</td>\n      <td>12</td>\n      <td>20</td>\n      <td>7.0</td>\n      <td>HOU</td>\n      <td>0</td>\n      <td>1</td>\n      <td>Miran</td>\n      <td>3</td>\n      <td>Miran</td>\n    </tr>\n    <tr>\n      <th>183</th>\n      <td>22022</td>\n      <td>1610612737</td>\n      <td>ATL</td>\n      <td>Atlanta Hawks</td>\n      <td>0022200005</td>\n      <td>2022-10-19</td>\n      <td>ATL vs. HOU</td>\n      <td>W</td>\n      <td>240</td>\n      <td>117</td>\n      <td>...</td>\n      <td>5</td>\n      <td>9</td>\n      <td>18</td>\n      <td>10.0</td>\n      <td>HOU</td>\n      <td>1</td>\n      <td>1</td>\n      <td>Miran</td>\n      <td>6</td>\n      <td>Miran</td>\n    </tr>\n    <tr>\n      <th>184</th>\n      <td>22022</td>\n      <td>1610612749</td>\n      <td>MIL</td>\n      <td>Milwaukee Bucks</td>\n      <td>0022200033</td>\n      <td>2022-10-22</td>\n      <td>MIL vs. HOU</td>\n      <td>W</td>\n      <td>241</td>\n      <td>125</td>\n      <td>...</td>\n      <td>10</td>\n      <td>16</td>\n      <td>22</td>\n      <td>20.0</td>\n      <td>HOU</td>\n      <td>1</td>\n      <td>1</td>\n      <td>Vedran</td>\n      <td>1</td>\n      <td>Miran</td>\n    </tr>\n    <tr>\n      <th>185</th>\n      <td>22022</td>\n      <td>1610612757</td>\n      <td>POR</td>\n      <td>Portland Trail Blazers</td>\n      <td>0022200080</td>\n      <td>2022-10-28</td>\n      <td>POR vs. HOU</td>\n      <td>W</td>\n      <td>240</td>\n      <td>125</td>\n      <td>...</td>\n      <td>6</td>\n      <td>15</td>\n      <td>19</td>\n      <td>14.0</td>\n      <td>HOU</td>\n      <td>1</td>\n      <td>1</td>\n      <td>Vedran</td>\n      <td>5</td>\n      <td>Miran</td>\n    </tr>\n  </tbody>\n</table>\n<p>186 rows × 34 columns</p>\n</div>"
     },
     "execution_count": 11,
     "metadata": {},
     "output_type": "execute_result"
    }
   ],
   "source": [
    "# Add info on the owner of opposing team\n",
    "opp_selection = team_selection[['TEAM_OWNER','TEAM_ABBREVIATION']]\n",
    "opp_selection.columns = ['OPPOSING_OWNER','OPPONENT']\n",
    "games = pd.merge(games, opp_selection ,on=[\"OPPONENT\"])\n",
    "games"
   ],
   "metadata": {
    "collapsed": false
   }
  },
  {
   "cell_type": "code",
   "execution_count": 12,
   "outputs": [
    {
     "data": {
      "text/plain": "    SEASON_ID     TEAM_ID TEAM_ABBREVIATION               TEAM_NAME  \\\n0       22022  1610612744               GSW   Golden State Warriors   \n1       22022  1610612752               NYK         New York Knicks   \n2       22022  1610612753               ORL           Orlando Magic   \n3       22022  1610612764               WAS      Washington Wizards   \n4       22022  1610612737               ATL           Atlanta Hawks   \n..        ...         ...               ...                     ...   \n181     22022  1610612762               UTA               Utah Jazz   \n182     22022  1610612763               MEM       Memphis Grizzlies   \n183     22022  1610612737               ATL           Atlanta Hawks   \n184     22022  1610612749               MIL         Milwaukee Bucks   \n185     22022  1610612757               POR  Portland Trail Blazers   \n\n        GAME_ID   GAME_DATE      MATCHUP WL  MIN  PTS  ...  PF  PLUS_MINUS  \\\n0    0022200091  2022-10-30    GSW @ DET  L  241  114  ...  24       -11.4   \n1    0022200023  2022-10-21  NYK vs. DET  W  239  130  ...  26        24.0   \n2    0022200003  2022-10-19    ORL @ DET  L  240  109  ...  23        -4.0   \n3    0022200052  2022-10-25  WAS vs. DET  W  241  120  ...  20        21.0   \n4    0022200070  2022-10-28    ATL @ DET  W  241  136  ...  26        24.0   \n..          ...         ...          ... ..  ...  ...  ...  ..         ...   \n181  0022200048  2022-10-24    UTA @ HOU  L  239  108  ...  27        -6.0   \n182  0022200024  2022-10-21    MEM @ HOU  W  240  129  ...  20         7.0   \n183  0022200005  2022-10-19  ATL vs. HOU  W  240  117  ...  18        10.0   \n184  0022200033  2022-10-22  MIL vs. HOU  W  241  125  ...  22        20.0   \n185  0022200080  2022-10-28  POR vs. HOU  W  240  125  ...  19        14.0   \n\n     OPPONENT  IS_HOME  IS_WIN  TEAM_OWNER  TEAM_PICK  OPPOSING_OWNER  \\\n0         DET        0       0        Tata          2           Miran   \n1         DET        1       1       Miran          7           Miran   \n2         DET        0       0        Tata          6           Miran   \n3         DET        1       1        Tata          8           Miran   \n4         DET        0       1       Miran          6           Miran   \n..        ...      ...     ...         ...        ...             ...   \n181       HOU        0       0      Vedran          9           Miran   \n182       HOU        0       1       Miran          3           Miran   \n183       HOU        1       1       Miran          6           Miran   \n184       HOU        1       1      Vedran          1           Miran   \n185       HOU        1       1      Vedran          5           Miran   \n\n     IS_NOT_AGAINST_OWN  IS_AGAINST_OWN  \n0                     1               0  \n1                     0               1  \n2                     1               0  \n3                     1               0  \n4                     0               1  \n..                  ...             ...  \n181                   1               0  \n182                   0               1  \n183                   0               1  \n184                   1               0  \n185                   1               0  \n\n[186 rows x 36 columns]",
      "text/html": "<div>\n<style scoped>\n    .dataframe tbody tr th:only-of-type {\n        vertical-align: middle;\n    }\n\n    .dataframe tbody tr th {\n        vertical-align: top;\n    }\n\n    .dataframe thead th {\n        text-align: right;\n    }\n</style>\n<table border=\"1\" class=\"dataframe\">\n  <thead>\n    <tr style=\"text-align: right;\">\n      <th></th>\n      <th>SEASON_ID</th>\n      <th>TEAM_ID</th>\n      <th>TEAM_ABBREVIATION</th>\n      <th>TEAM_NAME</th>\n      <th>GAME_ID</th>\n      <th>GAME_DATE</th>\n      <th>MATCHUP</th>\n      <th>WL</th>\n      <th>MIN</th>\n      <th>PTS</th>\n      <th>...</th>\n      <th>PF</th>\n      <th>PLUS_MINUS</th>\n      <th>OPPONENT</th>\n      <th>IS_HOME</th>\n      <th>IS_WIN</th>\n      <th>TEAM_OWNER</th>\n      <th>TEAM_PICK</th>\n      <th>OPPOSING_OWNER</th>\n      <th>IS_NOT_AGAINST_OWN</th>\n      <th>IS_AGAINST_OWN</th>\n    </tr>\n  </thead>\n  <tbody>\n    <tr>\n      <th>0</th>\n      <td>22022</td>\n      <td>1610612744</td>\n      <td>GSW</td>\n      <td>Golden State Warriors</td>\n      <td>0022200091</td>\n      <td>2022-10-30</td>\n      <td>GSW @ DET</td>\n      <td>L</td>\n      <td>241</td>\n      <td>114</td>\n      <td>...</td>\n      <td>24</td>\n      <td>-11.4</td>\n      <td>DET</td>\n      <td>0</td>\n      <td>0</td>\n      <td>Tata</td>\n      <td>2</td>\n      <td>Miran</td>\n      <td>1</td>\n      <td>0</td>\n    </tr>\n    <tr>\n      <th>1</th>\n      <td>22022</td>\n      <td>1610612752</td>\n      <td>NYK</td>\n      <td>New York Knicks</td>\n      <td>0022200023</td>\n      <td>2022-10-21</td>\n      <td>NYK vs. DET</td>\n      <td>W</td>\n      <td>239</td>\n      <td>130</td>\n      <td>...</td>\n      <td>26</td>\n      <td>24.0</td>\n      <td>DET</td>\n      <td>1</td>\n      <td>1</td>\n      <td>Miran</td>\n      <td>7</td>\n      <td>Miran</td>\n      <td>0</td>\n      <td>1</td>\n    </tr>\n    <tr>\n      <th>2</th>\n      <td>22022</td>\n      <td>1610612753</td>\n      <td>ORL</td>\n      <td>Orlando Magic</td>\n      <td>0022200003</td>\n      <td>2022-10-19</td>\n      <td>ORL @ DET</td>\n      <td>L</td>\n      <td>240</td>\n      <td>109</td>\n      <td>...</td>\n      <td>23</td>\n      <td>-4.0</td>\n      <td>DET</td>\n      <td>0</td>\n      <td>0</td>\n      <td>Tata</td>\n      <td>6</td>\n      <td>Miran</td>\n      <td>1</td>\n      <td>0</td>\n    </tr>\n    <tr>\n      <th>3</th>\n      <td>22022</td>\n      <td>1610612764</td>\n      <td>WAS</td>\n      <td>Washington Wizards</td>\n      <td>0022200052</td>\n      <td>2022-10-25</td>\n      <td>WAS vs. DET</td>\n      <td>W</td>\n      <td>241</td>\n      <td>120</td>\n      <td>...</td>\n      <td>20</td>\n      <td>21.0</td>\n      <td>DET</td>\n      <td>1</td>\n      <td>1</td>\n      <td>Tata</td>\n      <td>8</td>\n      <td>Miran</td>\n      <td>1</td>\n      <td>0</td>\n    </tr>\n    <tr>\n      <th>4</th>\n      <td>22022</td>\n      <td>1610612737</td>\n      <td>ATL</td>\n      <td>Atlanta Hawks</td>\n      <td>0022200070</td>\n      <td>2022-10-28</td>\n      <td>ATL @ DET</td>\n      <td>W</td>\n      <td>241</td>\n      <td>136</td>\n      <td>...</td>\n      <td>26</td>\n      <td>24.0</td>\n      <td>DET</td>\n      <td>0</td>\n      <td>1</td>\n      <td>Miran</td>\n      <td>6</td>\n      <td>Miran</td>\n      <td>0</td>\n      <td>1</td>\n    </tr>\n    <tr>\n      <th>...</th>\n      <td>...</td>\n      <td>...</td>\n      <td>...</td>\n      <td>...</td>\n      <td>...</td>\n      <td>...</td>\n      <td>...</td>\n      <td>...</td>\n      <td>...</td>\n      <td>...</td>\n      <td>...</td>\n      <td>...</td>\n      <td>...</td>\n      <td>...</td>\n      <td>...</td>\n      <td>...</td>\n      <td>...</td>\n      <td>...</td>\n      <td>...</td>\n      <td>...</td>\n      <td>...</td>\n    </tr>\n    <tr>\n      <th>181</th>\n      <td>22022</td>\n      <td>1610612762</td>\n      <td>UTA</td>\n      <td>Utah Jazz</td>\n      <td>0022200048</td>\n      <td>2022-10-24</td>\n      <td>UTA @ HOU</td>\n      <td>L</td>\n      <td>239</td>\n      <td>108</td>\n      <td>...</td>\n      <td>27</td>\n      <td>-6.0</td>\n      <td>HOU</td>\n      <td>0</td>\n      <td>0</td>\n      <td>Vedran</td>\n      <td>9</td>\n      <td>Miran</td>\n      <td>1</td>\n      <td>0</td>\n    </tr>\n    <tr>\n      <th>182</th>\n      <td>22022</td>\n      <td>1610612763</td>\n      <td>MEM</td>\n      <td>Memphis Grizzlies</td>\n      <td>0022200024</td>\n      <td>2022-10-21</td>\n      <td>MEM @ HOU</td>\n      <td>W</td>\n      <td>240</td>\n      <td>129</td>\n      <td>...</td>\n      <td>20</td>\n      <td>7.0</td>\n      <td>HOU</td>\n      <td>0</td>\n      <td>1</td>\n      <td>Miran</td>\n      <td>3</td>\n      <td>Miran</td>\n      <td>0</td>\n      <td>1</td>\n    </tr>\n    <tr>\n      <th>183</th>\n      <td>22022</td>\n      <td>1610612737</td>\n      <td>ATL</td>\n      <td>Atlanta Hawks</td>\n      <td>0022200005</td>\n      <td>2022-10-19</td>\n      <td>ATL vs. HOU</td>\n      <td>W</td>\n      <td>240</td>\n      <td>117</td>\n      <td>...</td>\n      <td>18</td>\n      <td>10.0</td>\n      <td>HOU</td>\n      <td>1</td>\n      <td>1</td>\n      <td>Miran</td>\n      <td>6</td>\n      <td>Miran</td>\n      <td>0</td>\n      <td>1</td>\n    </tr>\n    <tr>\n      <th>184</th>\n      <td>22022</td>\n      <td>1610612749</td>\n      <td>MIL</td>\n      <td>Milwaukee Bucks</td>\n      <td>0022200033</td>\n      <td>2022-10-22</td>\n      <td>MIL vs. HOU</td>\n      <td>W</td>\n      <td>241</td>\n      <td>125</td>\n      <td>...</td>\n      <td>22</td>\n      <td>20.0</td>\n      <td>HOU</td>\n      <td>1</td>\n      <td>1</td>\n      <td>Vedran</td>\n      <td>1</td>\n      <td>Miran</td>\n      <td>1</td>\n      <td>0</td>\n    </tr>\n    <tr>\n      <th>185</th>\n      <td>22022</td>\n      <td>1610612757</td>\n      <td>POR</td>\n      <td>Portland Trail Blazers</td>\n      <td>0022200080</td>\n      <td>2022-10-28</td>\n      <td>POR vs. HOU</td>\n      <td>W</td>\n      <td>240</td>\n      <td>125</td>\n      <td>...</td>\n      <td>19</td>\n      <td>14.0</td>\n      <td>HOU</td>\n      <td>1</td>\n      <td>1</td>\n      <td>Vedran</td>\n      <td>5</td>\n      <td>Miran</td>\n      <td>1</td>\n      <td>0</td>\n    </tr>\n  </tbody>\n</table>\n<p>186 rows × 36 columns</p>\n</div>"
     },
     "execution_count": 12,
     "metadata": {},
     "output_type": "execute_result"
    }
   ],
   "source": [
    "# Add column to know if the game is against own team\n",
    "games['IS_NOT_AGAINST_OWN'] = 1\n",
    "games.loc[(games['TEAM_OWNER'] == games['OPPOSING_OWNER']),'IS_NOT_AGAINST_OWN']=0\n",
    "\n",
    "games['IS_AGAINST_OWN'] = 0\n",
    "games.loc[(games['TEAM_OWNER'] == games['OPPOSING_OWNER']),'IS_AGAINST_OWN']=1\n",
    "\n",
    "\n",
    "\n",
    "games"
   ],
   "metadata": {
    "collapsed": false
   }
  },
  {
   "cell_type": "code",
   "execution_count": 13,
   "outputs": [
    {
     "name": "stdout",
     "output_type": "stream",
     "text": [
      "Ovo je trenutno stanje s bodovima na daatum 10/30/2022\n",
      "TEAM_OWNER\n",
      "Miran     31\n",
      "Tata      25\n",
      "Vedran    37\n",
      "Name: IS_WIN, dtype: int64\n"
     ]
    }
   ],
   "source": [
    "# actually calculate the points!\n",
    "# Doesn't address the Playoff game / Championship\n",
    "\n",
    "\n",
    "\n",
    "bodovi = games.groupby(by=['TEAM_OWNER'])['IS_WIN'].sum()\n",
    "# bodovi = bodovi.sort_values(ascending=False)\n",
    "\n",
    "print(\"Ovo je trenutno stanje s bodovima na daatum \" + league_end_str)\n",
    "print(bodovi)\n",
    "# bodovi = bodovi.sort_values(by=['IS_WIN'], ascending=False)\n",
    "\n"
   ],
   "metadata": {
    "collapsed": false
   }
  },
  {
   "cell_type": "code",
   "execution_count": 14,
   "outputs": [],
   "source": [
    " # Next steps: Play with data\n",
    "# Total possible points, total games, total games vs. own teams, total ratios for all pairs..."
   ],
   "metadata": {
    "collapsed": false
   }
  },
  {
   "cell_type": "code",
   "execution_count": 15,
   "outputs": [
    {
     "name": "stdout",
     "output_type": "stream",
     "text": [
      "Total number of games played:\n"
     ]
    },
    {
     "data": {
      "text/plain": "TEAM_OWNER\nMiran     63\nTata      62\nVedran    61\nName: GAME_ID, dtype: int64"
     },
     "execution_count": 15,
     "metadata": {},
     "output_type": "execute_result"
    }
   ],
   "source": [
    "print(\"Total number of games played:\")\n",
    "\n",
    "ukupno_tekma = games.groupby(by=['TEAM_OWNER'])['GAME_ID'].count()\n",
    "# ukupno_tekma = ukupno_tekma.sort_values(ascending=False)\n",
    "\n",
    "ukupno_tekma"
   ],
   "metadata": {
    "collapsed": false
   }
  },
  {
   "cell_type": "code",
   "execution_count": 16,
   "outputs": [
    {
     "name": "stdout",
     "output_type": "stream",
     "text": [
      "Total possible points (excl. games vs. own teams):\n"
     ]
    },
    {
     "data": {
      "text/plain": "TEAM_OWNER\nMiran     43\nTata      36\nVedran    41\nName: IS_NOT_AGAINST_OWN, dtype: int64"
     },
     "execution_count": 16,
     "metadata": {},
     "output_type": "execute_result"
    }
   ],
   "source": [
    "print(\"Total possible points (excl. games vs. own teams):\")\n",
    "\n",
    "potencijalno_bodovi = games.groupby(by=['TEAM_OWNER'])['IS_NOT_AGAINST_OWN'].sum()\n",
    "# potencijalno_bodovi  = potencijalno_bodovi.sort_values(ascending=False)\n",
    "\n",
    "potencijalno_bodovi"
   ],
   "metadata": {
    "collapsed": false
   }
  },
  {
   "cell_type": "code",
   "execution_count": 26,
   "outputs": [
    {
     "name": "stdout",
     "output_type": "stream",
     "text": [
      "Minimum number of points (just the games vs. own teams)\n"
     ]
    },
    {
     "data": {
      "text/plain": "TEAM_OWNER\nMiran     10.0\nTata      13.0\nVedran    10.0\nName: IS_AGAINST_OWN, dtype: float64"
     },
     "execution_count": 26,
     "metadata": {},
     "output_type": "execute_result"
    }
   ],
   "source": [
    "print(\"Minimum number of points (just the games vs. own teams)\")\n",
    "\n",
    "min_bodovi = games.groupby(by=['TEAM_OWNER'])['IS_AGAINST_OWN'].sum()/2\n",
    "# min_bodovi  = min_bodovi.sort_values(ascending=False)\n",
    "min_bodovi\n"
   ],
   "metadata": {
    "collapsed": false
   }
  },
  {
   "cell_type": "code",
   "execution_count": 27,
   "outputs": [
    {
     "name": "stdout",
     "output_type": "stream",
     "text": [
      "Ovo je trenutno stanje s bodovima na daatum 10/30/2022\n",
      "TEAM_OWNER\n",
      "Miran     31\n",
      "Tata      25\n",
      "Vedran    37\n",
      "Name: IS_WIN, dtype: int64\n",
      "\n",
      "Total number of games played:\n",
      "TEAM_OWNER\n",
      "Miran     63\n",
      "Tata      62\n",
      "Vedran    61\n",
      "Name: GAME_ID, dtype: int64\n",
      "\n",
      "Total possible points (excl. games vs. own teams):\n",
      "TEAM_OWNER\n",
      "Miran     43\n",
      "Tata      36\n",
      "Vedran    41\n",
      "Name: IS_NOT_AGAINST_OWN, dtype: int64\n",
      "\n",
      "Minimum number of points (just the games vs. own teams)\n",
      "TEAM_OWNER\n",
      "Miran     10.0\n",
      "Tata      13.0\n",
      "Vedran    10.0\n",
      "Name: IS_AGAINST_OWN, dtype: float64\n"
     ]
    }
   ],
   "source": [
    "# Print the results\n",
    "\n",
    "\n",
    "print(\"Ovo je trenutno stanje s bodovima na daatum \" + league_end_str)\n",
    "print(bodovi)\n",
    "print()\n",
    "\n",
    "print(\"Total number of games played:\")\n",
    "print(ukupno_tekma)\n",
    "print()\n",
    "\n",
    "print(\"Total possible points (excl. games vs. own teams):\")\n",
    "print(potencijalno_bodovi)\n",
    "print()\n",
    "\n",
    "print(\"Minimum number of points (just the games vs. own teams)\")\n",
    "print(min_bodovi)"
   ],
   "metadata": {
    "collapsed": false
   }
  },
  {
   "cell_type": "code",
   "execution_count": 19,
   "outputs": [],
   "source": [
    "# Visualize minimum, maximum and actual point\n",
    "\n",
    "# import numpy as np > already have it\n",
    "\n"
   ],
   "metadata": {
    "collapsed": false
   }
  },
  {
   "cell_type": "code",
   "execution_count": 28,
   "outputs": [
    {
     "data": {
      "text/plain": "  TEAM_OWNER min_bodovi bodovi max_bodovi ukupno_tekme\n0      Miran       10.0     31         43           63\n1       Tata       13.0     25         36           62\n2     Vedran       10.0     37         41           61",
      "text/html": "<div>\n<style scoped>\n    .dataframe tbody tr th:only-of-type {\n        vertical-align: middle;\n    }\n\n    .dataframe tbody tr th {\n        vertical-align: top;\n    }\n\n    .dataframe thead tr th {\n        text-align: left;\n    }\n</style>\n<table border=\"1\" class=\"dataframe\">\n  <thead>\n    <tr>\n      <th></th>\n      <th>TEAM_OWNER</th>\n      <th>min_bodovi</th>\n      <th>bodovi</th>\n      <th>max_bodovi</th>\n      <th>ukupno_tekme</th>\n    </tr>\n  </thead>\n  <tbody>\n    <tr>\n      <th>0</th>\n      <td>Miran</td>\n      <td>10.0</td>\n      <td>31</td>\n      <td>43</td>\n      <td>63</td>\n    </tr>\n    <tr>\n      <th>1</th>\n      <td>Tata</td>\n      <td>13.0</td>\n      <td>25</td>\n      <td>36</td>\n      <td>62</td>\n    </tr>\n    <tr>\n      <th>2</th>\n      <td>Vedran</td>\n      <td>10.0</td>\n      <td>37</td>\n      <td>41</td>\n      <td>61</td>\n    </tr>\n  </tbody>\n</table>\n</div>"
     },
     "execution_count": 28,
     "metadata": {},
     "output_type": "execute_result"
    }
   ],
   "source": [
    "# Build a dataframe with all the aggregate details\n",
    "# This one for just the main graphing (who's winning?)\n",
    "\n",
    "standings = pd.concat([min_bodovi, bodovi,potencijalno_bodovi,ukupno_tekma], axis=1).reset_index()\n",
    "standings.columns=([['TEAM_OWNER','min_bodovi','bodovi','max_bodovi','ukupno_tekme']])\n",
    "standings"
   ],
   "metadata": {
    "collapsed": false
   }
  },
  {
   "cell_type": "code",
   "execution_count": 29,
   "outputs": [
    {
     "name": "stdout",
     "output_type": "stream",
     "text": [
      "  TEAM_OWNER min_bodovi bodovi max_bodovi ukupno_tekme\n",
      "0      Miran       10.0     31         43           63\n",
      "1       Tata       13.0     25         36           62\n",
      "2     Vedran       10.0     37         41           61\n"
     ]
    },
    {
     "data": {
      "text/plain": "<Figure size 700x600 with 1 Axes>",
      "image/png": "[encoded data removed]"
     },
     "metadata": {},
     "output_type": "display_data"
    }
   ],
   "source": [
    "N = standings['TEAM_OWNER'].nunique()[0]\n",
    "\n",
    "bar_max_bodovi = standings['max_bodovi'].squeeze()\n",
    "bar_min_bodovi = standings['min_bodovi'].squeeze()\n",
    "bar_bodovi = standings['bodovi'].squeeze()\n",
    "bar_owner = standings['TEAM_OWNER'].squeeze()\n",
    "\n",
    "# girls =  bodovi\n",
    "# trans = potencijalno_bodovi\n",
    "\n",
    "# boyStd = (2, 3, 4)\n",
    "# girlStd = (3, 5, 2)\n",
    "\n",
    "\n",
    "ind = np.arange(N)\n",
    "width = 0.4\n",
    "\n",
    "\n",
    "fig = plt.subplots(figsize =(7, 6))\n",
    "p1 = plt.bar(ind, bar_max_bodovi-bar_min_bodovi, width, alpha=1, bottom=bar_min_bodovi,color='b')\n",
    "p2 = plt.bar(ind, bar_bodovi-bar_min_bodovi, width, bottom=bar_min_bodovi,alpha=1, color ='y')\n",
    "# p3 = plt.bar(ind,min_bodovi,width, alpha=1)\n",
    "\n",
    "plt.ylabel('Bodovi')\n",
    "plt.title('NBA bet stanje na dan ' + league_end_str)\n",
    "\n",
    "plt.xticks(ind, bar_owner)\n",
    "plt.yticks(np.arange(0, max(bar_max_bodovi)+9, 5))\n",
    "plt.grid(color='0',alpha=0.15)\n",
    "\n",
    "print(standings)\n",
    "# tbl = plt.subplots()\n",
    "# print(standings.sort_values(by=['bodovi'], ascending=False))\n",
    "plt.show()"
   ],
   "metadata": {
    "collapsed": false
   }
  },
  {
   "cell_type": "code",
   "execution_count": 22,
   "outputs": [
    {
     "data": {
      "text/plain": "Empty DataFrame\nColumns: [SEASON_ID, TEAM_ID, TEAM_ABBREVIATION, TEAM_NAME, GAME_ID, GAME_DATE, MATCHUP, WL, MIN, PTS, FGM, FGA, FG_PCT, FG3M, FG3A, FG3_PCT, FTM, FTA, FT_PCT, OREB, DREB, REB, AST, STL, BLK, TOV, PF, PLUS_MINUS, OPPONENT, IS_HOME, IS_WIN, TEAM_OWNER, TEAM_PICK, OPPOSING_OWNER, IS_NOT_AGAINST_OWN, IS_AGAINST_OWN]\nIndex: []\n\n[0 rows x 36 columns]",
      "text/html": "<div>\n<style scoped>\n    .dataframe tbody tr th:only-of-type {\n        vertical-align: middle;\n    }\n\n    .dataframe tbody tr th {\n        vertical-align: top;\n    }\n\n    .dataframe thead th {\n        text-align: right;\n    }\n</style>\n<table border=\"1\" class=\"dataframe\">\n  <thead>\n    <tr style=\"text-align: right;\">\n      <th></th>\n      <th>SEASON_ID</th>\n      <th>TEAM_ID</th>\n      <th>TEAM_ABBREVIATION</th>\n      <th>TEAM_NAME</th>\n      <th>GAME_ID</th>\n      <th>GAME_DATE</th>\n      <th>MATCHUP</th>\n      <th>WL</th>\n      <th>MIN</th>\n      <th>PTS</th>\n      <th>...</th>\n      <th>PF</th>\n      <th>PLUS_MINUS</th>\n      <th>OPPONENT</th>\n      <th>IS_HOME</th>\n      <th>IS_WIN</th>\n      <th>TEAM_OWNER</th>\n      <th>TEAM_PICK</th>\n      <th>OPPOSING_OWNER</th>\n      <th>IS_NOT_AGAINST_OWN</th>\n      <th>IS_AGAINST_OWN</th>\n    </tr>\n  </thead>\n  <tbody>\n  </tbody>\n</table>\n<p>0 rows × 36 columns</p>\n</div>"
     },
     "execution_count": 22,
     "metadata": {},
     "output_type": "execute_result"
    }
   ],
   "source": [
    "\n",
    "games[(games.TEAM_OWNER==\"Tata\") & games.WL.isnull() == True]\n"
   ],
   "metadata": {
    "collapsed": false
   }
  },
  {
   "cell_type": "code",
   "execution_count": 23,
   "outputs": [
    {
     "data": {
      "text/plain": "    SEASON_ID     TEAM_ID TEAM_ABBREVIATION              TEAM_NAME  \\\n7       22022  1610612744               GSW  Golden State Warriors   \n9       22022  1610612740               NOP   New Orleans Pelicans   \n11      22022  1610612753               ORL          Orlando Magic   \n13      22022  1610612744               GSW  Golden State Warriors   \n15      22022  1610612758               SAC       Sacramento Kings   \n25      22022  1610612744               GSW  Golden State Warriors   \n26      22022  1610612746               LAC            LA Clippers   \n27      22022  1610612748               MIA             Miami Heat   \n42      22022  1610612748               MIA             Miami Heat   \n43      22022  1610612758               SAC       Sacramento Kings   \n44      22022  1610612766               CHA      Charlotte Hornets   \n76      22022  1610612742               DAL       Dallas Mavericks   \n78      22022  1610612766               CHA      Charlotte Hornets   \n89      22022  1610612746               LAC            LA Clippers   \n90      22022  1610612746               LAC            LA Clippers   \n91      22022  1610612742               DAL       Dallas Mavericks   \n121     22022  1610612746               LAC            LA Clippers   \n122     22022  1610612742               DAL       Dallas Mavericks   \n124     22022  1610612766               CHA      Charlotte Hornets   \n127     22022  1610612740               NOP   New Orleans Pelicans   \n128     22022  1610612758               SAC       Sacramento Kings   \n129     22022  1610612760               OKC  Oklahoma City Thunder   \n130     22022  1610612760               OKC  Oklahoma City Thunder   \n133     22022  1610612740               NOP   New Orleans Pelicans   \n134     22022  1610612753               ORL          Orlando Magic   \n136     22022  1610612760               OKC  Oklahoma City Thunder   \n\n        GAME_ID   GAME_DATE      MATCHUP WL  MIN  PTS  ...  PF  PLUS_MINUS  \\\n7    0022200082  2022-10-29    GSW @ CHA  L  266  113  ...  31        -7.0   \n9    0022200017  2022-10-21    NOP @ CHA  W  240  124  ...  14        12.0   \n11   0022200071  2022-10-28  ORL vs. CHA  W  241  113  ...  22        20.0   \n13   0022200068  2022-10-27  GSW vs. MIA  W  240  123  ...  13        13.0   \n15   0022200081  2022-10-29  SAC vs. MIA  W  240  119  ...  29         6.0   \n25   0022200042  2022-10-23  GSW vs. SAC  W  240  130  ...  21         5.0   \n26   0022200036  2022-10-22    LAC @ SAC  W  241  111  ...  21         2.0   \n27   0022200081  2022-10-29    MIA @ SAC  L  241  113  ...  25        -6.0   \n42   0022200068  2022-10-27    MIA @ GSW  L  240  110  ...  15       -13.0   \n43   0022200042  2022-10-23    SAC @ GSW  L  240  125  ...  29        -5.0   \n44   0022200082  2022-10-29  CHA vs. GSW  W  265  120  ...  14         7.0   \n76   0022200093  2022-10-30  DAL vs. ORL  W  241  114  ...  22         7.4   \n78   0022200071  2022-10-28    CHA @ ORL  L  239   93  ...  18       -20.0   \n89   0022200067  2022-10-27    LAC @ OKC  L  240  110  ...  17        -8.0   \n90   0022200054  2022-10-25    LAC @ OKC  L  241   94  ...  18       -14.0   \n91   0022200086  2022-10-29  DAL vs. OKC  L  264  111  ...  30        -6.0   \n121  0022200088  2022-10-30  LAC vs. NOP  L  241   91  ...  15       -21.0   \n122  0022200053  2022-10-25    DAL @ NOP  L  240  111  ...  16        -2.0   \n124  0022200017  2022-10-21  CHA vs. NOP  L  239  112  ...  23       -12.0   \n127  0022200088  2022-10-30    NOP @ LAC  W  242  112  ...  15        21.0   \n128  0022200036  2022-10-22  SAC vs. LAC  L  239  109  ...  21        -2.0   \n129  0022200067  2022-10-27  OKC vs. LAC  W  240  118  ...  21         8.0   \n130  0022200054  2022-10-25  OKC vs. LAC  W  239  108  ...  13        14.0   \n133  0022200053  2022-10-25  NOP vs. DAL  W  239  113  ...  21         2.0   \n134  0022200093  2022-10-30    ORL @ DAL  L  239  105  ...  22        -5.6   \n136  0022200086  2022-10-29    OKC @ DAL  W  265  117  ...  29         6.0   \n\n     OPPONENT  IS_HOME  IS_WIN  TEAM_OWNER  TEAM_PICK  OPPOSING_OWNER  \\\n7         CHA        0       0        Tata          2            Tata   \n9         CHA        0       1        Tata          5            Tata   \n11        CHA        1       1        Tata          6            Tata   \n13        MIA        1       1        Tata          2            Tata   \n15        MIA        1       1        Tata         10            Tata   \n25        SAC        1       1        Tata          2            Tata   \n26        SAC        0       1        Tata          3            Tata   \n27        SAC        0       0        Tata          4            Tata   \n42        GSW        0       0        Tata          4            Tata   \n43        GSW        0       0        Tata         10            Tata   \n44        GSW        1       1        Tata          9            Tata   \n76        ORL        1       1        Tata          1            Tata   \n78        ORL        0       0        Tata          9            Tata   \n89        OKC        0       0        Tata          3            Tata   \n90        OKC        0       0        Tata          3            Tata   \n91        OKC        1       0        Tata          1            Tata   \n121       NOP        1       0        Tata          3            Tata   \n122       NOP        0       0        Tata          1            Tata   \n124       NOP        1       0        Tata          9            Tata   \n127       LAC        0       1        Tata          5            Tata   \n128       LAC        1       0        Tata         10            Tata   \n129       LAC        1       1        Tata          7            Tata   \n130       LAC        1       1        Tata          7            Tata   \n133       DAL        1       1        Tata          5            Tata   \n134       DAL        0       0        Tata          6            Tata   \n136       DAL        0       1        Tata          7            Tata   \n\n     IS_NOT_AGAINST_OWN  IS_AGAINST_OWN  \n7                     0               1  \n9                     0               1  \n11                    0               1  \n13                    0               1  \n15                    0               1  \n25                    0               1  \n26                    0               1  \n27                    0               1  \n42                    0               1  \n43                    0               1  \n44                    0               1  \n76                    0               1  \n78                    0               1  \n89                    0               1  \n90                    0               1  \n91                    0               1  \n121                   0               1  \n122                   0               1  \n124                   0               1  \n127                   0               1  \n128                   0               1  \n129                   0               1  \n130                   0               1  \n133                   0               1  \n134                   0               1  \n136                   0               1  \n\n[26 rows x 36 columns]",
      "text/html": "<div>\n<style scoped>\n    .dataframe tbody tr th:only-of-type {\n        vertical-align: middle;\n    }\n\n    .dataframe tbody tr th {\n        vertical-align: top;\n    }\n\n    .dataframe thead th {\n        text-align: right;\n    }\n</style>\n<table border=\"1\" class=\"dataframe\">\n  <thead>\n    <tr style=\"text-align: right;\">\n      <th></th>\n      <th>SEASON_ID</th>\n      <th>TEAM_ID</th>\n      <th>TEAM_ABBREVIATION</th>\n      <th>TEAM_NAME</th>\n      <th>GAME_ID</th>\n      <th>GAME_DATE</th>\n      <th>MATCHUP</th>\n      <th>WL</th>\n      <th>MIN</th>\n      <th>PTS</th>\n      <th>...</th>\n      <th>PF</th>\n      <th>PLUS_MINUS</th>\n      <th>OPPONENT</th>\n      <th>IS_HOME</th>\n      <th>IS_WIN</th>\n      <th>TEAM_OWNER</th>\n      <th>TEAM_PICK</th>\n      <th>OPPOSING_OWNER</th>\n      <th>IS_NOT_AGAINST_OWN</th>\n      <th>IS_AGAINST_OWN</th>\n    </tr>\n  </thead>\n  <tbody>\n    <tr>\n      <th>7</th>\n      <td>22022</td>\n      <td>1610612744</td>\n      <td>GSW</td>\n      <td>Golden State Warriors</td>\n      <td>0022200082</td>\n      <td>2022-10-29</td>\n      <td>GSW @ CHA</td>\n      <td>L</td>\n      <td>266</td>\n      <td>113</td>\n      <td>...</td>\n      <td>31</td>\n      <td>-7.0</td>\n      <td>CHA</td>\n      <td>0</td>\n      <td>0</td>\n      <td>Tata</td>\n      <td>2</td>\n      <td>Tata</td>\n      <td>0</td>\n      <td>1</td>\n    </tr>\n    <tr>\n      <th>9</th>\n      <td>22022</td>\n      <td>1610612740</td>\n      <td>NOP</td>\n      <td>New Orleans Pelicans</td>\n      <td>0022200017</td>\n      <td>2022-10-21</td>\n      <td>NOP @ CHA</td>\n      <td>W</td>\n      <td>240</td>\n      <td>124</td>\n      <td>...</td>\n      <td>14</td>\n      <td>12.0</td>\n      <td>CHA</td>\n      <td>0</td>\n      <td>1</td>\n      <td>Tata</td>\n      <td>5</td>\n      <td>Tata</td>\n      <td>0</td>\n      <td>1</td>\n    </tr>\n    <tr>\n      <th>11</th>\n      <td>22022</td>\n      <td>1610612753</td>\n      <td>ORL</td>\n      <td>Orlando Magic</td>\n      <td>0022200071</td>\n      <td>2022-10-28</td>\n      <td>ORL vs. CHA</td>\n      <td>W</td>\n      <td>241</td>\n      <td>113</td>\n      <td>...</td>\n      <td>22</td>\n      <td>20.0</td>\n      <td>CHA</td>\n      <td>1</td>\n      <td>1</td>\n      <td>Tata</td>\n      <td>6</td>\n      <td>Tata</td>\n      <td>0</td>\n      <td>1</td>\n    </tr>\n    <tr>\n      <th>13</th>\n      <td>22022</td>\n      <td>1610612744</td>\n      <td>GSW</td>\n      <td>Golden State Warriors</td>\n      <td>0022200068</td>\n      <td>2022-10-27</td>\n      <td>GSW vs. MIA</td>\n      <td>W</td>\n      <td>240</td>\n      <td>123</td>\n      <td>...</td>\n      <td>13</td>\n      <td>13.0</td>\n      <td>MIA</td>\n      <td>1</td>\n      <td>1</td>\n      <td>Tata</td>\n      <td>2</td>\n      <td>Tata</td>\n      <td>0</td>\n      <td>1</td>\n    </tr>\n    <tr>\n      <th>15</th>\n      <td>22022</td>\n      <td>1610612758</td>\n      <td>SAC</td>\n      <td>Sacramento Kings</td>\n      <td>0022200081</td>\n      <td>2022-10-29</td>\n      <td>SAC vs. MIA</td>\n      <td>W</td>\n      <td>240</td>\n      <td>119</td>\n      <td>...</td>\n      <td>29</td>\n      <td>6.0</td>\n      <td>MIA</td>\n      <td>1</td>\n      <td>1</td>\n      <td>Tata</td>\n      <td>10</td>\n      <td>Tata</td>\n      <td>0</td>\n      <td>1</td>\n    </tr>\n    <tr>\n      <th>25</th>\n      <td>22022</td>\n      <td>1610612744</td>\n      <td>GSW</td>\n      <td>Golden State Warriors</td>\n      <td>0022200042</td>\n      <td>2022-10-23</td>\n      <td>GSW vs. SAC</td>\n      <td>W</td>\n      <td>240</td>\n      <td>130</td>\n      <td>...</td>\n      <td>21</td>\n      <td>5.0</td>\n      <td>SAC</td>\n      <td>1</td>\n      <td>1</td>\n      <td>Tata</td>\n      <td>2</td>\n      <td>Tata</td>\n      <td>0</td>\n      <td>1</td>\n    </tr>\n    <tr>\n      <th>26</th>\n      <td>22022</td>\n      <td>1610612746</td>\n      <td>LAC</td>\n      <td>LA Clippers</td>\n      <td>0022200036</td>\n      <td>2022-10-22</td>\n      <td>LAC @ SAC</td>\n      <td>W</td>\n      <td>241</td>\n      <td>111</td>\n      <td>...</td>\n      <td>21</td>\n      <td>2.0</td>\n      <td>SAC</td>\n      <td>0</td>\n      <td>1</td>\n      <td>Tata</td>\n      <td>3</td>\n      <td>Tata</td>\n      <td>0</td>\n      <td>1</td>\n    </tr>\n    <tr>\n      <th>27</th>\n      <td>22022</td>\n      <td>1610612748</td>\n      <td>MIA</td>\n      <td>Miami Heat</td>\n      <td>0022200081</td>\n      <td>2022-10-29</td>\n      <td>MIA @ SAC</td>\n      <td>L</td>\n      <td>241</td>\n      <td>113</td>\n      <td>...</td>\n      <td>25</td>\n      <td>-6.0</td>\n      <td>SAC</td>\n      <td>0</td>\n      <td>0</td>\n      <td>Tata</td>\n      <td>4</td>\n      <td>Tata</td>\n      <td>0</td>\n      <td>1</td>\n    </tr>\n    <tr>\n      <th>42</th>\n      <td>22022</td>\n      <td>1610612748</td>\n      <td>MIA</td>\n      <td>Miami Heat</td>\n      <td>0022200068</td>\n      <td>2022-10-27</td>\n      <td>MIA @ GSW</td>\n      <td>L</td>\n      <td>240</td>\n      <td>110</td>\n      <td>...</td>\n      <td>15</td>\n      <td>-13.0</td>\n      <td>GSW</td>\n      <td>0</td>\n      <td>0</td>\n      <td>Tata</td>\n      <td>4</td>\n      <td>Tata</td>\n      <td>0</td>\n      <td>1</td>\n    </tr>\n    <tr>\n      <th>43</th>\n      <td>22022</td>\n      <td>1610612758</td>\n      <td>SAC</td>\n      <td>Sacramento Kings</td>\n      <td>0022200042</td>\n      <td>2022-10-23</td>\n      <td>SAC @ GSW</td>\n      <td>L</td>\n      <td>240</td>\n      <td>125</td>\n      <td>...</td>\n      <td>29</td>\n      <td>-5.0</td>\n      <td>GSW</td>\n      <td>0</td>\n      <td>0</td>\n      <td>Tata</td>\n      <td>10</td>\n      <td>Tata</td>\n      <td>0</td>\n      <td>1</td>\n    </tr>\n    <tr>\n      <th>44</th>\n      <td>22022</td>\n      <td>1610612766</td>\n      <td>CHA</td>\n      <td>Charlotte Hornets</td>\n      <td>0022200082</td>\n      <td>2022-10-29</td>\n      <td>CHA vs. GSW</td>\n      <td>W</td>\n      <td>265</td>\n      <td>120</td>\n      <td>...</td>\n      <td>14</td>\n      <td>7.0</td>\n      <td>GSW</td>\n      <td>1</td>\n      <td>1</td>\n      <td>Tata</td>\n      <td>9</td>\n      <td>Tata</td>\n      <td>0</td>\n      <td>1</td>\n    </tr>\n    <tr>\n      <th>76</th>\n      <td>22022</td>\n      <td>1610612742</td>\n      <td>DAL</td>\n      <td>Dallas Mavericks</td>\n      <td>0022200093</td>\n      <td>2022-10-30</td>\n      <td>DAL vs. ORL</td>\n      <td>W</td>\n      <td>241</td>\n      <td>114</td>\n      <td>...</td>\n      <td>22</td>\n      <td>7.4</td>\n      <td>ORL</td>\n      <td>1</td>\n      <td>1</td>\n      <td>Tata</td>\n      <td>1</td>\n      <td>Tata</td>\n      <td>0</td>\n      <td>1</td>\n    </tr>\n    <tr>\n      <th>78</th>\n      <td>22022</td>\n      <td>1610612766</td>\n      <td>CHA</td>\n      <td>Charlotte Hornets</td>\n      <td>0022200071</td>\n      <td>2022-10-28</td>\n      <td>CHA @ ORL</td>\n      <td>L</td>\n      <td>239</td>\n      <td>93</td>\n      <td>...</td>\n      <td>18</td>\n      <td>-20.0</td>\n      <td>ORL</td>\n      <td>0</td>\n      <td>0</td>\n      <td>Tata</td>\n      <td>9</td>\n      <td>Tata</td>\n      <td>0</td>\n      <td>1</td>\n    </tr>\n    <tr>\n      <th>89</th>\n      <td>22022</td>\n      <td>1610612746</td>\n      <td>LAC</td>\n      <td>LA Clippers</td>\n      <td>0022200067</td>\n      <td>2022-10-27</td>\n      <td>LAC @ OKC</td>\n      <td>L</td>\n      <td>240</td>\n      <td>110</td>\n      <td>...</td>\n      <td>17</td>\n      <td>-8.0</td>\n      <td>OKC</td>\n      <td>0</td>\n      <td>0</td>\n      <td>Tata</td>\n      <td>3</td>\n      <td>Tata</td>\n      <td>0</td>\n      <td>1</td>\n    </tr>\n    <tr>\n      <th>90</th>\n      <td>22022</td>\n      <td>1610612746</td>\n      <td>LAC</td>\n      <td>LA Clippers</td>\n      <td>0022200054</td>\n      <td>2022-10-25</td>\n      <td>LAC @ OKC</td>\n      <td>L</td>\n      <td>241</td>\n      <td>94</td>\n      <td>...</td>\n      <td>18</td>\n      <td>-14.0</td>\n      <td>OKC</td>\n      <td>0</td>\n      <td>0</td>\n      <td>Tata</td>\n      <td>3</td>\n      <td>Tata</td>\n      <td>0</td>\n      <td>1</td>\n    </tr>\n    <tr>\n      <th>91</th>\n      <td>22022</td>\n      <td>1610612742</td>\n      <td>DAL</td>\n      <td>Dallas Mavericks</td>\n      <td>0022200086</td>\n      <td>2022-10-29</td>\n      <td>DAL vs. OKC</td>\n      <td>L</td>\n      <td>264</td>\n      <td>111</td>\n      <td>...</td>\n      <td>30</td>\n      <td>-6.0</td>\n      <td>OKC</td>\n      <td>1</td>\n      <td>0</td>\n      <td>Tata</td>\n      <td>1</td>\n      <td>Tata</td>\n      <td>0</td>\n      <td>1</td>\n    </tr>\n    <tr>\n      <th>121</th>\n      <td>22022</td>\n      <td>1610612746</td>\n      <td>LAC</td>\n      <td>LA Clippers</td>\n      <td>0022200088</td>\n      <td>2022-10-30</td>\n      <td>LAC vs. NOP</td>\n      <td>L</td>\n      <td>241</td>\n      <td>91</td>\n      <td>...</td>\n      <td>15</td>\n      <td>-21.0</td>\n      <td>NOP</td>\n      <td>1</td>\n      <td>0</td>\n      <td>Tata</td>\n      <td>3</td>\n      <td>Tata</td>\n      <td>0</td>\n      <td>1</td>\n    </tr>\n    <tr>\n      <th>122</th>\n      <td>22022</td>\n      <td>1610612742</td>\n      <td>DAL</td>\n      <td>Dallas Mavericks</td>\n      <td>0022200053</td>\n      <td>2022-10-25</td>\n      <td>DAL @ NOP</td>\n      <td>L</td>\n      <td>240</td>\n      <td>111</td>\n      <td>...</td>\n      <td>16</td>\n      <td>-2.0</td>\n      <td>NOP</td>\n      <td>0</td>\n      <td>0</td>\n      <td>Tata</td>\n      <td>1</td>\n      <td>Tata</td>\n      <td>0</td>\n      <td>1</td>\n    </tr>\n    <tr>\n      <th>124</th>\n      <td>22022</td>\n      <td>1610612766</td>\n      <td>CHA</td>\n      <td>Charlotte Hornets</td>\n      <td>0022200017</td>\n      <td>2022-10-21</td>\n      <td>CHA vs. NOP</td>\n      <td>L</td>\n      <td>239</td>\n      <td>112</td>\n      <td>...</td>\n      <td>23</td>\n      <td>-12.0</td>\n      <td>NOP</td>\n      <td>1</td>\n      <td>0</td>\n      <td>Tata</td>\n      <td>9</td>\n      <td>Tata</td>\n      <td>0</td>\n      <td>1</td>\n    </tr>\n    <tr>\n      <th>127</th>\n      <td>22022</td>\n      <td>1610612740</td>\n      <td>NOP</td>\n      <td>New Orleans Pelicans</td>\n      <td>0022200088</td>\n      <td>2022-10-30</td>\n      <td>NOP @ LAC</td>\n      <td>W</td>\n      <td>242</td>\n      <td>112</td>\n      <td>...</td>\n      <td>15</td>\n      <td>21.0</td>\n      <td>LAC</td>\n      <td>0</td>\n      <td>1</td>\n      <td>Tata</td>\n      <td>5</td>\n      <td>Tata</td>\n      <td>0</td>\n      <td>1</td>\n    </tr>\n    <tr>\n      <th>128</th>\n      <td>22022</td>\n      <td>1610612758</td>\n      <td>SAC</td>\n      <td>Sacramento Kings</td>\n      <td>0022200036</td>\n      <td>2022-10-22</td>\n      <td>SAC vs. LAC</td>\n      <td>L</td>\n      <td>239</td>\n      <td>109</td>\n      <td>...</td>\n      <td>21</td>\n      <td>-2.0</td>\n      <td>LAC</td>\n      <td>1</td>\n      <td>0</td>\n      <td>Tata</td>\n      <td>10</td>\n      <td>Tata</td>\n      <td>0</td>\n      <td>1</td>\n    </tr>\n    <tr>\n      <th>129</th>\n      <td>22022</td>\n      <td>1610612760</td>\n      <td>OKC</td>\n      <td>Oklahoma City Thunder</td>\n      <td>0022200067</td>\n      <td>2022-10-27</td>\n      <td>OKC vs. LAC</td>\n      <td>W</td>\n      <td>240</td>\n      <td>118</td>\n      <td>...</td>\n      <td>21</td>\n      <td>8.0</td>\n      <td>LAC</td>\n      <td>1</td>\n      <td>1</td>\n      <td>Tata</td>\n      <td>7</td>\n      <td>Tata</td>\n      <td>0</td>\n      <td>1</td>\n    </tr>\n    <tr>\n      <th>130</th>\n      <td>22022</td>\n      <td>1610612760</td>\n      <td>OKC</td>\n      <td>Oklahoma City Thunder</td>\n      <td>0022200054</td>\n      <td>2022-10-25</td>\n      <td>OKC vs. LAC</td>\n      <td>W</td>\n      <td>239</td>\n      <td>108</td>\n      <td>...</td>\n      <td>13</td>\n      <td>14.0</td>\n      <td>LAC</td>\n      <td>1</td>\n      <td>1</td>\n      <td>Tata</td>\n      <td>7</td>\n      <td>Tata</td>\n      <td>0</td>\n      <td>1</td>\n    </tr>\n    <tr>\n      <th>133</th>\n      <td>22022</td>\n      <td>1610612740</td>\n      <td>NOP</td>\n      <td>New Orleans Pelicans</td>\n      <td>0022200053</td>\n      <td>2022-10-25</td>\n      <td>NOP vs. DAL</td>\n      <td>W</td>\n      <td>239</td>\n      <td>113</td>\n      <td>...</td>\n      <td>21</td>\n      <td>2.0</td>\n      <td>DAL</td>\n      <td>1</td>\n      <td>1</td>\n      <td>Tata</td>\n      <td>5</td>\n      <td>Tata</td>\n      <td>0</td>\n      <td>1</td>\n    </tr>\n    <tr>\n      <th>134</th>\n      <td>22022</td>\n      <td>1610612753</td>\n      <td>ORL</td>\n      <td>Orlando Magic</td>\n      <td>0022200093</td>\n      <td>2022-10-30</td>\n      <td>ORL @ DAL</td>\n      <td>L</td>\n      <td>239</td>\n      <td>105</td>\n      <td>...</td>\n      <td>22</td>\n      <td>-5.6</td>\n      <td>DAL</td>\n      <td>0</td>\n      <td>0</td>\n      <td>Tata</td>\n      <td>6</td>\n      <td>Tata</td>\n      <td>0</td>\n      <td>1</td>\n    </tr>\n    <tr>\n      <th>136</th>\n      <td>22022</td>\n      <td>1610612760</td>\n      <td>OKC</td>\n      <td>Oklahoma City Thunder</td>\n      <td>0022200086</td>\n      <td>2022-10-29</td>\n      <td>OKC @ DAL</td>\n      <td>W</td>\n      <td>265</td>\n      <td>117</td>\n      <td>...</td>\n      <td>29</td>\n      <td>6.0</td>\n      <td>DAL</td>\n      <td>0</td>\n      <td>1</td>\n      <td>Tata</td>\n      <td>7</td>\n      <td>Tata</td>\n      <td>0</td>\n      <td>1</td>\n    </tr>\n  </tbody>\n</table>\n<p>26 rows × 36 columns</p>\n</div>"
     },
     "execution_count": 23,
     "metadata": {},
     "output_type": "execute_result"
    }
   ],
   "source": [
    "games[(games.TEAM_OWNER == \"Tata\") & (games.IS_AGAINST_OWN==1)]"
   ],
   "metadata": {
    "collapsed": false
   }
  },
  {
   "cell_type": "code",
   "execution_count": null,
   "outputs": [],
   "source": [],
   "metadata": {
    "collapsed": false
   }
  }
 ],
 "metadata": {
  "kernelspec": {
   "display_name": "Python 3",
   "language": "python",
   "name": "python3"
  },
  "language_info": {
   "codemirror_mode": {
    "name": "ipython",
    "version": 2
   },
   "file_extension": ".py",
   "mimetype": "text/x-python",
   "name": "python",
   "nbconvert_exporter": "python",
   "pygments_lexer": "ipython2",
   "version": "2.7.6"
  }
 },
 "nbformat": 4,
 "nbformat_minor": 0
}
