{
 "cells": [
  {
   "cell_type": "code",
   "execution_count": null,
   "metadata": {
    "collapsed": true
   },
   "outputs": [],
   "source": [
    "%pip install nba_api"
   ]
  },
  {
   "cell_type": "code",
   "execution_count": null,
   "outputs": [],
   "source": [
    "\"\"\"\n",
    "\n",
    "\n",
    "api link:       https://github.com/swar/nba_api/blob/master/docs/nba_api/stats/endpoints/leaguegamefinder.md\n",
    "                https://github.com/swar/nba_api/tree/master/docs/nba_api\n",
    "code base link: https://github.com/liannewriting/data-science-project-from-scratch-youtube-nba/blob/main/main.py\n",
    "                https://youtu.be/cSnM2PHVqYs\n",
    "\n",
    "\"\"\""
   ],
   "metadata": {
    "collapsed": false
   }
  },
  {
   "cell_type": "code",
   "execution_count": 1,
   "outputs": [],
   "source": [
    "# import libraries\n",
    "\n",
    "from nba_api.stats.endpoints import leaguegamefinder\n",
    "import datetime as dt\n",
    "import pandas as pd\n",
    "import numpy as np"
   ],
   "metadata": {
    "collapsed": false
   }
  },
  {
   "cell_type": "code",
   "execution_count": 2,
   "outputs": [],
   "source": [
    "league_start= dt.date(2022,10,17)   #league start\n",
    "league_end= dt.date.today()\n",
    "\n",
    "# to get a stupid MM/DD/YYYY format to push the parameter through\n",
    "league_start_str = league_start.strftime(\"%m/%d/%Y\")\n",
    "league_end_str = league_end.strftime(\"%m/%d/%Y\")\n",
    "\n",
    "\n"
   ],
   "metadata": {
    "collapsed": false
   }
  },
  {
   "cell_type": "code",
   "execution_count": 3,
   "outputs": [
    {
     "data": {
      "text/plain": "   SEASON_ID     TEAM_ID TEAM_ABBREVIATION              TEAM_NAME     GAME_ID  \\\n0      22022  1610612746               LAC            LA Clippers  0022200036   \n1      22022  1610612758               SAC       Sacramento Kings  0022200036   \n2      22022  1610612749               MIL        Milwaukee Bucks  0022200033   \n3      22022  1610612745               HOU        Houston Rockets  0022200033   \n4      22022  1610612748               MIA             Miami Heat  0022200031   \n5      22022  1610612761               TOR        Toronto Raptors  0022200031   \n6      22022  1610612742               DAL       Dallas Mavericks  0022200034   \n7      22022  1610612763               MEM      Memphis Grizzlies  0022200034   \n8      22022  1610612743               DEN         Denver Nuggets  0022200035   \n9      22022  1610612760               OKC  Oklahoma City Thunder  0022200035   \n10     22022  1610612765               DET        Detroit Pistons  0022200029   \n11     22022  1610612755               PHI     Philadelphia 76ers  0022200028   \n12     22022  1610612759               SAS      San Antonio Spurs  0022200028   \n13     22022  1610612753               ORL          Orlando Magic  0022200030   \n14     22022  1610612738               BOS         Boston Celtics  0022200030   \n15     22022  1610612739               CLE    Cleveland Cavaliers  0022200032   \n16     22022  1610612741               CHI          Chicago Bulls  0022200032   \n17     22022  1610612754               IND         Indiana Pacers  0022200029   \n18     22022  1610612761               TOR        Toronto Raptors  0022200021   \n19     22022  1610612751               BKN          Brooklyn Nets  0022200021   \n\n     GAME_DATE      MATCHUP WL  MIN  PTS  ...  FT_PCT  OREB  DREB  REB  AST  \\\n0   2022-10-22    LAC @ SAC  W  241  111  ...   0.909     5    35   40   24   \n1   2022-10-22  SAC vs. LAC  L  239  109  ...   0.577     9    30   39   24   \n2   2022-10-22  MIL vs. HOU  W  241  125  ...   0.619     8    39   47   29   \n3   2022-10-22    HOU @ MIL  L  242  105  ...   0.773    15    32   47   20   \n4   2022-10-22  MIA vs. TOR  W  240  112  ...   0.926     6    38   44   28   \n5   2022-10-22    TOR @ MIA  L  241  109  ...   0.750     8    29   37   24   \n6   2022-10-22  DAL vs. MEM  W  238  137  ...   0.833    15    37   52   23   \n7   2022-10-22    MEM @ DAL  L  239   96  ...   0.792     6    23   29   20   \n8   2022-10-22  DEN vs. OKC  W  239  122  ...   0.581     9    37   46   33   \n9   2022-10-22    OKC @ DEN  L  239  117  ...   0.783    10    37   47   29   \n10  2022-10-22    DET @ IND  L  238  115  ...   0.767    17    36   53   26   \n11  2022-10-22  PHI vs. SAS  L  241  105  ...   0.750    12    28   40   26   \n12  2022-10-22    SAS @ PHI  W  239  114  ...   0.800    12    31   43   27   \n13  2022-10-22  ORL vs. BOS  L  241  120  ...   0.652    12    36   48   21   \n14  2022-10-22    BOS @ ORL  W  243  126  ...   0.821     7    30   37   24   \n15  2022-10-22    CLE @ CHI  W  241  128  ...   0.889     8    40   48   32   \n16  2022-10-22  CHI vs. CLE  L  242   96  ...   0.840    10    25   35   19   \n17  2022-10-22  IND vs. DET  W  240  124  ...   0.750    20    39   59   28   \n18  2022-10-21    TOR @ BKN  L  240  105  ...   0.667     8    33   41   25   \n19  2022-10-21  BKN vs. TOR  W  239  109  ...   0.690    13    31   44   26   \n\n    STL  BLK  TOV  PF  PLUS_MINUS  \n0     8    3   13  21         2.0  \n1     5    5   12  21        -2.0  \n2     6   10   16  22        20.0  \n3     9    6   12  22       -20.0  \n4     2    2   15  25         3.0  \n5     9    5    6  25        -3.0  \n6     7    7   15  23        41.0  \n7     4    8   17  29       -41.0  \n8     5    6   18  21         5.0  \n9    10    5   12  27        -5.0  \n10    5    3   13  20        -9.0  \n11    6    5   12  15        -9.0  \n12    5    7   14  20         9.0  \n13    5    7    9  24        -6.0  \n14    5    6    8  21         6.0  \n15    4    5   17  16        32.0  \n16   12    7   10  19       -32.0  \n17    7   15   11  21         9.0  \n18    9    4   13  21        -4.0  \n19    3   13   13  18         4.0  \n\n[20 rows x 28 columns]",
      "text/html": "<div>\n<style scoped>\n    .dataframe tbody tr th:only-of-type {\n        vertical-align: middle;\n    }\n\n    .dataframe tbody tr th {\n        vertical-align: top;\n    }\n\n    .dataframe thead th {\n        text-align: right;\n    }\n</style>\n<table border=\"1\" class=\"dataframe\">\n  <thead>\n    <tr style=\"text-align: right;\">\n      <th></th>\n      <th>SEASON_ID</th>\n      <th>TEAM_ID</th>\n      <th>TEAM_ABBREVIATION</th>\n      <th>TEAM_NAME</th>\n      <th>GAME_ID</th>\n      <th>GAME_DATE</th>\n      <th>MATCHUP</th>\n      <th>WL</th>\n      <th>MIN</th>\n      <th>PTS</th>\n      <th>...</th>\n      <th>FT_PCT</th>\n      <th>OREB</th>\n      <th>DREB</th>\n      <th>REB</th>\n      <th>AST</th>\n      <th>STL</th>\n      <th>BLK</th>\n      <th>TOV</th>\n      <th>PF</th>\n      <th>PLUS_MINUS</th>\n    </tr>\n  </thead>\n  <tbody>\n    <tr>\n      <th>0</th>\n      <td>22022</td>\n      <td>1610612746</td>\n      <td>LAC</td>\n      <td>LA Clippers</td>\n      <td>0022200036</td>\n      <td>2022-10-22</td>\n      <td>LAC @ SAC</td>\n      <td>W</td>\n      <td>241</td>\n      <td>111</td>\n      <td>...</td>\n      <td>0.909</td>\n      <td>5</td>\n      <td>35</td>\n      <td>40</td>\n      <td>24</td>\n      <td>8</td>\n      <td>3</td>\n      <td>13</td>\n      <td>21</td>\n      <td>2.0</td>\n    </tr>\n    <tr>\n      <th>1</th>\n      <td>22022</td>\n      <td>1610612758</td>\n      <td>SAC</td>\n      <td>Sacramento Kings</td>\n      <td>0022200036</td>\n      <td>2022-10-22</td>\n      <td>SAC vs. LAC</td>\n      <td>L</td>\n      <td>239</td>\n      <td>109</td>\n      <td>...</td>\n      <td>0.577</td>\n      <td>9</td>\n      <td>30</td>\n      <td>39</td>\n      <td>24</td>\n      <td>5</td>\n      <td>5</td>\n      <td>12</td>\n      <td>21</td>\n      <td>-2.0</td>\n    </tr>\n    <tr>\n      <th>2</th>\n      <td>22022</td>\n      <td>1610612749</td>\n      <td>MIL</td>\n      <td>Milwaukee Bucks</td>\n      <td>0022200033</td>\n      <td>2022-10-22</td>\n      <td>MIL vs. HOU</td>\n      <td>W</td>\n      <td>241</td>\n      <td>125</td>\n      <td>...</td>\n      <td>0.619</td>\n      <td>8</td>\n      <td>39</td>\n      <td>47</td>\n      <td>29</td>\n      <td>6</td>\n      <td>10</td>\n      <td>16</td>\n      <td>22</td>\n      <td>20.0</td>\n    </tr>\n    <tr>\n      <th>3</th>\n      <td>22022</td>\n      <td>1610612745</td>\n      <td>HOU</td>\n      <td>Houston Rockets</td>\n      <td>0022200033</td>\n      <td>2022-10-22</td>\n      <td>HOU @ MIL</td>\n      <td>L</td>\n      <td>242</td>\n      <td>105</td>\n      <td>...</td>\n      <td>0.773</td>\n      <td>15</td>\n      <td>32</td>\n      <td>47</td>\n      <td>20</td>\n      <td>9</td>\n      <td>6</td>\n      <td>12</td>\n      <td>22</td>\n      <td>-20.0</td>\n    </tr>\n    <tr>\n      <th>4</th>\n      <td>22022</td>\n      <td>1610612748</td>\n      <td>MIA</td>\n      <td>Miami Heat</td>\n      <td>0022200031</td>\n      <td>2022-10-22</td>\n      <td>MIA vs. TOR</td>\n      <td>W</td>\n      <td>240</td>\n      <td>112</td>\n      <td>...</td>\n      <td>0.926</td>\n      <td>6</td>\n      <td>38</td>\n      <td>44</td>\n      <td>28</td>\n      <td>2</td>\n      <td>2</td>\n      <td>15</td>\n      <td>25</td>\n      <td>3.0</td>\n    </tr>\n    <tr>\n      <th>5</th>\n      <td>22022</td>\n      <td>1610612761</td>\n      <td>TOR</td>\n      <td>Toronto Raptors</td>\n      <td>0022200031</td>\n      <td>2022-10-22</td>\n      <td>TOR @ MIA</td>\n      <td>L</td>\n      <td>241</td>\n      <td>109</td>\n      <td>...</td>\n      <td>0.750</td>\n      <td>8</td>\n      <td>29</td>\n      <td>37</td>\n      <td>24</td>\n      <td>9</td>\n      <td>5</td>\n      <td>6</td>\n      <td>25</td>\n      <td>-3.0</td>\n    </tr>\n    <tr>\n      <th>6</th>\n      <td>22022</td>\n      <td>1610612742</td>\n      <td>DAL</td>\n      <td>Dallas Mavericks</td>\n      <td>0022200034</td>\n      <td>2022-10-22</td>\n      <td>DAL vs. MEM</td>\n      <td>W</td>\n      <td>238</td>\n      <td>137</td>\n      <td>...</td>\n      <td>0.833</td>\n      <td>15</td>\n      <td>37</td>\n      <td>52</td>\n      <td>23</td>\n      <td>7</td>\n      <td>7</td>\n      <td>15</td>\n      <td>23</td>\n      <td>41.0</td>\n    </tr>\n    <tr>\n      <th>7</th>\n      <td>22022</td>\n      <td>1610612763</td>\n      <td>MEM</td>\n      <td>Memphis Grizzlies</td>\n      <td>0022200034</td>\n      <td>2022-10-22</td>\n      <td>MEM @ DAL</td>\n      <td>L</td>\n      <td>239</td>\n      <td>96</td>\n      <td>...</td>\n      <td>0.792</td>\n      <td>6</td>\n      <td>23</td>\n      <td>29</td>\n      <td>20</td>\n      <td>4</td>\n      <td>8</td>\n      <td>17</td>\n      <td>29</td>\n      <td>-41.0</td>\n    </tr>\n    <tr>\n      <th>8</th>\n      <td>22022</td>\n      <td>1610612743</td>\n      <td>DEN</td>\n      <td>Denver Nuggets</td>\n      <td>0022200035</td>\n      <td>2022-10-22</td>\n      <td>DEN vs. OKC</td>\n      <td>W</td>\n      <td>239</td>\n      <td>122</td>\n      <td>...</td>\n      <td>0.581</td>\n      <td>9</td>\n      <td>37</td>\n      <td>46</td>\n      <td>33</td>\n      <td>5</td>\n      <td>6</td>\n      <td>18</td>\n      <td>21</td>\n      <td>5.0</td>\n    </tr>\n    <tr>\n      <th>9</th>\n      <td>22022</td>\n      <td>1610612760</td>\n      <td>OKC</td>\n      <td>Oklahoma City Thunder</td>\n      <td>0022200035</td>\n      <td>2022-10-22</td>\n      <td>OKC @ DEN</td>\n      <td>L</td>\n      <td>239</td>\n      <td>117</td>\n      <td>...</td>\n      <td>0.783</td>\n      <td>10</td>\n      <td>37</td>\n      <td>47</td>\n      <td>29</td>\n      <td>10</td>\n      <td>5</td>\n      <td>12</td>\n      <td>27</td>\n      <td>-5.0</td>\n    </tr>\n    <tr>\n      <th>10</th>\n      <td>22022</td>\n      <td>1610612765</td>\n      <td>DET</td>\n      <td>Detroit Pistons</td>\n      <td>0022200029</td>\n      <td>2022-10-22</td>\n      <td>DET @ IND</td>\n      <td>L</td>\n      <td>238</td>\n      <td>115</td>\n      <td>...</td>\n      <td>0.767</td>\n      <td>17</td>\n      <td>36</td>\n      <td>53</td>\n      <td>26</td>\n      <td>5</td>\n      <td>3</td>\n      <td>13</td>\n      <td>20</td>\n      <td>-9.0</td>\n    </tr>\n    <tr>\n      <th>11</th>\n      <td>22022</td>\n      <td>1610612755</td>\n      <td>PHI</td>\n      <td>Philadelphia 76ers</td>\n      <td>0022200028</td>\n      <td>2022-10-22</td>\n      <td>PHI vs. SAS</td>\n      <td>L</td>\n      <td>241</td>\n      <td>105</td>\n      <td>...</td>\n      <td>0.750</td>\n      <td>12</td>\n      <td>28</td>\n      <td>40</td>\n      <td>26</td>\n      <td>6</td>\n      <td>5</td>\n      <td>12</td>\n      <td>15</td>\n      <td>-9.0</td>\n    </tr>\n    <tr>\n      <th>12</th>\n      <td>22022</td>\n      <td>1610612759</td>\n      <td>SAS</td>\n      <td>San Antonio Spurs</td>\n      <td>0022200028</td>\n      <td>2022-10-22</td>\n      <td>SAS @ PHI</td>\n      <td>W</td>\n      <td>239</td>\n      <td>114</td>\n      <td>...</td>\n      <td>0.800</td>\n      <td>12</td>\n      <td>31</td>\n      <td>43</td>\n      <td>27</td>\n      <td>5</td>\n      <td>7</td>\n      <td>14</td>\n      <td>20</td>\n      <td>9.0</td>\n    </tr>\n    <tr>\n      <th>13</th>\n      <td>22022</td>\n      <td>1610612753</td>\n      <td>ORL</td>\n      <td>Orlando Magic</td>\n      <td>0022200030</td>\n      <td>2022-10-22</td>\n      <td>ORL vs. BOS</td>\n      <td>L</td>\n      <td>241</td>\n      <td>120</td>\n      <td>...</td>\n      <td>0.652</td>\n      <td>12</td>\n      <td>36</td>\n      <td>48</td>\n      <td>21</td>\n      <td>5</td>\n      <td>7</td>\n      <td>9</td>\n      <td>24</td>\n      <td>-6.0</td>\n    </tr>\n    <tr>\n      <th>14</th>\n      <td>22022</td>\n      <td>1610612738</td>\n      <td>BOS</td>\n      <td>Boston Celtics</td>\n      <td>0022200030</td>\n      <td>2022-10-22</td>\n      <td>BOS @ ORL</td>\n      <td>W</td>\n      <td>243</td>\n      <td>126</td>\n      <td>...</td>\n      <td>0.821</td>\n      <td>7</td>\n      <td>30</td>\n      <td>37</td>\n      <td>24</td>\n      <td>5</td>\n      <td>6</td>\n      <td>8</td>\n      <td>21</td>\n      <td>6.0</td>\n    </tr>\n    <tr>\n      <th>15</th>\n      <td>22022</td>\n      <td>1610612739</td>\n      <td>CLE</td>\n      <td>Cleveland Cavaliers</td>\n      <td>0022200032</td>\n      <td>2022-10-22</td>\n      <td>CLE @ CHI</td>\n      <td>W</td>\n      <td>241</td>\n      <td>128</td>\n      <td>...</td>\n      <td>0.889</td>\n      <td>8</td>\n      <td>40</td>\n      <td>48</td>\n      <td>32</td>\n      <td>4</td>\n      <td>5</td>\n      <td>17</td>\n      <td>16</td>\n      <td>32.0</td>\n    </tr>\n    <tr>\n      <th>16</th>\n      <td>22022</td>\n      <td>1610612741</td>\n      <td>CHI</td>\n      <td>Chicago Bulls</td>\n      <td>0022200032</td>\n      <td>2022-10-22</td>\n      <td>CHI vs. CLE</td>\n      <td>L</td>\n      <td>242</td>\n      <td>96</td>\n      <td>...</td>\n      <td>0.840</td>\n      <td>10</td>\n      <td>25</td>\n      <td>35</td>\n      <td>19</td>\n      <td>12</td>\n      <td>7</td>\n      <td>10</td>\n      <td>19</td>\n      <td>-32.0</td>\n    </tr>\n    <tr>\n      <th>17</th>\n      <td>22022</td>\n      <td>1610612754</td>\n      <td>IND</td>\n      <td>Indiana Pacers</td>\n      <td>0022200029</td>\n      <td>2022-10-22</td>\n      <td>IND vs. DET</td>\n      <td>W</td>\n      <td>240</td>\n      <td>124</td>\n      <td>...</td>\n      <td>0.750</td>\n      <td>20</td>\n      <td>39</td>\n      <td>59</td>\n      <td>28</td>\n      <td>7</td>\n      <td>15</td>\n      <td>11</td>\n      <td>21</td>\n      <td>9.0</td>\n    </tr>\n    <tr>\n      <th>18</th>\n      <td>22022</td>\n      <td>1610612761</td>\n      <td>TOR</td>\n      <td>Toronto Raptors</td>\n      <td>0022200021</td>\n      <td>2022-10-21</td>\n      <td>TOR @ BKN</td>\n      <td>L</td>\n      <td>240</td>\n      <td>105</td>\n      <td>...</td>\n      <td>0.667</td>\n      <td>8</td>\n      <td>33</td>\n      <td>41</td>\n      <td>25</td>\n      <td>9</td>\n      <td>4</td>\n      <td>13</td>\n      <td>21</td>\n      <td>-4.0</td>\n    </tr>\n    <tr>\n      <th>19</th>\n      <td>22022</td>\n      <td>1610612751</td>\n      <td>BKN</td>\n      <td>Brooklyn Nets</td>\n      <td>0022200021</td>\n      <td>2022-10-21</td>\n      <td>BKN vs. TOR</td>\n      <td>W</td>\n      <td>239</td>\n      <td>109</td>\n      <td>...</td>\n      <td>0.690</td>\n      <td>13</td>\n      <td>31</td>\n      <td>44</td>\n      <td>26</td>\n      <td>3</td>\n      <td>13</td>\n      <td>13</td>\n      <td>18</td>\n      <td>4.0</td>\n    </tr>\n  </tbody>\n</table>\n<p>20 rows × 28 columns</p>\n</div>"
     },
     "execution_count": 3,
     "metadata": {},
     "output_type": "execute_result"
    }
   ],
   "source": [
    "gamefinder = leaguegamefinder.LeagueGameFinder(date_from_nullable=league_start_str, # start date\n",
    "                                               date_to_nullable=league_end_str,     # end date\n",
    "                                               league_id_nullable='00',\n",
    "                                               )\n",
    "# would be for specific date: date_from_nullable=game_date_str\n",
    "games = gamefinder.get_data_frames()[0]\n",
    "games.head(20)"
   ],
   "metadata": {
    "collapsed": false
   }
  },
  {
   "cell_type": "code",
   "execution_count": 4,
   "outputs": [
    {
     "data": {
      "text/plain": "Index(['SEASON_ID', 'TEAM_ID', 'TEAM_ABBREVIATION', 'TEAM_NAME', 'GAME_ID',\n       'GAME_DATE', 'MATCHUP', 'WL', 'MIN', 'PTS', 'FGM', 'FGA', 'FG_PCT',\n       'FG3M', 'FG3A', 'FG3_PCT', 'FTM', 'FTA', 'FT_PCT', 'OREB', 'DREB',\n       'REB', 'AST', 'STL', 'BLK', 'TOV', 'PF', 'PLUS_MINUS'],\n      dtype='object')"
     },
     "execution_count": 4,
     "metadata": {},
     "output_type": "execute_result"
    }
   ],
   "source": [
    "games.columns"
   ],
   "metadata": {
    "collapsed": false
   }
  },
  {
   "cell_type": "code",
   "execution_count": 5,
   "outputs": [],
   "source": [
    "# Add additional information in separate columns from MATCHDAY\n",
    "\n",
    "# Add a column about an opponent - always in matchup\n",
    "\n",
    "opponent = games['MATCHUP'].str[-3:]\n",
    "games['OPPONENT'] = opponent\n",
    "\n",
    "# Is it a home or away game? > first set all to home then change those having @ to away\n",
    "games['IS_HOME'] = 1\n",
    "games.loc[games['MATCHUP'].str.contains('@'), 'IS_HOME'] = 0\n",
    "\n",
    "# Add actual countable Wins\n",
    "games['IS_WIN'] = 1\n",
    "games.loc[games['WL'] == 'L', 'IS_WIN'] = 0"
   ],
   "metadata": {
    "collapsed": false
   }
  },
  {
   "cell_type": "code",
   "execution_count": 6,
   "outputs": [
    {
     "data": {
      "text/plain": "   SEASON_ID     TEAM_ID TEAM_ABBREVIATION              TEAM_NAME     GAME_ID  \\\n0      22022  1610612746               LAC            LA Clippers  0022200036   \n1      22022  1610612758               SAC       Sacramento Kings  0022200036   \n2      22022  1610612749               MIL        Milwaukee Bucks  0022200033   \n3      22022  1610612745               HOU        Houston Rockets  0022200033   \n4      22022  1610612748               MIA             Miami Heat  0022200031   \n..       ...         ...               ...                    ...         ...   \n67     22022  1610612758               SAC       Sacramento Kings  0022200014   \n68     22022  1610612744               GSW  Golden State Warriors  0022200002   \n69     22022  1610612747               LAL     Los Angeles Lakers  0022200002   \n70     22022  1610612755               PHI     Philadelphia 76ers  0022200001   \n71     22022  1610612738               BOS         Boston Celtics  0022200001   \n\n     GAME_DATE      MATCHUP WL  MIN  PTS  ...  REB  AST  STL  BLK  TOV  PF  \\\n0   2022-10-22    LAC @ SAC  W  241  111  ...   40   24    8    3   13  21   \n1   2022-10-22  SAC vs. LAC  L  239  109  ...   39   24    5    5   12  21   \n2   2022-10-22  MIL vs. HOU  W  241  125  ...   47   29    6   10   16  22   \n3   2022-10-22    HOU @ MIL  L  242  105  ...   47   20    9    6   12  22   \n4   2022-10-22  MIA vs. TOR  W  240  112  ...   44   28    2    2   15  25   \n..         ...          ... ..  ...  ...  ...  ...  ...  ...  ...  ...  ..   \n67  2022-10-19  SAC vs. POR  L  241  108  ...   41   27    8    5   15  25   \n68  2022-10-18  GSW vs. LAL  W  241  123  ...   48   31   11    4   18  23   \n69  2022-10-18    LAL @ GSW  L  241  109  ...   48   23   12    4   21  18   \n70  2022-10-18    PHI @ BOS  L  239  117  ...   31   16    8    3   14  25   \n71  2022-10-18  BOS vs. PHI  W  240  126  ...   36   24    8    3   10  23   \n\n    PLUS_MINUS  OPPONENT  IS_HOME  IS_WIN  \n0          2.0       SAC        0       1  \n1         -2.0       LAC        1       0  \n2         20.0       HOU        1       1  \n3        -20.0       MIL        0       0  \n4          3.0       TOR        1       1  \n..         ...       ...      ...     ...  \n67        -7.0       POR        1       0  \n68        14.0       LAL        1       1  \n69       -14.0       GSW        0       0  \n70        -9.0       BOS        0       0  \n71         9.0       PHI        1       1  \n\n[72 rows x 31 columns]",
      "text/html": "<div>\n<style scoped>\n    .dataframe tbody tr th:only-of-type {\n        vertical-align: middle;\n    }\n\n    .dataframe tbody tr th {\n        vertical-align: top;\n    }\n\n    .dataframe thead th {\n        text-align: right;\n    }\n</style>\n<table border=\"1\" class=\"dataframe\">\n  <thead>\n    <tr style=\"text-align: right;\">\n      <th></th>\n      <th>SEASON_ID</th>\n      <th>TEAM_ID</th>\n      <th>TEAM_ABBREVIATION</th>\n      <th>TEAM_NAME</th>\n      <th>GAME_ID</th>\n      <th>GAME_DATE</th>\n      <th>MATCHUP</th>\n      <th>WL</th>\n      <th>MIN</th>\n      <th>PTS</th>\n      <th>...</th>\n      <th>REB</th>\n      <th>AST</th>\n      <th>STL</th>\n      <th>BLK</th>\n      <th>TOV</th>\n      <th>PF</th>\n      <th>PLUS_MINUS</th>\n      <th>OPPONENT</th>\n      <th>IS_HOME</th>\n      <th>IS_WIN</th>\n    </tr>\n  </thead>\n  <tbody>\n    <tr>\n      <th>0</th>\n      <td>22022</td>\n      <td>1610612746</td>\n      <td>LAC</td>\n      <td>LA Clippers</td>\n      <td>0022200036</td>\n      <td>2022-10-22</td>\n      <td>LAC @ SAC</td>\n      <td>W</td>\n      <td>241</td>\n      <td>111</td>\n      <td>...</td>\n      <td>40</td>\n      <td>24</td>\n      <td>8</td>\n      <td>3</td>\n      <td>13</td>\n      <td>21</td>\n      <td>2.0</td>\n      <td>SAC</td>\n      <td>0</td>\n      <td>1</td>\n    </tr>\n    <tr>\n      <th>1</th>\n      <td>22022</td>\n      <td>1610612758</td>\n      <td>SAC</td>\n      <td>Sacramento Kings</td>\n      <td>0022200036</td>\n      <td>2022-10-22</td>\n      <td>SAC vs. LAC</td>\n      <td>L</td>\n      <td>239</td>\n      <td>109</td>\n      <td>...</td>\n      <td>39</td>\n      <td>24</td>\n      <td>5</td>\n      <td>5</td>\n      <td>12</td>\n      <td>21</td>\n      <td>-2.0</td>\n      <td>LAC</td>\n      <td>1</td>\n      <td>0</td>\n    </tr>\n    <tr>\n      <th>2</th>\n      <td>22022</td>\n      <td>1610612749</td>\n      <td>MIL</td>\n      <td>Milwaukee Bucks</td>\n      <td>0022200033</td>\n      <td>2022-10-22</td>\n      <td>MIL vs. HOU</td>\n      <td>W</td>\n      <td>241</td>\n      <td>125</td>\n      <td>...</td>\n      <td>47</td>\n      <td>29</td>\n      <td>6</td>\n      <td>10</td>\n      <td>16</td>\n      <td>22</td>\n      <td>20.0</td>\n      <td>HOU</td>\n      <td>1</td>\n      <td>1</td>\n    </tr>\n    <tr>\n      <th>3</th>\n      <td>22022</td>\n      <td>1610612745</td>\n      <td>HOU</td>\n      <td>Houston Rockets</td>\n      <td>0022200033</td>\n      <td>2022-10-22</td>\n      <td>HOU @ MIL</td>\n      <td>L</td>\n      <td>242</td>\n      <td>105</td>\n      <td>...</td>\n      <td>47</td>\n      <td>20</td>\n      <td>9</td>\n      <td>6</td>\n      <td>12</td>\n      <td>22</td>\n      <td>-20.0</td>\n      <td>MIL</td>\n      <td>0</td>\n      <td>0</td>\n    </tr>\n    <tr>\n      <th>4</th>\n      <td>22022</td>\n      <td>1610612748</td>\n      <td>MIA</td>\n      <td>Miami Heat</td>\n      <td>0022200031</td>\n      <td>2022-10-22</td>\n      <td>MIA vs. TOR</td>\n      <td>W</td>\n      <td>240</td>\n      <td>112</td>\n      <td>...</td>\n      <td>44</td>\n      <td>28</td>\n      <td>2</td>\n      <td>2</td>\n      <td>15</td>\n      <td>25</td>\n      <td>3.0</td>\n      <td>TOR</td>\n      <td>1</td>\n      <td>1</td>\n    </tr>\n    <tr>\n      <th>...</th>\n      <td>...</td>\n      <td>...</td>\n      <td>...</td>\n      <td>...</td>\n      <td>...</td>\n      <td>...</td>\n      <td>...</td>\n      <td>...</td>\n      <td>...</td>\n      <td>...</td>\n      <td>...</td>\n      <td>...</td>\n      <td>...</td>\n      <td>...</td>\n      <td>...</td>\n      <td>...</td>\n      <td>...</td>\n      <td>...</td>\n      <td>...</td>\n      <td>...</td>\n      <td>...</td>\n    </tr>\n    <tr>\n      <th>67</th>\n      <td>22022</td>\n      <td>1610612758</td>\n      <td>SAC</td>\n      <td>Sacramento Kings</td>\n      <td>0022200014</td>\n      <td>2022-10-19</td>\n      <td>SAC vs. POR</td>\n      <td>L</td>\n      <td>241</td>\n      <td>108</td>\n      <td>...</td>\n      <td>41</td>\n      <td>27</td>\n      <td>8</td>\n      <td>5</td>\n      <td>15</td>\n      <td>25</td>\n      <td>-7.0</td>\n      <td>POR</td>\n      <td>1</td>\n      <td>0</td>\n    </tr>\n    <tr>\n      <th>68</th>\n      <td>22022</td>\n      <td>1610612744</td>\n      <td>GSW</td>\n      <td>Golden State Warriors</td>\n      <td>0022200002</td>\n      <td>2022-10-18</td>\n      <td>GSW vs. LAL</td>\n      <td>W</td>\n      <td>241</td>\n      <td>123</td>\n      <td>...</td>\n      <td>48</td>\n      <td>31</td>\n      <td>11</td>\n      <td>4</td>\n      <td>18</td>\n      <td>23</td>\n      <td>14.0</td>\n      <td>LAL</td>\n      <td>1</td>\n      <td>1</td>\n    </tr>\n    <tr>\n      <th>69</th>\n      <td>22022</td>\n      <td>1610612747</td>\n      <td>LAL</td>\n      <td>Los Angeles Lakers</td>\n      <td>0022200002</td>\n      <td>2022-10-18</td>\n      <td>LAL @ GSW</td>\n      <td>L</td>\n      <td>241</td>\n      <td>109</td>\n      <td>...</td>\n      <td>48</td>\n      <td>23</td>\n      <td>12</td>\n      <td>4</td>\n      <td>21</td>\n      <td>18</td>\n      <td>-14.0</td>\n      <td>GSW</td>\n      <td>0</td>\n      <td>0</td>\n    </tr>\n    <tr>\n      <th>70</th>\n      <td>22022</td>\n      <td>1610612755</td>\n      <td>PHI</td>\n      <td>Philadelphia 76ers</td>\n      <td>0022200001</td>\n      <td>2022-10-18</td>\n      <td>PHI @ BOS</td>\n      <td>L</td>\n      <td>239</td>\n      <td>117</td>\n      <td>...</td>\n      <td>31</td>\n      <td>16</td>\n      <td>8</td>\n      <td>3</td>\n      <td>14</td>\n      <td>25</td>\n      <td>-9.0</td>\n      <td>BOS</td>\n      <td>0</td>\n      <td>0</td>\n    </tr>\n    <tr>\n      <th>71</th>\n      <td>22022</td>\n      <td>1610612738</td>\n      <td>BOS</td>\n      <td>Boston Celtics</td>\n      <td>0022200001</td>\n      <td>2022-10-18</td>\n      <td>BOS vs. PHI</td>\n      <td>W</td>\n      <td>240</td>\n      <td>126</td>\n      <td>...</td>\n      <td>36</td>\n      <td>24</td>\n      <td>8</td>\n      <td>3</td>\n      <td>10</td>\n      <td>23</td>\n      <td>9.0</td>\n      <td>PHI</td>\n      <td>1</td>\n      <td>1</td>\n    </tr>\n  </tbody>\n</table>\n<p>72 rows × 31 columns</p>\n</div>"
     },
     "execution_count": 6,
     "metadata": {},
     "output_type": "execute_result"
    }
   ],
   "source": [
    "games"
   ],
   "metadata": {
    "collapsed": false
   }
  },
  {
   "cell_type": "code",
   "execution_count": 7,
   "outputs": [
    {
     "data": {
      "text/plain": "       TEAM_ID TEAM_ABBREVIATION               TEAM_NAME\n0   1610612746               LAC             LA Clippers\n1   1610612758               SAC        Sacramento Kings\n2   1610612749               MIL         Milwaukee Bucks\n3   1610612745               HOU         Houston Rockets\n4   1610612748               MIA              Miami Heat\n5   1610612761               TOR         Toronto Raptors\n6   1610612742               DAL        Dallas Mavericks\n7   1610612763               MEM       Memphis Grizzlies\n8   1610612743               DEN          Denver Nuggets\n9   1610612760               OKC   Oklahoma City Thunder\n10  1610612765               DET         Detroit Pistons\n11  1610612755               PHI      Philadelphia 76ers\n12  1610612759               SAS       San Antonio Spurs\n13  1610612753               ORL           Orlando Magic\n14  1610612738               BOS          Boston Celtics\n15  1610612739               CLE     Cleveland Cavaliers\n16  1610612741               CHI           Chicago Bulls\n17  1610612754               IND          Indiana Pacers\n19  1610612751               BKN           Brooklyn Nets\n20  1610612737               ATL           Atlanta Hawks\n24  1610612757               POR  Portland Trail Blazers\n25  1610612762               UTA               Utah Jazz\n26  1610612750               MIN  Minnesota Timberwolves\n27  1610612756               PHX            Phoenix Suns\n30  1610612740               NOP    New Orleans Pelicans\n31  1610612766               CHA       Charlotte Hornets\n33  1610612764               WAS      Washington Wizards\n34  1610612752               NYK         New York Knicks\n37  1610612744               GSW   Golden State Warriors\n42  1610612747               LAL      Los Angeles Lakers",
      "text/html": "<div>\n<style scoped>\n    .dataframe tbody tr th:only-of-type {\n        vertical-align: middle;\n    }\n\n    .dataframe tbody tr th {\n        vertical-align: top;\n    }\n\n    .dataframe thead th {\n        text-align: right;\n    }\n</style>\n<table border=\"1\" class=\"dataframe\">\n  <thead>\n    <tr style=\"text-align: right;\">\n      <th></th>\n      <th>TEAM_ID</th>\n      <th>TEAM_ABBREVIATION</th>\n      <th>TEAM_NAME</th>\n    </tr>\n  </thead>\n  <tbody>\n    <tr>\n      <th>0</th>\n      <td>1610612746</td>\n      <td>LAC</td>\n      <td>LA Clippers</td>\n    </tr>\n    <tr>\n      <th>1</th>\n      <td>1610612758</td>\n      <td>SAC</td>\n      <td>Sacramento Kings</td>\n    </tr>\n    <tr>\n      <th>2</th>\n      <td>1610612749</td>\n      <td>MIL</td>\n      <td>Milwaukee Bucks</td>\n    </tr>\n    <tr>\n      <th>3</th>\n      <td>1610612745</td>\n      <td>HOU</td>\n      <td>Houston Rockets</td>\n    </tr>\n    <tr>\n      <th>4</th>\n      <td>1610612748</td>\n      <td>MIA</td>\n      <td>Miami Heat</td>\n    </tr>\n    <tr>\n      <th>5</th>\n      <td>1610612761</td>\n      <td>TOR</td>\n      <td>Toronto Raptors</td>\n    </tr>\n    <tr>\n      <th>6</th>\n      <td>1610612742</td>\n      <td>DAL</td>\n      <td>Dallas Mavericks</td>\n    </tr>\n    <tr>\n      <th>7</th>\n      <td>1610612763</td>\n      <td>MEM</td>\n      <td>Memphis Grizzlies</td>\n    </tr>\n    <tr>\n      <th>8</th>\n      <td>1610612743</td>\n      <td>DEN</td>\n      <td>Denver Nuggets</td>\n    </tr>\n    <tr>\n      <th>9</th>\n      <td>1610612760</td>\n      <td>OKC</td>\n      <td>Oklahoma City Thunder</td>\n    </tr>\n    <tr>\n      <th>10</th>\n      <td>1610612765</td>\n      <td>DET</td>\n      <td>Detroit Pistons</td>\n    </tr>\n    <tr>\n      <th>11</th>\n      <td>1610612755</td>\n      <td>PHI</td>\n      <td>Philadelphia 76ers</td>\n    </tr>\n    <tr>\n      <th>12</th>\n      <td>1610612759</td>\n      <td>SAS</td>\n      <td>San Antonio Spurs</td>\n    </tr>\n    <tr>\n      <th>13</th>\n      <td>1610612753</td>\n      <td>ORL</td>\n      <td>Orlando Magic</td>\n    </tr>\n    <tr>\n      <th>14</th>\n      <td>1610612738</td>\n      <td>BOS</td>\n      <td>Boston Celtics</td>\n    </tr>\n    <tr>\n      <th>15</th>\n      <td>1610612739</td>\n      <td>CLE</td>\n      <td>Cleveland Cavaliers</td>\n    </tr>\n    <tr>\n      <th>16</th>\n      <td>1610612741</td>\n      <td>CHI</td>\n      <td>Chicago Bulls</td>\n    </tr>\n    <tr>\n      <th>17</th>\n      <td>1610612754</td>\n      <td>IND</td>\n      <td>Indiana Pacers</td>\n    </tr>\n    <tr>\n      <th>19</th>\n      <td>1610612751</td>\n      <td>BKN</td>\n      <td>Brooklyn Nets</td>\n    </tr>\n    <tr>\n      <th>20</th>\n      <td>1610612737</td>\n      <td>ATL</td>\n      <td>Atlanta Hawks</td>\n    </tr>\n    <tr>\n      <th>24</th>\n      <td>1610612757</td>\n      <td>POR</td>\n      <td>Portland Trail Blazers</td>\n    </tr>\n    <tr>\n      <th>25</th>\n      <td>1610612762</td>\n      <td>UTA</td>\n      <td>Utah Jazz</td>\n    </tr>\n    <tr>\n      <th>26</th>\n      <td>1610612750</td>\n      <td>MIN</td>\n      <td>Minnesota Timberwolves</td>\n    </tr>\n    <tr>\n      <th>27</th>\n      <td>1610612756</td>\n      <td>PHX</td>\n      <td>Phoenix Suns</td>\n    </tr>\n    <tr>\n      <th>30</th>\n      <td>1610612740</td>\n      <td>NOP</td>\n      <td>New Orleans Pelicans</td>\n    </tr>\n    <tr>\n      <th>31</th>\n      <td>1610612766</td>\n      <td>CHA</td>\n      <td>Charlotte Hornets</td>\n    </tr>\n    <tr>\n      <th>33</th>\n      <td>1610612764</td>\n      <td>WAS</td>\n      <td>Washington Wizards</td>\n    </tr>\n    <tr>\n      <th>34</th>\n      <td>1610612752</td>\n      <td>NYK</td>\n      <td>New York Knicks</td>\n    </tr>\n    <tr>\n      <th>37</th>\n      <td>1610612744</td>\n      <td>GSW</td>\n      <td>Golden State Warriors</td>\n    </tr>\n    <tr>\n      <th>42</th>\n      <td>1610612747</td>\n      <td>LAL</td>\n      <td>Los Angeles Lakers</td>\n    </tr>\n  </tbody>\n</table>\n</div>"
     },
     "execution_count": 7,
     "metadata": {},
     "output_type": "execute_result"
    }
   ],
   "source": [
    "teams = games.drop_duplicates(['TEAM_ID','TEAM_ABBREVIATION','TEAM_NAME'])[['TEAM_ID','TEAM_ABBREVIATION','TEAM_NAME']]\n",
    "teams"
   ],
   "metadata": {
    "collapsed": false
   }
  },
  {
   "cell_type": "code",
   "execution_count": 8,
   "outputs": [
    {
     "data": {
      "text/plain": "       TEAM_ID TEAM_ABBREVIATION               TEAM_NAME TEAM_OWNER  TEAM_PICK\n0   1610612745               HOU         Houston Rockets      Miran         10\n1   1610612761               TOR         Toronto Raptors      Miran          2\n2   1610612763               MEM       Memphis Grizzlies      Miran          3\n3   1610612765               DET         Detroit Pistons      Miran          8\n4   1610612755               PHI      Philadelphia 76ers      Miran          1\n5   1610612754               IND          Indiana Pacers      Miran          9\n6   1610612737               ATL           Atlanta Hawks      Miran          6\n7   1610612750               MIN  Minnesota Timberwolves      Miran          5\n8   1610612756               PHX            Phoenix Suns      Miran          4\n9   1610612752               NYK         New York Knicks      Miran          7\n10  1610612746               LAC             LA Clippers       Tata          3\n11  1610612758               SAC        Sacramento Kings       Tata         10\n12  1610612748               MIA              Miami Heat       Tata          4\n13  1610612742               DAL        Dallas Mavericks       Tata          1\n14  1610612760               OKC   Oklahoma City Thunder       Tata          7\n15  1610612753               ORL           Orlando Magic       Tata          6\n16  1610612740               NOP    New Orleans Pelicans       Tata          5\n17  1610612766               CHA       Charlotte Hornets       Tata          9\n18  1610612764               WAS      Washington Wizards       Tata          8\n19  1610612744               GSW   Golden State Warriors       Tata          2\n20  1610612749               MIL         Milwaukee Bucks     Vedran          1\n21  1610612743               DEN          Denver Nuggets     Vedran          3\n22  1610612759               SAS       San Antonio Spurs     Vedran         10\n23  1610612738               BOS          Boston Celtics     Vedran          2\n24  1610612739               CLE     Cleveland Cavaliers     Vedran          8\n25  1610612741               CHI           Chicago Bulls     Vedran          7\n26  1610612751               BKN           Brooklyn Nets     Vedran          4\n27  1610612757               POR  Portland Trail Blazers     Vedran          5\n28  1610612762               UTA               Utah Jazz     Vedran          9\n29  1610612747               LAL      Los Angeles Lakers     Vedran          6",
      "text/html": "<div>\n<style scoped>\n    .dataframe tbody tr th:only-of-type {\n        vertical-align: middle;\n    }\n\n    .dataframe tbody tr th {\n        vertical-align: top;\n    }\n\n    .dataframe thead th {\n        text-align: right;\n    }\n</style>\n<table border=\"1\" class=\"dataframe\">\n  <thead>\n    <tr style=\"text-align: right;\">\n      <th></th>\n      <th>TEAM_ID</th>\n      <th>TEAM_ABBREVIATION</th>\n      <th>TEAM_NAME</th>\n      <th>TEAM_OWNER</th>\n      <th>TEAM_PICK</th>\n    </tr>\n  </thead>\n  <tbody>\n    <tr>\n      <th>0</th>\n      <td>1610612745</td>\n      <td>HOU</td>\n      <td>Houston Rockets</td>\n      <td>Miran</td>\n      <td>10</td>\n    </tr>\n    <tr>\n      <th>1</th>\n      <td>1610612761</td>\n      <td>TOR</td>\n      <td>Toronto Raptors</td>\n      <td>Miran</td>\n      <td>2</td>\n    </tr>\n    <tr>\n      <th>2</th>\n      <td>1610612763</td>\n      <td>MEM</td>\n      <td>Memphis Grizzlies</td>\n      <td>Miran</td>\n      <td>3</td>\n    </tr>\n    <tr>\n      <th>3</th>\n      <td>1610612765</td>\n      <td>DET</td>\n      <td>Detroit Pistons</td>\n      <td>Miran</td>\n      <td>8</td>\n    </tr>\n    <tr>\n      <th>4</th>\n      <td>1610612755</td>\n      <td>PHI</td>\n      <td>Philadelphia 76ers</td>\n      <td>Miran</td>\n      <td>1</td>\n    </tr>\n    <tr>\n      <th>5</th>\n      <td>1610612754</td>\n      <td>IND</td>\n      <td>Indiana Pacers</td>\n      <td>Miran</td>\n      <td>9</td>\n    </tr>\n    <tr>\n      <th>6</th>\n      <td>1610612737</td>\n      <td>ATL</td>\n      <td>Atlanta Hawks</td>\n      <td>Miran</td>\n      <td>6</td>\n    </tr>\n    <tr>\n      <th>7</th>\n      <td>1610612750</td>\n      <td>MIN</td>\n      <td>Minnesota Timberwolves</td>\n      <td>Miran</td>\n      <td>5</td>\n    </tr>\n    <tr>\n      <th>8</th>\n      <td>1610612756</td>\n      <td>PHX</td>\n      <td>Phoenix Suns</td>\n      <td>Miran</td>\n      <td>4</td>\n    </tr>\n    <tr>\n      <th>9</th>\n      <td>1610612752</td>\n      <td>NYK</td>\n      <td>New York Knicks</td>\n      <td>Miran</td>\n      <td>7</td>\n    </tr>\n    <tr>\n      <th>10</th>\n      <td>1610612746</td>\n      <td>LAC</td>\n      <td>LA Clippers</td>\n      <td>Tata</td>\n      <td>3</td>\n    </tr>\n    <tr>\n      <th>11</th>\n      <td>1610612758</td>\n      <td>SAC</td>\n      <td>Sacramento Kings</td>\n      <td>Tata</td>\n      <td>10</td>\n    </tr>\n    <tr>\n      <th>12</th>\n      <td>1610612748</td>\n      <td>MIA</td>\n      <td>Miami Heat</td>\n      <td>Tata</td>\n      <td>4</td>\n    </tr>\n    <tr>\n      <th>13</th>\n      <td>1610612742</td>\n      <td>DAL</td>\n      <td>Dallas Mavericks</td>\n      <td>Tata</td>\n      <td>1</td>\n    </tr>\n    <tr>\n      <th>14</th>\n      <td>1610612760</td>\n      <td>OKC</td>\n      <td>Oklahoma City Thunder</td>\n      <td>Tata</td>\n      <td>7</td>\n    </tr>\n    <tr>\n      <th>15</th>\n      <td>1610612753</td>\n      <td>ORL</td>\n      <td>Orlando Magic</td>\n      <td>Tata</td>\n      <td>6</td>\n    </tr>\n    <tr>\n      <th>16</th>\n      <td>1610612740</td>\n      <td>NOP</td>\n      <td>New Orleans Pelicans</td>\n      <td>Tata</td>\n      <td>5</td>\n    </tr>\n    <tr>\n      <th>17</th>\n      <td>1610612766</td>\n      <td>CHA</td>\n      <td>Charlotte Hornets</td>\n      <td>Tata</td>\n      <td>9</td>\n    </tr>\n    <tr>\n      <th>18</th>\n      <td>1610612764</td>\n      <td>WAS</td>\n      <td>Washington Wizards</td>\n      <td>Tata</td>\n      <td>8</td>\n    </tr>\n    <tr>\n      <th>19</th>\n      <td>1610612744</td>\n      <td>GSW</td>\n      <td>Golden State Warriors</td>\n      <td>Tata</td>\n      <td>2</td>\n    </tr>\n    <tr>\n      <th>20</th>\n      <td>1610612749</td>\n      <td>MIL</td>\n      <td>Milwaukee Bucks</td>\n      <td>Vedran</td>\n      <td>1</td>\n    </tr>\n    <tr>\n      <th>21</th>\n      <td>1610612743</td>\n      <td>DEN</td>\n      <td>Denver Nuggets</td>\n      <td>Vedran</td>\n      <td>3</td>\n    </tr>\n    <tr>\n      <th>22</th>\n      <td>1610612759</td>\n      <td>SAS</td>\n      <td>San Antonio Spurs</td>\n      <td>Vedran</td>\n      <td>10</td>\n    </tr>\n    <tr>\n      <th>23</th>\n      <td>1610612738</td>\n      <td>BOS</td>\n      <td>Boston Celtics</td>\n      <td>Vedran</td>\n      <td>2</td>\n    </tr>\n    <tr>\n      <th>24</th>\n      <td>1610612739</td>\n      <td>CLE</td>\n      <td>Cleveland Cavaliers</td>\n      <td>Vedran</td>\n      <td>8</td>\n    </tr>\n    <tr>\n      <th>25</th>\n      <td>1610612741</td>\n      <td>CHI</td>\n      <td>Chicago Bulls</td>\n      <td>Vedran</td>\n      <td>7</td>\n    </tr>\n    <tr>\n      <th>26</th>\n      <td>1610612751</td>\n      <td>BKN</td>\n      <td>Brooklyn Nets</td>\n      <td>Vedran</td>\n      <td>4</td>\n    </tr>\n    <tr>\n      <th>27</th>\n      <td>1610612757</td>\n      <td>POR</td>\n      <td>Portland Trail Blazers</td>\n      <td>Vedran</td>\n      <td>5</td>\n    </tr>\n    <tr>\n      <th>28</th>\n      <td>1610612762</td>\n      <td>UTA</td>\n      <td>Utah Jazz</td>\n      <td>Vedran</td>\n      <td>9</td>\n    </tr>\n    <tr>\n      <th>29</th>\n      <td>1610612747</td>\n      <td>LAL</td>\n      <td>Los Angeles Lakers</td>\n      <td>Vedran</td>\n      <td>6</td>\n    </tr>\n  </tbody>\n</table>\n</div>"
     },
     "execution_count": 8,
     "metadata": {},
     "output_type": "execute_result"
    }
   ],
   "source": [
    "# Actually import the team selection (probably I want to move this the very start later on)\n",
    "url ='https://raw.githubusercontent.com/vedranbrozovic/NBA_fantasy-tams/main/Team_selection.txt'\n",
    "team_selection = pd.read_csv(url,sep='\\t')\n",
    "team_selection\n"
   ],
   "metadata": {
    "collapsed": false
   }
  },
  {
   "cell_type": "code",
   "execution_count": 9,
   "outputs": [
    {
     "data": {
      "text/plain": "   SEASON_ID     TEAM_ID TEAM_ABBREVIATION               TEAM_NAME  \\\n0      22022  1610612746               LAC             LA Clippers   \n1      22022  1610612757               POR  Portland Trail Blazers   \n2      22022  1610612746               LAC             LA Clippers   \n3      22022  1610612744               GSW   Golden State Warriors   \n4      22022  1610612758               SAC        Sacramento Kings   \n..       ...         ...               ...                     ...   \n67     22022  1610612752               NYK         New York Knicks   \n68     22022  1610612741               CHI           Chicago Bulls   \n69     22022  1610612754               IND          Indiana Pacers   \n70     22022  1610612751               BKN           Brooklyn Nets   \n71     22022  1610612766               CHA       Charlotte Hornets   \n\n       GAME_ID   GAME_DATE      MATCHUP WL  MIN  PTS  ...  BLK  TOV  PF  \\\n0   0022200036  2022-10-22    LAC @ SAC  W  241  111  ...    3   13  21   \n1   0022200014  2022-10-19    POR @ SAC  W  239  115  ...    2   11  17   \n2   0022200016  2022-10-20    LAC @ LAL  W  239  103  ...    7   22  24   \n3   0022200002  2022-10-18  GSW vs. LAL  W  241  123  ...    4   18  23   \n4   0022200036  2022-10-22  SAC vs. LAC  L  239  109  ...    5   12  21   \n..         ...         ...          ... ..  ...  ...  ...  ...  ...  ..   \n67  0022200023  2022-10-21  NYK vs. DET  W  239  130  ...    6   12  26   \n68  0022200019  2022-10-21    CHI @ WAS  L  240  100  ...    3   13  15   \n69  0022200004  2022-10-19  IND vs. WAS  L  241  107  ...    5   15  20   \n70  0022200006  2022-10-19  BKN vs. NOP  L  242  108  ...   10   16  25   \n71  0022200017  2022-10-21  CHA vs. NOP  L  239  112  ...    4   13  23   \n\n    PLUS_MINUS  OPPONENT  IS_HOME  IS_WIN  TEAM_OWNER  TEAM_PICK  \\\n0          2.0       SAC        0       1        Tata          3   \n1          7.0       SAC        0       1      Vedran          5   \n2          6.0       LAL        0       1        Tata          3   \n3         14.0       LAL        1       1        Tata          2   \n4         -2.0       LAC        1       0        Tata         10   \n..         ...       ...      ...     ...         ...        ...   \n67        24.0       DET        1       1       Miran          7   \n68        -2.0       WAS        0       0      Vedran          7   \n69        -7.0       WAS        1       0       Miran          9   \n70       -22.0       NOP        1       0      Vedran          4   \n71       -12.0       NOP        1       0        Tata          9   \n\n    OPPOSING_OWNER  \n0             Tata  \n1             Tata  \n2           Vedran  \n3           Vedran  \n4             Tata  \n..             ...  \n67           Miran  \n68            Tata  \n69            Tata  \n70            Tata  \n71            Tata  \n\n[72 rows x 34 columns]",
      "text/html": "<div>\n<style scoped>\n    .dataframe tbody tr th:only-of-type {\n        vertical-align: middle;\n    }\n\n    .dataframe tbody tr th {\n        vertical-align: top;\n    }\n\n    .dataframe thead th {\n        text-align: right;\n    }\n</style>\n<table border=\"1\" class=\"dataframe\">\n  <thead>\n    <tr style=\"text-align: right;\">\n      <th></th>\n      <th>SEASON_ID</th>\n      <th>TEAM_ID</th>\n      <th>TEAM_ABBREVIATION</th>\n      <th>TEAM_NAME</th>\n      <th>GAME_ID</th>\n      <th>GAME_DATE</th>\n      <th>MATCHUP</th>\n      <th>WL</th>\n      <th>MIN</th>\n      <th>PTS</th>\n      <th>...</th>\n      <th>BLK</th>\n      <th>TOV</th>\n      <th>PF</th>\n      <th>PLUS_MINUS</th>\n      <th>OPPONENT</th>\n      <th>IS_HOME</th>\n      <th>IS_WIN</th>\n      <th>TEAM_OWNER</th>\n      <th>TEAM_PICK</th>\n      <th>OPPOSING_OWNER</th>\n    </tr>\n  </thead>\n  <tbody>\n    <tr>\n      <th>0</th>\n      <td>22022</td>\n      <td>1610612746</td>\n      <td>LAC</td>\n      <td>LA Clippers</td>\n      <td>0022200036</td>\n      <td>2022-10-22</td>\n      <td>LAC @ SAC</td>\n      <td>W</td>\n      <td>241</td>\n      <td>111</td>\n      <td>...</td>\n      <td>3</td>\n      <td>13</td>\n      <td>21</td>\n      <td>2.0</td>\n      <td>SAC</td>\n      <td>0</td>\n      <td>1</td>\n      <td>Tata</td>\n      <td>3</td>\n      <td>Tata</td>\n    </tr>\n    <tr>\n      <th>1</th>\n      <td>22022</td>\n      <td>1610612757</td>\n      <td>POR</td>\n      <td>Portland Trail Blazers</td>\n      <td>0022200014</td>\n      <td>2022-10-19</td>\n      <td>POR @ SAC</td>\n      <td>W</td>\n      <td>239</td>\n      <td>115</td>\n      <td>...</td>\n      <td>2</td>\n      <td>11</td>\n      <td>17</td>\n      <td>7.0</td>\n      <td>SAC</td>\n      <td>0</td>\n      <td>1</td>\n      <td>Vedran</td>\n      <td>5</td>\n      <td>Tata</td>\n    </tr>\n    <tr>\n      <th>2</th>\n      <td>22022</td>\n      <td>1610612746</td>\n      <td>LAC</td>\n      <td>LA Clippers</td>\n      <td>0022200016</td>\n      <td>2022-10-20</td>\n      <td>LAC @ LAL</td>\n      <td>W</td>\n      <td>239</td>\n      <td>103</td>\n      <td>...</td>\n      <td>7</td>\n      <td>22</td>\n      <td>24</td>\n      <td>6.0</td>\n      <td>LAL</td>\n      <td>0</td>\n      <td>1</td>\n      <td>Tata</td>\n      <td>3</td>\n      <td>Vedran</td>\n    </tr>\n    <tr>\n      <th>3</th>\n      <td>22022</td>\n      <td>1610612744</td>\n      <td>GSW</td>\n      <td>Golden State Warriors</td>\n      <td>0022200002</td>\n      <td>2022-10-18</td>\n      <td>GSW vs. LAL</td>\n      <td>W</td>\n      <td>241</td>\n      <td>123</td>\n      <td>...</td>\n      <td>4</td>\n      <td>18</td>\n      <td>23</td>\n      <td>14.0</td>\n      <td>LAL</td>\n      <td>1</td>\n      <td>1</td>\n      <td>Tata</td>\n      <td>2</td>\n      <td>Vedran</td>\n    </tr>\n    <tr>\n      <th>4</th>\n      <td>22022</td>\n      <td>1610612758</td>\n      <td>SAC</td>\n      <td>Sacramento Kings</td>\n      <td>0022200036</td>\n      <td>2022-10-22</td>\n      <td>SAC vs. LAC</td>\n      <td>L</td>\n      <td>239</td>\n      <td>109</td>\n      <td>...</td>\n      <td>5</td>\n      <td>12</td>\n      <td>21</td>\n      <td>-2.0</td>\n      <td>LAC</td>\n      <td>1</td>\n      <td>0</td>\n      <td>Tata</td>\n      <td>10</td>\n      <td>Tata</td>\n    </tr>\n    <tr>\n      <th>...</th>\n      <td>...</td>\n      <td>...</td>\n      <td>...</td>\n      <td>...</td>\n      <td>...</td>\n      <td>...</td>\n      <td>...</td>\n      <td>...</td>\n      <td>...</td>\n      <td>...</td>\n      <td>...</td>\n      <td>...</td>\n      <td>...</td>\n      <td>...</td>\n      <td>...</td>\n      <td>...</td>\n      <td>...</td>\n      <td>...</td>\n      <td>...</td>\n      <td>...</td>\n      <td>...</td>\n    </tr>\n    <tr>\n      <th>67</th>\n      <td>22022</td>\n      <td>1610612752</td>\n      <td>NYK</td>\n      <td>New York Knicks</td>\n      <td>0022200023</td>\n      <td>2022-10-21</td>\n      <td>NYK vs. DET</td>\n      <td>W</td>\n      <td>239</td>\n      <td>130</td>\n      <td>...</td>\n      <td>6</td>\n      <td>12</td>\n      <td>26</td>\n      <td>24.0</td>\n      <td>DET</td>\n      <td>1</td>\n      <td>1</td>\n      <td>Miran</td>\n      <td>7</td>\n      <td>Miran</td>\n    </tr>\n    <tr>\n      <th>68</th>\n      <td>22022</td>\n      <td>1610612741</td>\n      <td>CHI</td>\n      <td>Chicago Bulls</td>\n      <td>0022200019</td>\n      <td>2022-10-21</td>\n      <td>CHI @ WAS</td>\n      <td>L</td>\n      <td>240</td>\n      <td>100</td>\n      <td>...</td>\n      <td>3</td>\n      <td>13</td>\n      <td>15</td>\n      <td>-2.0</td>\n      <td>WAS</td>\n      <td>0</td>\n      <td>0</td>\n      <td>Vedran</td>\n      <td>7</td>\n      <td>Tata</td>\n    </tr>\n    <tr>\n      <th>69</th>\n      <td>22022</td>\n      <td>1610612754</td>\n      <td>IND</td>\n      <td>Indiana Pacers</td>\n      <td>0022200004</td>\n      <td>2022-10-19</td>\n      <td>IND vs. WAS</td>\n      <td>L</td>\n      <td>241</td>\n      <td>107</td>\n      <td>...</td>\n      <td>5</td>\n      <td>15</td>\n      <td>20</td>\n      <td>-7.0</td>\n      <td>WAS</td>\n      <td>1</td>\n      <td>0</td>\n      <td>Miran</td>\n      <td>9</td>\n      <td>Tata</td>\n    </tr>\n    <tr>\n      <th>70</th>\n      <td>22022</td>\n      <td>1610612751</td>\n      <td>BKN</td>\n      <td>Brooklyn Nets</td>\n      <td>0022200006</td>\n      <td>2022-10-19</td>\n      <td>BKN vs. NOP</td>\n      <td>L</td>\n      <td>242</td>\n      <td>108</td>\n      <td>...</td>\n      <td>10</td>\n      <td>16</td>\n      <td>25</td>\n      <td>-22.0</td>\n      <td>NOP</td>\n      <td>1</td>\n      <td>0</td>\n      <td>Vedran</td>\n      <td>4</td>\n      <td>Tata</td>\n    </tr>\n    <tr>\n      <th>71</th>\n      <td>22022</td>\n      <td>1610612766</td>\n      <td>CHA</td>\n      <td>Charlotte Hornets</td>\n      <td>0022200017</td>\n      <td>2022-10-21</td>\n      <td>CHA vs. NOP</td>\n      <td>L</td>\n      <td>239</td>\n      <td>112</td>\n      <td>...</td>\n      <td>4</td>\n      <td>13</td>\n      <td>23</td>\n      <td>-12.0</td>\n      <td>NOP</td>\n      <td>1</td>\n      <td>0</td>\n      <td>Tata</td>\n      <td>9</td>\n      <td>Tata</td>\n    </tr>\n  </tbody>\n</table>\n<p>72 rows × 34 columns</p>\n</div>"
     },
     "execution_count": 9,
     "metadata": {},
     "output_type": "execute_result"
    }
   ],
   "source": [
    "# Add info on the team owner & pick number to the games dataframe\n",
    "team_selection_df = team_selection[['TEAM_ID','TEAM_OWNER','TEAM_PICK']]\n",
    "\n",
    "games = pd.merge(games, team_selection_df, on=[\"TEAM_ID\"])\n",
    "\n"
   ],
   "metadata": {
    "collapsed": false
   }
  },
  {
   "cell_type": "code",
   "execution_count": null,
   "outputs": [],
   "source": [
    "# Add info on the owner of opposing team\n",
    "opp_selection = team_selection[['TEAM_OWNER','TEAM_ABBREVIATION']]\n",
    "opp_selection.columns = ['OPPOSING_OWNER','OPPONENT']\n",
    "games = pd.merge(games, opp_selection ,on=[\"OPPONENT\"])\n",
    "games"
   ],
   "metadata": {
    "collapsed": false
   }
  },
  {
   "cell_type": "code",
   "execution_count": 19,
   "outputs": [
    {
     "data": {
      "text/plain": "   SEASON_ID     TEAM_ID TEAM_ABBREVIATION               TEAM_NAME  \\\n0      22022  1610612746               LAC             LA Clippers   \n1      22022  1610612757               POR  Portland Trail Blazers   \n2      22022  1610612746               LAC             LA Clippers   \n3      22022  1610612744               GSW   Golden State Warriors   \n4      22022  1610612758               SAC        Sacramento Kings   \n..       ...         ...               ...                     ...   \n67     22022  1610612752               NYK         New York Knicks   \n68     22022  1610612741               CHI           Chicago Bulls   \n69     22022  1610612754               IND          Indiana Pacers   \n70     22022  1610612751               BKN           Brooklyn Nets   \n71     22022  1610612766               CHA       Charlotte Hornets   \n\n       GAME_ID   GAME_DATE      MATCHUP WL  MIN  PTS  ...  PF  PLUS_MINUS  \\\n0   0022200036  2022-10-22    LAC @ SAC  W  241  111  ...  21         2.0   \n1   0022200014  2022-10-19    POR @ SAC  W  239  115  ...  17         7.0   \n2   0022200016  2022-10-20    LAC @ LAL  W  239  103  ...  24         6.0   \n3   0022200002  2022-10-18  GSW vs. LAL  W  241  123  ...  23        14.0   \n4   0022200036  2022-10-22  SAC vs. LAC  L  239  109  ...  21        -2.0   \n..         ...         ...          ... ..  ...  ...  ...  ..         ...   \n67  0022200023  2022-10-21  NYK vs. DET  W  239  130  ...  26        24.0   \n68  0022200019  2022-10-21    CHI @ WAS  L  240  100  ...  15        -2.0   \n69  0022200004  2022-10-19  IND vs. WAS  L  241  107  ...  20        -7.0   \n70  0022200006  2022-10-19  BKN vs. NOP  L  242  108  ...  25       -22.0   \n71  0022200017  2022-10-21  CHA vs. NOP  L  239  112  ...  23       -12.0   \n\n    OPPONENT  IS_HOME  IS_WIN  TEAM_OWNER  TEAM_PICK  OPPOSING_OWNER  \\\n0        SAC        0       1        Tata          3            Tata   \n1        SAC        0       1      Vedran          5            Tata   \n2        LAL        0       1        Tata          3          Vedran   \n3        LAL        1       1        Tata          2          Vedran   \n4        LAC        1       0        Tata         10            Tata   \n..       ...      ...     ...         ...        ...             ...   \n67       DET        1       1       Miran          7           Miran   \n68       WAS        0       0      Vedran          7            Tata   \n69       WAS        1       0       Miran          9            Tata   \n70       NOP        1       0      Vedran          4            Tata   \n71       NOP        1       0        Tata          9            Tata   \n\n    IS_AGAINST_OWN  IS_NOT_AGAINST_OWN  \n0                1                   0  \n1                0                   1  \n2                0                   1  \n3                0                   1  \n4                1                   0  \n..             ...                 ...  \n67               1                   0  \n68               0                   1  \n69               0                   1  \n70               0                   1  \n71               1                   0  \n\n[72 rows x 36 columns]",
      "text/html": "<div>\n<style scoped>\n    .dataframe tbody tr th:only-of-type {\n        vertical-align: middle;\n    }\n\n    .dataframe tbody tr th {\n        vertical-align: top;\n    }\n\n    .dataframe thead th {\n        text-align: right;\n    }\n</style>\n<table border=\"1\" class=\"dataframe\">\n  <thead>\n    <tr style=\"text-align: right;\">\n      <th></th>\n      <th>SEASON_ID</th>\n      <th>TEAM_ID</th>\n      <th>TEAM_ABBREVIATION</th>\n      <th>TEAM_NAME</th>\n      <th>GAME_ID</th>\n      <th>GAME_DATE</th>\n      <th>MATCHUP</th>\n      <th>WL</th>\n      <th>MIN</th>\n      <th>PTS</th>\n      <th>...</th>\n      <th>PF</th>\n      <th>PLUS_MINUS</th>\n      <th>OPPONENT</th>\n      <th>IS_HOME</th>\n      <th>IS_WIN</th>\n      <th>TEAM_OWNER</th>\n      <th>TEAM_PICK</th>\n      <th>OPPOSING_OWNER</th>\n      <th>IS_AGAINST_OWN</th>\n      <th>IS_NOT_AGAINST_OWN</th>\n    </tr>\n  </thead>\n  <tbody>\n    <tr>\n      <th>0</th>\n      <td>22022</td>\n      <td>1610612746</td>\n      <td>LAC</td>\n      <td>LA Clippers</td>\n      <td>0022200036</td>\n      <td>2022-10-22</td>\n      <td>LAC @ SAC</td>\n      <td>W</td>\n      <td>241</td>\n      <td>111</td>\n      <td>...</td>\n      <td>21</td>\n      <td>2.0</td>\n      <td>SAC</td>\n      <td>0</td>\n      <td>1</td>\n      <td>Tata</td>\n      <td>3</td>\n      <td>Tata</td>\n      <td>1</td>\n      <td>0</td>\n    </tr>\n    <tr>\n      <th>1</th>\n      <td>22022</td>\n      <td>1610612757</td>\n      <td>POR</td>\n      <td>Portland Trail Blazers</td>\n      <td>0022200014</td>\n      <td>2022-10-19</td>\n      <td>POR @ SAC</td>\n      <td>W</td>\n      <td>239</td>\n      <td>115</td>\n      <td>...</td>\n      <td>17</td>\n      <td>7.0</td>\n      <td>SAC</td>\n      <td>0</td>\n      <td>1</td>\n      <td>Vedran</td>\n      <td>5</td>\n      <td>Tata</td>\n      <td>0</td>\n      <td>1</td>\n    </tr>\n    <tr>\n      <th>2</th>\n      <td>22022</td>\n      <td>1610612746</td>\n      <td>LAC</td>\n      <td>LA Clippers</td>\n      <td>0022200016</td>\n      <td>2022-10-20</td>\n      <td>LAC @ LAL</td>\n      <td>W</td>\n      <td>239</td>\n      <td>103</td>\n      <td>...</td>\n      <td>24</td>\n      <td>6.0</td>\n      <td>LAL</td>\n      <td>0</td>\n      <td>1</td>\n      <td>Tata</td>\n      <td>3</td>\n      <td>Vedran</td>\n      <td>0</td>\n      <td>1</td>\n    </tr>\n    <tr>\n      <th>3</th>\n      <td>22022</td>\n      <td>1610612744</td>\n      <td>GSW</td>\n      <td>Golden State Warriors</td>\n      <td>0022200002</td>\n      <td>2022-10-18</td>\n      <td>GSW vs. LAL</td>\n      <td>W</td>\n      <td>241</td>\n      <td>123</td>\n      <td>...</td>\n      <td>23</td>\n      <td>14.0</td>\n      <td>LAL</td>\n      <td>1</td>\n      <td>1</td>\n      <td>Tata</td>\n      <td>2</td>\n      <td>Vedran</td>\n      <td>0</td>\n      <td>1</td>\n    </tr>\n    <tr>\n      <th>4</th>\n      <td>22022</td>\n      <td>1610612758</td>\n      <td>SAC</td>\n      <td>Sacramento Kings</td>\n      <td>0022200036</td>\n      <td>2022-10-22</td>\n      <td>SAC vs. LAC</td>\n      <td>L</td>\n      <td>239</td>\n      <td>109</td>\n      <td>...</td>\n      <td>21</td>\n      <td>-2.0</td>\n      <td>LAC</td>\n      <td>1</td>\n      <td>0</td>\n      <td>Tata</td>\n      <td>10</td>\n      <td>Tata</td>\n      <td>1</td>\n      <td>0</td>\n    </tr>\n    <tr>\n      <th>...</th>\n      <td>...</td>\n      <td>...</td>\n      <td>...</td>\n      <td>...</td>\n      <td>...</td>\n      <td>...</td>\n      <td>...</td>\n      <td>...</td>\n      <td>...</td>\n      <td>...</td>\n      <td>...</td>\n      <td>...</td>\n      <td>...</td>\n      <td>...</td>\n      <td>...</td>\n      <td>...</td>\n      <td>...</td>\n      <td>...</td>\n      <td>...</td>\n      <td>...</td>\n      <td>...</td>\n    </tr>\n    <tr>\n      <th>67</th>\n      <td>22022</td>\n      <td>1610612752</td>\n      <td>NYK</td>\n      <td>New York Knicks</td>\n      <td>0022200023</td>\n      <td>2022-10-21</td>\n      <td>NYK vs. DET</td>\n      <td>W</td>\n      <td>239</td>\n      <td>130</td>\n      <td>...</td>\n      <td>26</td>\n      <td>24.0</td>\n      <td>DET</td>\n      <td>1</td>\n      <td>1</td>\n      <td>Miran</td>\n      <td>7</td>\n      <td>Miran</td>\n      <td>1</td>\n      <td>0</td>\n    </tr>\n    <tr>\n      <th>68</th>\n      <td>22022</td>\n      <td>1610612741</td>\n      <td>CHI</td>\n      <td>Chicago Bulls</td>\n      <td>0022200019</td>\n      <td>2022-10-21</td>\n      <td>CHI @ WAS</td>\n      <td>L</td>\n      <td>240</td>\n      <td>100</td>\n      <td>...</td>\n      <td>15</td>\n      <td>-2.0</td>\n      <td>WAS</td>\n      <td>0</td>\n      <td>0</td>\n      <td>Vedran</td>\n      <td>7</td>\n      <td>Tata</td>\n      <td>0</td>\n      <td>1</td>\n    </tr>\n    <tr>\n      <th>69</th>\n      <td>22022</td>\n      <td>1610612754</td>\n      <td>IND</td>\n      <td>Indiana Pacers</td>\n      <td>0022200004</td>\n      <td>2022-10-19</td>\n      <td>IND vs. WAS</td>\n      <td>L</td>\n      <td>241</td>\n      <td>107</td>\n      <td>...</td>\n      <td>20</td>\n      <td>-7.0</td>\n      <td>WAS</td>\n      <td>1</td>\n      <td>0</td>\n      <td>Miran</td>\n      <td>9</td>\n      <td>Tata</td>\n      <td>0</td>\n      <td>1</td>\n    </tr>\n    <tr>\n      <th>70</th>\n      <td>22022</td>\n      <td>1610612751</td>\n      <td>BKN</td>\n      <td>Brooklyn Nets</td>\n      <td>0022200006</td>\n      <td>2022-10-19</td>\n      <td>BKN vs. NOP</td>\n      <td>L</td>\n      <td>242</td>\n      <td>108</td>\n      <td>...</td>\n      <td>25</td>\n      <td>-22.0</td>\n      <td>NOP</td>\n      <td>1</td>\n      <td>0</td>\n      <td>Vedran</td>\n      <td>4</td>\n      <td>Tata</td>\n      <td>0</td>\n      <td>1</td>\n    </tr>\n    <tr>\n      <th>71</th>\n      <td>22022</td>\n      <td>1610612766</td>\n      <td>CHA</td>\n      <td>Charlotte Hornets</td>\n      <td>0022200017</td>\n      <td>2022-10-21</td>\n      <td>CHA vs. NOP</td>\n      <td>L</td>\n      <td>239</td>\n      <td>112</td>\n      <td>...</td>\n      <td>23</td>\n      <td>-12.0</td>\n      <td>NOP</td>\n      <td>1</td>\n      <td>0</td>\n      <td>Tata</td>\n      <td>9</td>\n      <td>Tata</td>\n      <td>1</td>\n      <td>0</td>\n    </tr>\n  </tbody>\n</table>\n<p>72 rows × 36 columns</p>\n</div>"
     },
     "execution_count": 19,
     "metadata": {},
     "output_type": "execute_result"
    }
   ],
   "source": [
    "# Add column to know if the game is against own team\n",
    "games['IS_NOT_AGAINST_OWN'] = 1\n",
    "games.loc[(games['TEAM_OWNER'] == games['OPPOSING_OWNER']),'IS_NOT_AGAINST_OWN']=0\n",
    "\n",
    "games"
   ],
   "metadata": {
    "collapsed": false
   }
  },
  {
   "cell_type": "code",
   "execution_count": 17,
   "outputs": [
    {
     "name": "stdout",
     "output_type": "stream",
     "text": [
      "Ovo je trenutno stanje s bodovima na daatum 10/23/2022\n",
      "TEAM_OWNER\n",
      "Vedran    16\n",
      "Miran     10\n",
      "Tata      10\n",
      "Name: IS_WIN, dtype: int64\n"
     ]
    }
   ],
   "source": [
    "# actually calculate the points!\n",
    "# Doesn't address the Playoff game / Championship\n",
    "\n",
    "bodovi = games.groupby(by=['TEAM_OWNER'])['IS_WIN'].sum()\n",
    "bodovi = bodovi.sort_values(ascending=False)\n",
    "\n",
    "print(\"Ovo je trenutno stanje s bodovima na daatum \" + league_end_str)\n",
    "print(bodovi)\n",
    "# bodovi = bodovi.sort_values(by=['IS_WIN'], ascending=False)\n",
    "\n"
   ],
   "metadata": {
    "collapsed": false
   }
  },
  {
   "cell_type": "code",
   "execution_count": null,
   "outputs": [],
   "source": [
    " # Next steps: Play with data\n",
    "# Total possible points, total games, total games vs. own teams, total ratios for all pairs..."
   ],
   "metadata": {
    "collapsed": false
   }
  },
  {
   "cell_type": "code",
   "execution_count": 18,
   "outputs": [
    {
     "name": "stdout",
     "output_type": "stream",
     "text": [
      "Total number of games played:\n"
     ]
    },
    {
     "data": {
      "text/plain": "TEAM_OWNER\nMiran     26\nVedran    24\nTata      22\nName: GAME_ID, dtype: int64"
     },
     "execution_count": 18,
     "metadata": {},
     "output_type": "execute_result"
    }
   ],
   "source": [
    "print(\"Total number of games played:\")\n",
    "\n",
    "ukupno_tekma = games.groupby(by=['TEAM_OWNER'])['GAME_ID'].count()\n",
    "ukupno_tekma = ukupno_tekma.sort_values(ascending=False)\n",
    "\n",
    "ukupno_tekma"
   ],
   "metadata": {
    "collapsed": false
   }
  },
  {
   "cell_type": "code",
   "execution_count": 21,
   "outputs": [
    {
     "name": "stdout",
     "output_type": "stream",
     "text": [
      "Total possible points (excl. games vs. own teams):\n"
     ]
    },
    {
     "data": {
      "text/plain": "TEAM_OWNER\nVedran    20\nTata      18\nMiran     16\nName: IS_NOT_AGAINST_OWN, dtype: int64"
     },
     "execution_count": 21,
     "metadata": {},
     "output_type": "execute_result"
    }
   ],
   "source": [
    "print(\"Total possible points (excl. games vs. own teams):\")\n",
    "\n",
    "potencijalno_bodovi = games.groupby(by=['TEAM_OWNER'])['IS_NOT_AGAINST_OWN'].sum()\n",
    "potencijalno_bodovi  = potencijalno_bodovi.sort_values(ascending=False)\n",
    "\n",
    "potencijalno_bodovi"
   ],
   "metadata": {
    "collapsed": false
   }
  },
  {
   "cell_type": "code",
   "execution_count": null,
   "outputs": [],
   "source": [],
   "metadata": {
    "collapsed": false
   }
  }
 ],
 "metadata": {
  "kernelspec": {
   "display_name": "Python 3",
   "language": "python",
   "name": "python3"
  },
  "language_info": {
   "codemirror_mode": {
    "name": "ipython",
    "version": 2
   },
   "file_extension": ".py",
   "mimetype": "text/x-python",
   "name": "python",
   "nbconvert_exporter": "python",
   "pygments_lexer": "ipython2",
   "version": "2.7.6"
  }
 },
 "nbformat": 4,
 "nbformat_minor": 0
}
