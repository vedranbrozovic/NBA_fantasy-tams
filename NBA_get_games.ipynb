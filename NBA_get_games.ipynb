{
 "cells": [
  {
   "cell_type": "code",
   "execution_count": 1,
   "metadata": {
    "collapsed": true
   },
   "outputs": [
    {
     "name": "stdout",
     "output_type": "stream",
     "text": [
      "Requirement already satisfied: nba_api in c:\\users\\vbrozovi\\appdata\\local\\programs\\python\\python39\\lib\\site-packages (1.1.13)\n",
      "Requirement already satisfied: requests in c:\\users\\vbrozovi\\appdata\\local\\programs\\python\\python39\\lib\\site-packages (from nba_api) (2.28.1)\n",
      "Requirement already satisfied: numpy in c:\\users\\vbrozovi\\appdata\\local\\programs\\python\\python39\\lib\\site-packages (from nba_api) (1.23.3)\n",
      "Requirement already satisfied: idna<4,>=2.5 in c:\\users\\vbrozovi\\appdata\\local\\programs\\python\\python39\\lib\\site-packages (from requests->nba_api) (3.4)\n",
      "Requirement already satisfied: urllib3<1.27,>=1.21.1 in c:\\users\\vbrozovi\\appdata\\local\\programs\\python\\python39\\lib\\site-packages (from requests->nba_api) (1.26.12)\n",
      "Requirement already satisfied: certifi>=2017.4.17 in c:\\users\\vbrozovi\\appdata\\local\\programs\\python\\python39\\lib\\site-packages (from requests->nba_api) (2022.9.24)\n",
      "Requirement already satisfied: charset-normalizer<3,>=2 in c:\\users\\vbrozovi\\appdata\\local\\programs\\python\\python39\\lib\\site-packages (from requests->nba_api) (2.1.1)\n",
      "Note: you may need to restart the kernel to use updated packages.\n"
     ]
    }
   ],
   "source": [
    "%pip install nba_api"
   ]
  },
  {
   "cell_type": "code",
   "execution_count": 2,
   "outputs": [
    {
     "data": {
      "text/plain": "'\\n\\n\\napi link:       https://github.com/swar/nba_api/blob/master/docs/nba_api/stats/endpoints/leaguegamefinder.md\\n                https://github.com/swar/nba_api/tree/master/docs/nba_api\\ncode base link: https://github.com/liannewriting/data-science-project-from-scratch-youtube-nba/blob/main/main.py\\n                https://youtu.be/cSnM2PHVqYs\\n\\n'"
     },
     "execution_count": 2,
     "metadata": {},
     "output_type": "execute_result"
    }
   ],
   "source": [
    "\"\"\"\n",
    "\n",
    "\n",
    "api link:       https://github.com/swar/nba_api/blob/master/docs/nba_api/stats/endpoints/leaguegamefinder.md\n",
    "                https://github.com/swar/nba_api/tree/master/docs/nba_api\n",
    "code base link: https://github.com/liannewriting/data-science-project-from-scratch-youtube-nba/blob/main/main.py\n",
    "                https://youtu.be/cSnM2PHVqYs\n",
    "\n",
    "\"\"\""
   ],
   "metadata": {
    "collapsed": false
   }
  },
  {
   "cell_type": "code",
   "execution_count": null,
   "outputs": [],
   "source": [
    "# import libraries\n",
    "\n",
    "from nba_api.stats.endpoints import leaguegamefinder\n",
    "import datetime as dt\n",
    "import pandas as pd\n",
    "import numpy as np"
   ],
   "metadata": {
    "collapsed": false
   }
  },
  {
   "cell_type": "code",
   "execution_count": 6,
   "outputs": [],
   "source": [
    "league_start= dt.date(2022,10,17)   #league start\n",
    "league_end= dt.date.today()\n",
    "\n",
    "# to get a stupid MM/DD/YYYY format to push the parameter through\n",
    "league_start_str = league_start.strftime(\"%m/%d/%Y\")\n",
    "league_end_str = league_end.strftime(\"%m/%d/%Y\")\n",
    "\n",
    "\n"
   ],
   "metadata": {
    "collapsed": false
   }
  },
  {
   "cell_type": "code",
   "execution_count": 8,
   "outputs": [
    {
     "data": {
      "text/plain": "   SEASON_ID     TEAM_ID TEAM_ABBREVIATION               TEAM_NAME  \\\n0      22022  1610612747               LAL      Los Angeles Lakers   \n1      22022  1610612757               POR  Portland Trail Blazers   \n2      22022  1610612744               GSW   Golden State Warriors   \n3      22022  1610612758               SAC        Sacramento Kings   \n4      22022  1610612764               WAS      Washington Wizards   \n..       ...         ...               ...                     ...   \n81     22022  1610612750               MIN  Minnesota Timberwolves   \n82     22022  1610612744               GSW   Golden State Warriors   \n83     22022  1610612747               LAL      Los Angeles Lakers   \n84     22022  1610612755               PHI      Philadelphia 76ers   \n85     22022  1610612738               BOS          Boston Celtics   \n\n       GAME_ID   GAME_DATE      MATCHUP WL  MIN  PTS  ...  FT_PCT  OREB  DREB  \\\n0   0022200037  2022-10-23  LAL vs. POR  L  241  104  ...   0.800    10    30   \n1   0022200037  2022-10-23    POR @ LAL  W  239  106  ...   0.815    13    39   \n2   0022200042  2022-10-23  GSW vs. SAC  W  240  130  ...   0.722     6    31   \n3   0022200042  2022-10-23    SAC @ GSW  L  240  125  ...   0.800    13    38   \n4   0022200039  2022-10-23    WAS @ CLE  L  265  107  ...   0.600     4    31   \n..         ...         ...          ... ..  ...  ...  ...     ...   ...   ...   \n81  0022200010  2022-10-19  MIN vs. OKC  W  241  115  ...   0.818    14    41   \n82  0022200002  2022-10-18  GSW vs. LAL  W  241  123  ...   0.739    11    37   \n83  0022200002  2022-10-18    LAL @ GSW  L  241  109  ...   0.760     9    39   \n84  0022200001  2022-10-18    PHI @ BOS  L  239  117  ...   0.857     4    27   \n85  0022200001  2022-10-18  BOS vs. PHI  W  240  126  ...   0.786     6    30   \n\n    REB  AST  STL  BLK  TOV  PF  PLUS_MINUS  \n0    40   26    9    9   13  24        -2.0  \n1    52   19    6    5   19  20         2.0  \n2    37   24    7    5   13  21         5.0  \n3    51   31   10    2   16  29        -5.0  \n4    35   25    9    4   18  23       -10.0  \n..  ...  ...  ...  ...  ...  ..         ...  \n81   55   25    6    5   14  21         7.0  \n82   48   31   11    4   18  23        14.0  \n83   48   23   12    4   21  18       -14.0  \n84   31   16    8    3   14  25        -9.0  \n85   36   24    8    3   10  23         9.0  \n\n[86 rows x 28 columns]",
      "text/html": "<div>\n<style scoped>\n    .dataframe tbody tr th:only-of-type {\n        vertical-align: middle;\n    }\n\n    .dataframe tbody tr th {\n        vertical-align: top;\n    }\n\n    .dataframe thead th {\n        text-align: right;\n    }\n</style>\n<table border=\"1\" class=\"dataframe\">\n  <thead>\n    <tr style=\"text-align: right;\">\n      <th></th>\n      <th>SEASON_ID</th>\n      <th>TEAM_ID</th>\n      <th>TEAM_ABBREVIATION</th>\n      <th>TEAM_NAME</th>\n      <th>GAME_ID</th>\n      <th>GAME_DATE</th>\n      <th>MATCHUP</th>\n      <th>WL</th>\n      <th>MIN</th>\n      <th>PTS</th>\n      <th>...</th>\n      <th>FT_PCT</th>\n      <th>OREB</th>\n      <th>DREB</th>\n      <th>REB</th>\n      <th>AST</th>\n      <th>STL</th>\n      <th>BLK</th>\n      <th>TOV</th>\n      <th>PF</th>\n      <th>PLUS_MINUS</th>\n    </tr>\n  </thead>\n  <tbody>\n    <tr>\n      <th>0</th>\n      <td>22022</td>\n      <td>1610612747</td>\n      <td>LAL</td>\n      <td>Los Angeles Lakers</td>\n      <td>0022200037</td>\n      <td>2022-10-23</td>\n      <td>LAL vs. POR</td>\n      <td>L</td>\n      <td>241</td>\n      <td>104</td>\n      <td>...</td>\n      <td>0.800</td>\n      <td>10</td>\n      <td>30</td>\n      <td>40</td>\n      <td>26</td>\n      <td>9</td>\n      <td>9</td>\n      <td>13</td>\n      <td>24</td>\n      <td>-2.0</td>\n    </tr>\n    <tr>\n      <th>1</th>\n      <td>22022</td>\n      <td>1610612757</td>\n      <td>POR</td>\n      <td>Portland Trail Blazers</td>\n      <td>0022200037</td>\n      <td>2022-10-23</td>\n      <td>POR @ LAL</td>\n      <td>W</td>\n      <td>239</td>\n      <td>106</td>\n      <td>...</td>\n      <td>0.815</td>\n      <td>13</td>\n      <td>39</td>\n      <td>52</td>\n      <td>19</td>\n      <td>6</td>\n      <td>5</td>\n      <td>19</td>\n      <td>20</td>\n      <td>2.0</td>\n    </tr>\n    <tr>\n      <th>2</th>\n      <td>22022</td>\n      <td>1610612744</td>\n      <td>GSW</td>\n      <td>Golden State Warriors</td>\n      <td>0022200042</td>\n      <td>2022-10-23</td>\n      <td>GSW vs. SAC</td>\n      <td>W</td>\n      <td>240</td>\n      <td>130</td>\n      <td>...</td>\n      <td>0.722</td>\n      <td>6</td>\n      <td>31</td>\n      <td>37</td>\n      <td>24</td>\n      <td>7</td>\n      <td>5</td>\n      <td>13</td>\n      <td>21</td>\n      <td>5.0</td>\n    </tr>\n    <tr>\n      <th>3</th>\n      <td>22022</td>\n      <td>1610612758</td>\n      <td>SAC</td>\n      <td>Sacramento Kings</td>\n      <td>0022200042</td>\n      <td>2022-10-23</td>\n      <td>SAC @ GSW</td>\n      <td>L</td>\n      <td>240</td>\n      <td>125</td>\n      <td>...</td>\n      <td>0.800</td>\n      <td>13</td>\n      <td>38</td>\n      <td>51</td>\n      <td>31</td>\n      <td>10</td>\n      <td>2</td>\n      <td>16</td>\n      <td>29</td>\n      <td>-5.0</td>\n    </tr>\n    <tr>\n      <th>4</th>\n      <td>22022</td>\n      <td>1610612764</td>\n      <td>WAS</td>\n      <td>Washington Wizards</td>\n      <td>0022200039</td>\n      <td>2022-10-23</td>\n      <td>WAS @ CLE</td>\n      <td>L</td>\n      <td>265</td>\n      <td>107</td>\n      <td>...</td>\n      <td>0.600</td>\n      <td>4</td>\n      <td>31</td>\n      <td>35</td>\n      <td>25</td>\n      <td>9</td>\n      <td>4</td>\n      <td>18</td>\n      <td>23</td>\n      <td>-10.0</td>\n    </tr>\n    <tr>\n      <th>...</th>\n      <td>...</td>\n      <td>...</td>\n      <td>...</td>\n      <td>...</td>\n      <td>...</td>\n      <td>...</td>\n      <td>...</td>\n      <td>...</td>\n      <td>...</td>\n      <td>...</td>\n      <td>...</td>\n      <td>...</td>\n      <td>...</td>\n      <td>...</td>\n      <td>...</td>\n      <td>...</td>\n      <td>...</td>\n      <td>...</td>\n      <td>...</td>\n      <td>...</td>\n      <td>...</td>\n    </tr>\n    <tr>\n      <th>81</th>\n      <td>22022</td>\n      <td>1610612750</td>\n      <td>MIN</td>\n      <td>Minnesota Timberwolves</td>\n      <td>0022200010</td>\n      <td>2022-10-19</td>\n      <td>MIN vs. OKC</td>\n      <td>W</td>\n      <td>241</td>\n      <td>115</td>\n      <td>...</td>\n      <td>0.818</td>\n      <td>14</td>\n      <td>41</td>\n      <td>55</td>\n      <td>25</td>\n      <td>6</td>\n      <td>5</td>\n      <td>14</td>\n      <td>21</td>\n      <td>7.0</td>\n    </tr>\n    <tr>\n      <th>82</th>\n      <td>22022</td>\n      <td>1610612744</td>\n      <td>GSW</td>\n      <td>Golden State Warriors</td>\n      <td>0022200002</td>\n      <td>2022-10-18</td>\n      <td>GSW vs. LAL</td>\n      <td>W</td>\n      <td>241</td>\n      <td>123</td>\n      <td>...</td>\n      <td>0.739</td>\n      <td>11</td>\n      <td>37</td>\n      <td>48</td>\n      <td>31</td>\n      <td>11</td>\n      <td>4</td>\n      <td>18</td>\n      <td>23</td>\n      <td>14.0</td>\n    </tr>\n    <tr>\n      <th>83</th>\n      <td>22022</td>\n      <td>1610612747</td>\n      <td>LAL</td>\n      <td>Los Angeles Lakers</td>\n      <td>0022200002</td>\n      <td>2022-10-18</td>\n      <td>LAL @ GSW</td>\n      <td>L</td>\n      <td>241</td>\n      <td>109</td>\n      <td>...</td>\n      <td>0.760</td>\n      <td>9</td>\n      <td>39</td>\n      <td>48</td>\n      <td>23</td>\n      <td>12</td>\n      <td>4</td>\n      <td>21</td>\n      <td>18</td>\n      <td>-14.0</td>\n    </tr>\n    <tr>\n      <th>84</th>\n      <td>22022</td>\n      <td>1610612755</td>\n      <td>PHI</td>\n      <td>Philadelphia 76ers</td>\n      <td>0022200001</td>\n      <td>2022-10-18</td>\n      <td>PHI @ BOS</td>\n      <td>L</td>\n      <td>239</td>\n      <td>117</td>\n      <td>...</td>\n      <td>0.857</td>\n      <td>4</td>\n      <td>27</td>\n      <td>31</td>\n      <td>16</td>\n      <td>8</td>\n      <td>3</td>\n      <td>14</td>\n      <td>25</td>\n      <td>-9.0</td>\n    </tr>\n    <tr>\n      <th>85</th>\n      <td>22022</td>\n      <td>1610612738</td>\n      <td>BOS</td>\n      <td>Boston Celtics</td>\n      <td>0022200001</td>\n      <td>2022-10-18</td>\n      <td>BOS vs. PHI</td>\n      <td>W</td>\n      <td>240</td>\n      <td>126</td>\n      <td>...</td>\n      <td>0.786</td>\n      <td>6</td>\n      <td>30</td>\n      <td>36</td>\n      <td>24</td>\n      <td>8</td>\n      <td>3</td>\n      <td>10</td>\n      <td>23</td>\n      <td>9.0</td>\n    </tr>\n  </tbody>\n</table>\n<p>86 rows × 28 columns</p>\n</div>"
     },
     "execution_count": 8,
     "metadata": {},
     "output_type": "execute_result"
    }
   ],
   "source": [
    "gamefinder = leaguegamefinder.LeagueGameFinder(date_from_nullable=league_start_str, # start date\n",
    "                                               date_to_nullable=league_end_str,     # end date\n",
    "                                               league_id_nullable='00',\n",
    "                                               )\n",
    "# would be for specific date: date_from_nullable=game_date_str\n",
    "games = gamefinder.get_data_frames()[0]\n",
    "games"
   ],
   "metadata": {
    "collapsed": false
   }
  },
  {
   "cell_type": "code",
   "execution_count": null,
   "outputs": [],
   "source": [
    "games.columns"
   ],
   "metadata": {
    "collapsed": false
   }
  },
  {
   "cell_type": "code",
   "execution_count": 9,
   "outputs": [],
   "source": [
    "# Add additional information in separate columns from MATCHDAY\n",
    "\n",
    "# Add a column about an opponent - always in matchup\n",
    "\n",
    "opponent = games['MATCHUP'].str[-3:]\n",
    "games['OPPONENT'] = opponent\n",
    "\n",
    "# Is it a home or away game? > first set all to home then change those having @ to away\n",
    "games['IS_HOME'] = 1\n",
    "games.loc[games['MATCHUP'].str.contains('@'), 'IS_HOME'] = 0\n",
    "\n",
    "# Add actual countable Wins\n",
    "games['IS_WIN'] = 1\n",
    "games.loc[games['WL'] == 'L', 'IS_WIN'] = 0"
   ],
   "metadata": {
    "collapsed": false
   }
  },
  {
   "cell_type": "code",
   "execution_count": 10,
   "outputs": [
    {
     "data": {
      "text/plain": "   SEASON_ID     TEAM_ID TEAM_ABBREVIATION               TEAM_NAME  \\\n0      22022  1610612747               LAL      Los Angeles Lakers   \n1      22022  1610612757               POR  Portland Trail Blazers   \n2      22022  1610612744               GSW   Golden State Warriors   \n3      22022  1610612758               SAC        Sacramento Kings   \n4      22022  1610612764               WAS      Washington Wizards   \n..       ...         ...               ...                     ...   \n81     22022  1610612750               MIN  Minnesota Timberwolves   \n82     22022  1610612744               GSW   Golden State Warriors   \n83     22022  1610612747               LAL      Los Angeles Lakers   \n84     22022  1610612755               PHI      Philadelphia 76ers   \n85     22022  1610612738               BOS          Boston Celtics   \n\n       GAME_ID   GAME_DATE      MATCHUP WL  MIN  PTS  ...  REB  AST  STL  BLK  \\\n0   0022200037  2022-10-23  LAL vs. POR  L  241  104  ...   40   26    9    9   \n1   0022200037  2022-10-23    POR @ LAL  W  239  106  ...   52   19    6    5   \n2   0022200042  2022-10-23  GSW vs. SAC  W  240  130  ...   37   24    7    5   \n3   0022200042  2022-10-23    SAC @ GSW  L  240  125  ...   51   31   10    2   \n4   0022200039  2022-10-23    WAS @ CLE  L  265  107  ...   35   25    9    4   \n..         ...         ...          ... ..  ...  ...  ...  ...  ...  ...  ...   \n81  0022200010  2022-10-19  MIN vs. OKC  W  241  115  ...   55   25    6    5   \n82  0022200002  2022-10-18  GSW vs. LAL  W  241  123  ...   48   31   11    4   \n83  0022200002  2022-10-18    LAL @ GSW  L  241  109  ...   48   23   12    4   \n84  0022200001  2022-10-18    PHI @ BOS  L  239  117  ...   31   16    8    3   \n85  0022200001  2022-10-18  BOS vs. PHI  W  240  126  ...   36   24    8    3   \n\n    TOV  PF  PLUS_MINUS  OPPONENT  IS_HOME  IS_WIN  \n0    13  24        -2.0       POR        1       0  \n1    19  20         2.0       LAL        0       1  \n2    13  21         5.0       SAC        1       1  \n3    16  29        -5.0       GSW        0       0  \n4    18  23       -10.0       CLE        0       0  \n..  ...  ..         ...       ...      ...     ...  \n81   14  21         7.0       OKC        1       1  \n82   18  23        14.0       LAL        1       1  \n83   21  18       -14.0       GSW        0       0  \n84   14  25        -9.0       BOS        0       0  \n85   10  23         9.0       PHI        1       1  \n\n[86 rows x 31 columns]",
      "text/html": "<div>\n<style scoped>\n    .dataframe tbody tr th:only-of-type {\n        vertical-align: middle;\n    }\n\n    .dataframe tbody tr th {\n        vertical-align: top;\n    }\n\n    .dataframe thead th {\n        text-align: right;\n    }\n</style>\n<table border=\"1\" class=\"dataframe\">\n  <thead>\n    <tr style=\"text-align: right;\">\n      <th></th>\n      <th>SEASON_ID</th>\n      <th>TEAM_ID</th>\n      <th>TEAM_ABBREVIATION</th>\n      <th>TEAM_NAME</th>\n      <th>GAME_ID</th>\n      <th>GAME_DATE</th>\n      <th>MATCHUP</th>\n      <th>WL</th>\n      <th>MIN</th>\n      <th>PTS</th>\n      <th>...</th>\n      <th>REB</th>\n      <th>AST</th>\n      <th>STL</th>\n      <th>BLK</th>\n      <th>TOV</th>\n      <th>PF</th>\n      <th>PLUS_MINUS</th>\n      <th>OPPONENT</th>\n      <th>IS_HOME</th>\n      <th>IS_WIN</th>\n    </tr>\n  </thead>\n  <tbody>\n    <tr>\n      <th>0</th>\n      <td>22022</td>\n      <td>1610612747</td>\n      <td>LAL</td>\n      <td>Los Angeles Lakers</td>\n      <td>0022200037</td>\n      <td>2022-10-23</td>\n      <td>LAL vs. POR</td>\n      <td>L</td>\n      <td>241</td>\n      <td>104</td>\n      <td>...</td>\n      <td>40</td>\n      <td>26</td>\n      <td>9</td>\n      <td>9</td>\n      <td>13</td>\n      <td>24</td>\n      <td>-2.0</td>\n      <td>POR</td>\n      <td>1</td>\n      <td>0</td>\n    </tr>\n    <tr>\n      <th>1</th>\n      <td>22022</td>\n      <td>1610612757</td>\n      <td>POR</td>\n      <td>Portland Trail Blazers</td>\n      <td>0022200037</td>\n      <td>2022-10-23</td>\n      <td>POR @ LAL</td>\n      <td>W</td>\n      <td>239</td>\n      <td>106</td>\n      <td>...</td>\n      <td>52</td>\n      <td>19</td>\n      <td>6</td>\n      <td>5</td>\n      <td>19</td>\n      <td>20</td>\n      <td>2.0</td>\n      <td>LAL</td>\n      <td>0</td>\n      <td>1</td>\n    </tr>\n    <tr>\n      <th>2</th>\n      <td>22022</td>\n      <td>1610612744</td>\n      <td>GSW</td>\n      <td>Golden State Warriors</td>\n      <td>0022200042</td>\n      <td>2022-10-23</td>\n      <td>GSW vs. SAC</td>\n      <td>W</td>\n      <td>240</td>\n      <td>130</td>\n      <td>...</td>\n      <td>37</td>\n      <td>24</td>\n      <td>7</td>\n      <td>5</td>\n      <td>13</td>\n      <td>21</td>\n      <td>5.0</td>\n      <td>SAC</td>\n      <td>1</td>\n      <td>1</td>\n    </tr>\n    <tr>\n      <th>3</th>\n      <td>22022</td>\n      <td>1610612758</td>\n      <td>SAC</td>\n      <td>Sacramento Kings</td>\n      <td>0022200042</td>\n      <td>2022-10-23</td>\n      <td>SAC @ GSW</td>\n      <td>L</td>\n      <td>240</td>\n      <td>125</td>\n      <td>...</td>\n      <td>51</td>\n      <td>31</td>\n      <td>10</td>\n      <td>2</td>\n      <td>16</td>\n      <td>29</td>\n      <td>-5.0</td>\n      <td>GSW</td>\n      <td>0</td>\n      <td>0</td>\n    </tr>\n    <tr>\n      <th>4</th>\n      <td>22022</td>\n      <td>1610612764</td>\n      <td>WAS</td>\n      <td>Washington Wizards</td>\n      <td>0022200039</td>\n      <td>2022-10-23</td>\n      <td>WAS @ CLE</td>\n      <td>L</td>\n      <td>265</td>\n      <td>107</td>\n      <td>...</td>\n      <td>35</td>\n      <td>25</td>\n      <td>9</td>\n      <td>4</td>\n      <td>18</td>\n      <td>23</td>\n      <td>-10.0</td>\n      <td>CLE</td>\n      <td>0</td>\n      <td>0</td>\n    </tr>\n    <tr>\n      <th>...</th>\n      <td>...</td>\n      <td>...</td>\n      <td>...</td>\n      <td>...</td>\n      <td>...</td>\n      <td>...</td>\n      <td>...</td>\n      <td>...</td>\n      <td>...</td>\n      <td>...</td>\n      <td>...</td>\n      <td>...</td>\n      <td>...</td>\n      <td>...</td>\n      <td>...</td>\n      <td>...</td>\n      <td>...</td>\n      <td>...</td>\n      <td>...</td>\n      <td>...</td>\n      <td>...</td>\n    </tr>\n    <tr>\n      <th>81</th>\n      <td>22022</td>\n      <td>1610612750</td>\n      <td>MIN</td>\n      <td>Minnesota Timberwolves</td>\n      <td>0022200010</td>\n      <td>2022-10-19</td>\n      <td>MIN vs. OKC</td>\n      <td>W</td>\n      <td>241</td>\n      <td>115</td>\n      <td>...</td>\n      <td>55</td>\n      <td>25</td>\n      <td>6</td>\n      <td>5</td>\n      <td>14</td>\n      <td>21</td>\n      <td>7.0</td>\n      <td>OKC</td>\n      <td>1</td>\n      <td>1</td>\n    </tr>\n    <tr>\n      <th>82</th>\n      <td>22022</td>\n      <td>1610612744</td>\n      <td>GSW</td>\n      <td>Golden State Warriors</td>\n      <td>0022200002</td>\n      <td>2022-10-18</td>\n      <td>GSW vs. LAL</td>\n      <td>W</td>\n      <td>241</td>\n      <td>123</td>\n      <td>...</td>\n      <td>48</td>\n      <td>31</td>\n      <td>11</td>\n      <td>4</td>\n      <td>18</td>\n      <td>23</td>\n      <td>14.0</td>\n      <td>LAL</td>\n      <td>1</td>\n      <td>1</td>\n    </tr>\n    <tr>\n      <th>83</th>\n      <td>22022</td>\n      <td>1610612747</td>\n      <td>LAL</td>\n      <td>Los Angeles Lakers</td>\n      <td>0022200002</td>\n      <td>2022-10-18</td>\n      <td>LAL @ GSW</td>\n      <td>L</td>\n      <td>241</td>\n      <td>109</td>\n      <td>...</td>\n      <td>48</td>\n      <td>23</td>\n      <td>12</td>\n      <td>4</td>\n      <td>21</td>\n      <td>18</td>\n      <td>-14.0</td>\n      <td>GSW</td>\n      <td>0</td>\n      <td>0</td>\n    </tr>\n    <tr>\n      <th>84</th>\n      <td>22022</td>\n      <td>1610612755</td>\n      <td>PHI</td>\n      <td>Philadelphia 76ers</td>\n      <td>0022200001</td>\n      <td>2022-10-18</td>\n      <td>PHI @ BOS</td>\n      <td>L</td>\n      <td>239</td>\n      <td>117</td>\n      <td>...</td>\n      <td>31</td>\n      <td>16</td>\n      <td>8</td>\n      <td>3</td>\n      <td>14</td>\n      <td>25</td>\n      <td>-9.0</td>\n      <td>BOS</td>\n      <td>0</td>\n      <td>0</td>\n    </tr>\n    <tr>\n      <th>85</th>\n      <td>22022</td>\n      <td>1610612738</td>\n      <td>BOS</td>\n      <td>Boston Celtics</td>\n      <td>0022200001</td>\n      <td>2022-10-18</td>\n      <td>BOS vs. PHI</td>\n      <td>W</td>\n      <td>240</td>\n      <td>126</td>\n      <td>...</td>\n      <td>36</td>\n      <td>24</td>\n      <td>8</td>\n      <td>3</td>\n      <td>10</td>\n      <td>23</td>\n      <td>9.0</td>\n      <td>PHI</td>\n      <td>1</td>\n      <td>1</td>\n    </tr>\n  </tbody>\n</table>\n<p>86 rows × 31 columns</p>\n</div>"
     },
     "execution_count": 10,
     "metadata": {},
     "output_type": "execute_result"
    }
   ],
   "source": [
    "games"
   ],
   "metadata": {
    "collapsed": false
   }
  },
  {
   "cell_type": "code",
   "execution_count": 11,
   "outputs": [
    {
     "data": {
      "text/plain": "       TEAM_ID TEAM_ABBREVIATION               TEAM_NAME\n0   1610612747               LAL      Los Angeles Lakers\n1   1610612757               POR  Portland Trail Blazers\n2   1610612744               GSW   Golden State Warriors\n3   1610612758               SAC        Sacramento Kings\n4   1610612764               WAS      Washington Wizards\n5   1610612739               CLE     Cleveland Cavaliers\n6   1610612766               CHA       Charlotte Hornets\n7   1610612737               ATL           Atlanta Hawks\n8   1610612756               PHX            Phoenix Suns\n9   1610612746               LAC             LA Clippers\n10  1610612740               NOP    New Orleans Pelicans\n11  1610612762               UTA               Utah Jazz\n12  1610612750               MIN  Minnesota Timberwolves\n13  1610612760               OKC   Oklahoma City Thunder\n16  1610612749               MIL         Milwaukee Bucks\n17  1610612745               HOU         Houston Rockets\n18  1610612763               MEM       Memphis Grizzlies\n19  1610612742               DAL        Dallas Mavericks\n20  1610612748               MIA              Miami Heat\n21  1610612761               TOR         Toronto Raptors\n22  1610612765               DET         Detroit Pistons\n23  1610612754               IND          Indiana Pacers\n24  1610612759               SAS       San Antonio Spurs\n25  1610612755               PHI      Philadelphia 76ers\n27  1610612741               CHI           Chicago Bulls\n28  1610612743               DEN          Denver Nuggets\n30  1610612753               ORL           Orlando Magic\n31  1610612738               BOS          Boston Celtics\n35  1610612751               BKN           Brooklyn Nets\n46  1610612752               NYK         New York Knicks",
      "text/html": "<div>\n<style scoped>\n    .dataframe tbody tr th:only-of-type {\n        vertical-align: middle;\n    }\n\n    .dataframe tbody tr th {\n        vertical-align: top;\n    }\n\n    .dataframe thead th {\n        text-align: right;\n    }\n</style>\n<table border=\"1\" class=\"dataframe\">\n  <thead>\n    <tr style=\"text-align: right;\">\n      <th></th>\n      <th>TEAM_ID</th>\n      <th>TEAM_ABBREVIATION</th>\n      <th>TEAM_NAME</th>\n    </tr>\n  </thead>\n  <tbody>\n    <tr>\n      <th>0</th>\n      <td>1610612747</td>\n      <td>LAL</td>\n      <td>Los Angeles Lakers</td>\n    </tr>\n    <tr>\n      <th>1</th>\n      <td>1610612757</td>\n      <td>POR</td>\n      <td>Portland Trail Blazers</td>\n    </tr>\n    <tr>\n      <th>2</th>\n      <td>1610612744</td>\n      <td>GSW</td>\n      <td>Golden State Warriors</td>\n    </tr>\n    <tr>\n      <th>3</th>\n      <td>1610612758</td>\n      <td>SAC</td>\n      <td>Sacramento Kings</td>\n    </tr>\n    <tr>\n      <th>4</th>\n      <td>1610612764</td>\n      <td>WAS</td>\n      <td>Washington Wizards</td>\n    </tr>\n    <tr>\n      <th>5</th>\n      <td>1610612739</td>\n      <td>CLE</td>\n      <td>Cleveland Cavaliers</td>\n    </tr>\n    <tr>\n      <th>6</th>\n      <td>1610612766</td>\n      <td>CHA</td>\n      <td>Charlotte Hornets</td>\n    </tr>\n    <tr>\n      <th>7</th>\n      <td>1610612737</td>\n      <td>ATL</td>\n      <td>Atlanta Hawks</td>\n    </tr>\n    <tr>\n      <th>8</th>\n      <td>1610612756</td>\n      <td>PHX</td>\n      <td>Phoenix Suns</td>\n    </tr>\n    <tr>\n      <th>9</th>\n      <td>1610612746</td>\n      <td>LAC</td>\n      <td>LA Clippers</td>\n    </tr>\n    <tr>\n      <th>10</th>\n      <td>1610612740</td>\n      <td>NOP</td>\n      <td>New Orleans Pelicans</td>\n    </tr>\n    <tr>\n      <th>11</th>\n      <td>1610612762</td>\n      <td>UTA</td>\n      <td>Utah Jazz</td>\n    </tr>\n    <tr>\n      <th>12</th>\n      <td>1610612750</td>\n      <td>MIN</td>\n      <td>Minnesota Timberwolves</td>\n    </tr>\n    <tr>\n      <th>13</th>\n      <td>1610612760</td>\n      <td>OKC</td>\n      <td>Oklahoma City Thunder</td>\n    </tr>\n    <tr>\n      <th>16</th>\n      <td>1610612749</td>\n      <td>MIL</td>\n      <td>Milwaukee Bucks</td>\n    </tr>\n    <tr>\n      <th>17</th>\n      <td>1610612745</td>\n      <td>HOU</td>\n      <td>Houston Rockets</td>\n    </tr>\n    <tr>\n      <th>18</th>\n      <td>1610612763</td>\n      <td>MEM</td>\n      <td>Memphis Grizzlies</td>\n    </tr>\n    <tr>\n      <th>19</th>\n      <td>1610612742</td>\n      <td>DAL</td>\n      <td>Dallas Mavericks</td>\n    </tr>\n    <tr>\n      <th>20</th>\n      <td>1610612748</td>\n      <td>MIA</td>\n      <td>Miami Heat</td>\n    </tr>\n    <tr>\n      <th>21</th>\n      <td>1610612761</td>\n      <td>TOR</td>\n      <td>Toronto Raptors</td>\n    </tr>\n    <tr>\n      <th>22</th>\n      <td>1610612765</td>\n      <td>DET</td>\n      <td>Detroit Pistons</td>\n    </tr>\n    <tr>\n      <th>23</th>\n      <td>1610612754</td>\n      <td>IND</td>\n      <td>Indiana Pacers</td>\n    </tr>\n    <tr>\n      <th>24</th>\n      <td>1610612759</td>\n      <td>SAS</td>\n      <td>San Antonio Spurs</td>\n    </tr>\n    <tr>\n      <th>25</th>\n      <td>1610612755</td>\n      <td>PHI</td>\n      <td>Philadelphia 76ers</td>\n    </tr>\n    <tr>\n      <th>27</th>\n      <td>1610612741</td>\n      <td>CHI</td>\n      <td>Chicago Bulls</td>\n    </tr>\n    <tr>\n      <th>28</th>\n      <td>1610612743</td>\n      <td>DEN</td>\n      <td>Denver Nuggets</td>\n    </tr>\n    <tr>\n      <th>30</th>\n      <td>1610612753</td>\n      <td>ORL</td>\n      <td>Orlando Magic</td>\n    </tr>\n    <tr>\n      <th>31</th>\n      <td>1610612738</td>\n      <td>BOS</td>\n      <td>Boston Celtics</td>\n    </tr>\n    <tr>\n      <th>35</th>\n      <td>1610612751</td>\n      <td>BKN</td>\n      <td>Brooklyn Nets</td>\n    </tr>\n    <tr>\n      <th>46</th>\n      <td>1610612752</td>\n      <td>NYK</td>\n      <td>New York Knicks</td>\n    </tr>\n  </tbody>\n</table>\n</div>"
     },
     "execution_count": 11,
     "metadata": {},
     "output_type": "execute_result"
    }
   ],
   "source": [
    "teams = games.drop_duplicates(['TEAM_ID','TEAM_ABBREVIATION','TEAM_NAME'])[['TEAM_ID','TEAM_ABBREVIATION','TEAM_NAME']]\n",
    "teams"
   ],
   "metadata": {
    "collapsed": false
   }
  },
  {
   "cell_type": "code",
   "execution_count": 12,
   "outputs": [
    {
     "data": {
      "text/plain": "       TEAM_ID TEAM_ABBREVIATION               TEAM_NAME TEAM_OWNER  TEAM_PICK\n0   1610612745               HOU         Houston Rockets      Miran         10\n1   1610612761               TOR         Toronto Raptors      Miran          2\n2   1610612763               MEM       Memphis Grizzlies      Miran          3\n3   1610612765               DET         Detroit Pistons      Miran          8\n4   1610612755               PHI      Philadelphia 76ers      Miran          1\n5   1610612754               IND          Indiana Pacers      Miran          9\n6   1610612737               ATL           Atlanta Hawks      Miran          6\n7   1610612750               MIN  Minnesota Timberwolves      Miran          5\n8   1610612756               PHX            Phoenix Suns      Miran          4\n9   1610612752               NYK         New York Knicks      Miran          7\n10  1610612746               LAC             LA Clippers       Tata          3\n11  1610612758               SAC        Sacramento Kings       Tata         10\n12  1610612748               MIA              Miami Heat       Tata          4\n13  1610612742               DAL        Dallas Mavericks       Tata          1\n14  1610612760               OKC   Oklahoma City Thunder       Tata          7\n15  1610612753               ORL           Orlando Magic       Tata          6\n16  1610612740               NOP    New Orleans Pelicans       Tata          5\n17  1610612766               CHA       Charlotte Hornets       Tata          9\n18  1610612764               WAS      Washington Wizards       Tata          8\n19  1610612744               GSW   Golden State Warriors       Tata          2\n20  1610612749               MIL         Milwaukee Bucks     Vedran          1\n21  1610612743               DEN          Denver Nuggets     Vedran          3\n22  1610612759               SAS       San Antonio Spurs     Vedran         10\n23  1610612738               BOS          Boston Celtics     Vedran          2\n24  1610612739               CLE     Cleveland Cavaliers     Vedran          8\n25  1610612741               CHI           Chicago Bulls     Vedran          7\n26  1610612751               BKN           Brooklyn Nets     Vedran          4\n27  1610612757               POR  Portland Trail Blazers     Vedran          5\n28  1610612762               UTA               Utah Jazz     Vedran          9\n29  1610612747               LAL      Los Angeles Lakers     Vedran          6",
      "text/html": "<div>\n<style scoped>\n    .dataframe tbody tr th:only-of-type {\n        vertical-align: middle;\n    }\n\n    .dataframe tbody tr th {\n        vertical-align: top;\n    }\n\n    .dataframe thead th {\n        text-align: right;\n    }\n</style>\n<table border=\"1\" class=\"dataframe\">\n  <thead>\n    <tr style=\"text-align: right;\">\n      <th></th>\n      <th>TEAM_ID</th>\n      <th>TEAM_ABBREVIATION</th>\n      <th>TEAM_NAME</th>\n      <th>TEAM_OWNER</th>\n      <th>TEAM_PICK</th>\n    </tr>\n  </thead>\n  <tbody>\n    <tr>\n      <th>0</th>\n      <td>1610612745</td>\n      <td>HOU</td>\n      <td>Houston Rockets</td>\n      <td>Miran</td>\n      <td>10</td>\n    </tr>\n    <tr>\n      <th>1</th>\n      <td>1610612761</td>\n      <td>TOR</td>\n      <td>Toronto Raptors</td>\n      <td>Miran</td>\n      <td>2</td>\n    </tr>\n    <tr>\n      <th>2</th>\n      <td>1610612763</td>\n      <td>MEM</td>\n      <td>Memphis Grizzlies</td>\n      <td>Miran</td>\n      <td>3</td>\n    </tr>\n    <tr>\n      <th>3</th>\n      <td>1610612765</td>\n      <td>DET</td>\n      <td>Detroit Pistons</td>\n      <td>Miran</td>\n      <td>8</td>\n    </tr>\n    <tr>\n      <th>4</th>\n      <td>1610612755</td>\n      <td>PHI</td>\n      <td>Philadelphia 76ers</td>\n      <td>Miran</td>\n      <td>1</td>\n    </tr>\n    <tr>\n      <th>5</th>\n      <td>1610612754</td>\n      <td>IND</td>\n      <td>Indiana Pacers</td>\n      <td>Miran</td>\n      <td>9</td>\n    </tr>\n    <tr>\n      <th>6</th>\n      <td>1610612737</td>\n      <td>ATL</td>\n      <td>Atlanta Hawks</td>\n      <td>Miran</td>\n      <td>6</td>\n    </tr>\n    <tr>\n      <th>7</th>\n      <td>1610612750</td>\n      <td>MIN</td>\n      <td>Minnesota Timberwolves</td>\n      <td>Miran</td>\n      <td>5</td>\n    </tr>\n    <tr>\n      <th>8</th>\n      <td>1610612756</td>\n      <td>PHX</td>\n      <td>Phoenix Suns</td>\n      <td>Miran</td>\n      <td>4</td>\n    </tr>\n    <tr>\n      <th>9</th>\n      <td>1610612752</td>\n      <td>NYK</td>\n      <td>New York Knicks</td>\n      <td>Miran</td>\n      <td>7</td>\n    </tr>\n    <tr>\n      <th>10</th>\n      <td>1610612746</td>\n      <td>LAC</td>\n      <td>LA Clippers</td>\n      <td>Tata</td>\n      <td>3</td>\n    </tr>\n    <tr>\n      <th>11</th>\n      <td>1610612758</td>\n      <td>SAC</td>\n      <td>Sacramento Kings</td>\n      <td>Tata</td>\n      <td>10</td>\n    </tr>\n    <tr>\n      <th>12</th>\n      <td>1610612748</td>\n      <td>MIA</td>\n      <td>Miami Heat</td>\n      <td>Tata</td>\n      <td>4</td>\n    </tr>\n    <tr>\n      <th>13</th>\n      <td>1610612742</td>\n      <td>DAL</td>\n      <td>Dallas Mavericks</td>\n      <td>Tata</td>\n      <td>1</td>\n    </tr>\n    <tr>\n      <th>14</th>\n      <td>1610612760</td>\n      <td>OKC</td>\n      <td>Oklahoma City Thunder</td>\n      <td>Tata</td>\n      <td>7</td>\n    </tr>\n    <tr>\n      <th>15</th>\n      <td>1610612753</td>\n      <td>ORL</td>\n      <td>Orlando Magic</td>\n      <td>Tata</td>\n      <td>6</td>\n    </tr>\n    <tr>\n      <th>16</th>\n      <td>1610612740</td>\n      <td>NOP</td>\n      <td>New Orleans Pelicans</td>\n      <td>Tata</td>\n      <td>5</td>\n    </tr>\n    <tr>\n      <th>17</th>\n      <td>1610612766</td>\n      <td>CHA</td>\n      <td>Charlotte Hornets</td>\n      <td>Tata</td>\n      <td>9</td>\n    </tr>\n    <tr>\n      <th>18</th>\n      <td>1610612764</td>\n      <td>WAS</td>\n      <td>Washington Wizards</td>\n      <td>Tata</td>\n      <td>8</td>\n    </tr>\n    <tr>\n      <th>19</th>\n      <td>1610612744</td>\n      <td>GSW</td>\n      <td>Golden State Warriors</td>\n      <td>Tata</td>\n      <td>2</td>\n    </tr>\n    <tr>\n      <th>20</th>\n      <td>1610612749</td>\n      <td>MIL</td>\n      <td>Milwaukee Bucks</td>\n      <td>Vedran</td>\n      <td>1</td>\n    </tr>\n    <tr>\n      <th>21</th>\n      <td>1610612743</td>\n      <td>DEN</td>\n      <td>Denver Nuggets</td>\n      <td>Vedran</td>\n      <td>3</td>\n    </tr>\n    <tr>\n      <th>22</th>\n      <td>1610612759</td>\n      <td>SAS</td>\n      <td>San Antonio Spurs</td>\n      <td>Vedran</td>\n      <td>10</td>\n    </tr>\n    <tr>\n      <th>23</th>\n      <td>1610612738</td>\n      <td>BOS</td>\n      <td>Boston Celtics</td>\n      <td>Vedran</td>\n      <td>2</td>\n    </tr>\n    <tr>\n      <th>24</th>\n      <td>1610612739</td>\n      <td>CLE</td>\n      <td>Cleveland Cavaliers</td>\n      <td>Vedran</td>\n      <td>8</td>\n    </tr>\n    <tr>\n      <th>25</th>\n      <td>1610612741</td>\n      <td>CHI</td>\n      <td>Chicago Bulls</td>\n      <td>Vedran</td>\n      <td>7</td>\n    </tr>\n    <tr>\n      <th>26</th>\n      <td>1610612751</td>\n      <td>BKN</td>\n      <td>Brooklyn Nets</td>\n      <td>Vedran</td>\n      <td>4</td>\n    </tr>\n    <tr>\n      <th>27</th>\n      <td>1610612757</td>\n      <td>POR</td>\n      <td>Portland Trail Blazers</td>\n      <td>Vedran</td>\n      <td>5</td>\n    </tr>\n    <tr>\n      <th>28</th>\n      <td>1610612762</td>\n      <td>UTA</td>\n      <td>Utah Jazz</td>\n      <td>Vedran</td>\n      <td>9</td>\n    </tr>\n    <tr>\n      <th>29</th>\n      <td>1610612747</td>\n      <td>LAL</td>\n      <td>Los Angeles Lakers</td>\n      <td>Vedran</td>\n      <td>6</td>\n    </tr>\n  </tbody>\n</table>\n</div>"
     },
     "execution_count": 12,
     "metadata": {},
     "output_type": "execute_result"
    }
   ],
   "source": [
    "# Actually import the team selection (probably I want to move this the very start later on)\n",
    "# I used the drop duplicates to match it, could pull from static api\n",
    "url ='https://raw.githubusercontent.com/vedranbrozovic/NBA_fantasy-tams/main/Team_selection.txt'\n",
    "team_selection = pd.read_csv(url,sep='\\t')\n",
    "team_selection\n"
   ],
   "metadata": {
    "collapsed": false
   }
  },
  {
   "cell_type": "code",
   "execution_count": 13,
   "outputs": [],
   "source": [
    "# Add info on the team owner & pick number to the games dataframe\n",
    "team_selection_df = team_selection[['TEAM_ID','TEAM_OWNER','TEAM_PICK']]\n",
    "\n",
    "games = pd.merge(games, team_selection_df, on=[\"TEAM_ID\"])\n",
    "\n"
   ],
   "metadata": {
    "collapsed": false
   }
  },
  {
   "cell_type": "code",
   "execution_count": 14,
   "outputs": [
    {
     "data": {
      "text/plain": "   SEASON_ID     TEAM_ID TEAM_ABBREVIATION           TEAM_NAME     GAME_ID  \\\n0      22022  1610612747               LAL  Los Angeles Lakers  0022200037   \n1      22022  1610612758               SAC    Sacramento Kings  0022200014   \n2      22022  1610612756               PHX        Phoenix Suns  0022200027   \n3      22022  1610612747               LAL  Los Angeles Lakers  0022200016   \n4      22022  1610612758               SAC    Sacramento Kings  0022200036   \n..       ...         ...               ...                 ...         ...   \n81     22022  1610612741               CHI       Chicago Bulls  0022200007   \n82     22022  1610612738               BOS      Boston Celtics  0022200022   \n83     22022  1610612754               IND      Indiana Pacers  0022200029   \n84     22022  1610612753               ORL       Orlando Magic  0022200003   \n85     22022  1610612752               NYK     New York Knicks  0022200023   \n\n     GAME_DATE      MATCHUP WL  MIN  PTS  ...  BLK  TOV  PF  PLUS_MINUS  \\\n0   2022-10-23  LAL vs. POR  L  241  104  ...    9   13  24        -2.0   \n1   2022-10-19  SAC vs. POR  L  241  108  ...    5   15  25        -7.0   \n2   2022-10-21    PHX @ POR  L  266  111  ...    1   16  27        -2.0   \n3   2022-10-20  LAL vs. LAC  L  241   97  ...    5   10  24        -6.0   \n4   2022-10-22  SAC vs. LAC  L  239  109  ...    5   12  21        -2.0   \n..         ...          ... ..  ...  ...  ...  ...  ...  ..         ...   \n81  2022-10-19    CHI @ MIA  W  240  116  ...    6   14  26         8.0   \n82  2022-10-21    BOS @ MIA  W  241  111  ...   11   19  23         7.0   \n83  2022-10-22  IND vs. DET  W  240  124  ...   15   11  21         9.0   \n84  2022-10-19    ORL @ DET  L  240  109  ...    5   18  23        -4.0   \n85  2022-10-21  NYK vs. DET  W  239  130  ...    6   12  26        24.0   \n\n    OPPONENT  IS_HOME  IS_WIN  TEAM_OWNER  TEAM_PICK  OPPOSING_OWNER  \n0        POR        1       0      Vedran          6          Vedran  \n1        POR        1       0        Tata         10          Vedran  \n2        POR        0       0       Miran          4          Vedran  \n3        LAC        1       0      Vedran          6            Tata  \n4        LAC        1       0        Tata         10            Tata  \n..       ...      ...     ...         ...        ...             ...  \n81       MIA        0       1      Vedran          7            Tata  \n82       MIA        0       1      Vedran          2            Tata  \n83       DET        1       1       Miran          9           Miran  \n84       DET        0       0        Tata          6           Miran  \n85       DET        1       1       Miran          7           Miran  \n\n[86 rows x 34 columns]",
      "text/html": "<div>\n<style scoped>\n    .dataframe tbody tr th:only-of-type {\n        vertical-align: middle;\n    }\n\n    .dataframe tbody tr th {\n        vertical-align: top;\n    }\n\n    .dataframe thead th {\n        text-align: right;\n    }\n</style>\n<table border=\"1\" class=\"dataframe\">\n  <thead>\n    <tr style=\"text-align: right;\">\n      <th></th>\n      <th>SEASON_ID</th>\n      <th>TEAM_ID</th>\n      <th>TEAM_ABBREVIATION</th>\n      <th>TEAM_NAME</th>\n      <th>GAME_ID</th>\n      <th>GAME_DATE</th>\n      <th>MATCHUP</th>\n      <th>WL</th>\n      <th>MIN</th>\n      <th>PTS</th>\n      <th>...</th>\n      <th>BLK</th>\n      <th>TOV</th>\n      <th>PF</th>\n      <th>PLUS_MINUS</th>\n      <th>OPPONENT</th>\n      <th>IS_HOME</th>\n      <th>IS_WIN</th>\n      <th>TEAM_OWNER</th>\n      <th>TEAM_PICK</th>\n      <th>OPPOSING_OWNER</th>\n    </tr>\n  </thead>\n  <tbody>\n    <tr>\n      <th>0</th>\n      <td>22022</td>\n      <td>1610612747</td>\n      <td>LAL</td>\n      <td>Los Angeles Lakers</td>\n      <td>0022200037</td>\n      <td>2022-10-23</td>\n      <td>LAL vs. POR</td>\n      <td>L</td>\n      <td>241</td>\n      <td>104</td>\n      <td>...</td>\n      <td>9</td>\n      <td>13</td>\n      <td>24</td>\n      <td>-2.0</td>\n      <td>POR</td>\n      <td>1</td>\n      <td>0</td>\n      <td>Vedran</td>\n      <td>6</td>\n      <td>Vedran</td>\n    </tr>\n    <tr>\n      <th>1</th>\n      <td>22022</td>\n      <td>1610612758</td>\n      <td>SAC</td>\n      <td>Sacramento Kings</td>\n      <td>0022200014</td>\n      <td>2022-10-19</td>\n      <td>SAC vs. POR</td>\n      <td>L</td>\n      <td>241</td>\n      <td>108</td>\n      <td>...</td>\n      <td>5</td>\n      <td>15</td>\n      <td>25</td>\n      <td>-7.0</td>\n      <td>POR</td>\n      <td>1</td>\n      <td>0</td>\n      <td>Tata</td>\n      <td>10</td>\n      <td>Vedran</td>\n    </tr>\n    <tr>\n      <th>2</th>\n      <td>22022</td>\n      <td>1610612756</td>\n      <td>PHX</td>\n      <td>Phoenix Suns</td>\n      <td>0022200027</td>\n      <td>2022-10-21</td>\n      <td>PHX @ POR</td>\n      <td>L</td>\n      <td>266</td>\n      <td>111</td>\n      <td>...</td>\n      <td>1</td>\n      <td>16</td>\n      <td>27</td>\n      <td>-2.0</td>\n      <td>POR</td>\n      <td>0</td>\n      <td>0</td>\n      <td>Miran</td>\n      <td>4</td>\n      <td>Vedran</td>\n    </tr>\n    <tr>\n      <th>3</th>\n      <td>22022</td>\n      <td>1610612747</td>\n      <td>LAL</td>\n      <td>Los Angeles Lakers</td>\n      <td>0022200016</td>\n      <td>2022-10-20</td>\n      <td>LAL vs. LAC</td>\n      <td>L</td>\n      <td>241</td>\n      <td>97</td>\n      <td>...</td>\n      <td>5</td>\n      <td>10</td>\n      <td>24</td>\n      <td>-6.0</td>\n      <td>LAC</td>\n      <td>1</td>\n      <td>0</td>\n      <td>Vedran</td>\n      <td>6</td>\n      <td>Tata</td>\n    </tr>\n    <tr>\n      <th>4</th>\n      <td>22022</td>\n      <td>1610612758</td>\n      <td>SAC</td>\n      <td>Sacramento Kings</td>\n      <td>0022200036</td>\n      <td>2022-10-22</td>\n      <td>SAC vs. LAC</td>\n      <td>L</td>\n      <td>239</td>\n      <td>109</td>\n      <td>...</td>\n      <td>5</td>\n      <td>12</td>\n      <td>21</td>\n      <td>-2.0</td>\n      <td>LAC</td>\n      <td>1</td>\n      <td>0</td>\n      <td>Tata</td>\n      <td>10</td>\n      <td>Tata</td>\n    </tr>\n    <tr>\n      <th>...</th>\n      <td>...</td>\n      <td>...</td>\n      <td>...</td>\n      <td>...</td>\n      <td>...</td>\n      <td>...</td>\n      <td>...</td>\n      <td>...</td>\n      <td>...</td>\n      <td>...</td>\n      <td>...</td>\n      <td>...</td>\n      <td>...</td>\n      <td>...</td>\n      <td>...</td>\n      <td>...</td>\n      <td>...</td>\n      <td>...</td>\n      <td>...</td>\n      <td>...</td>\n      <td>...</td>\n    </tr>\n    <tr>\n      <th>81</th>\n      <td>22022</td>\n      <td>1610612741</td>\n      <td>CHI</td>\n      <td>Chicago Bulls</td>\n      <td>0022200007</td>\n      <td>2022-10-19</td>\n      <td>CHI @ MIA</td>\n      <td>W</td>\n      <td>240</td>\n      <td>116</td>\n      <td>...</td>\n      <td>6</td>\n      <td>14</td>\n      <td>26</td>\n      <td>8.0</td>\n      <td>MIA</td>\n      <td>0</td>\n      <td>1</td>\n      <td>Vedran</td>\n      <td>7</td>\n      <td>Tata</td>\n    </tr>\n    <tr>\n      <th>82</th>\n      <td>22022</td>\n      <td>1610612738</td>\n      <td>BOS</td>\n      <td>Boston Celtics</td>\n      <td>0022200022</td>\n      <td>2022-10-21</td>\n      <td>BOS @ MIA</td>\n      <td>W</td>\n      <td>241</td>\n      <td>111</td>\n      <td>...</td>\n      <td>11</td>\n      <td>19</td>\n      <td>23</td>\n      <td>7.0</td>\n      <td>MIA</td>\n      <td>0</td>\n      <td>1</td>\n      <td>Vedran</td>\n      <td>2</td>\n      <td>Tata</td>\n    </tr>\n    <tr>\n      <th>83</th>\n      <td>22022</td>\n      <td>1610612754</td>\n      <td>IND</td>\n      <td>Indiana Pacers</td>\n      <td>0022200029</td>\n      <td>2022-10-22</td>\n      <td>IND vs. DET</td>\n      <td>W</td>\n      <td>240</td>\n      <td>124</td>\n      <td>...</td>\n      <td>15</td>\n      <td>11</td>\n      <td>21</td>\n      <td>9.0</td>\n      <td>DET</td>\n      <td>1</td>\n      <td>1</td>\n      <td>Miran</td>\n      <td>9</td>\n      <td>Miran</td>\n    </tr>\n    <tr>\n      <th>84</th>\n      <td>22022</td>\n      <td>1610612753</td>\n      <td>ORL</td>\n      <td>Orlando Magic</td>\n      <td>0022200003</td>\n      <td>2022-10-19</td>\n      <td>ORL @ DET</td>\n      <td>L</td>\n      <td>240</td>\n      <td>109</td>\n      <td>...</td>\n      <td>5</td>\n      <td>18</td>\n      <td>23</td>\n      <td>-4.0</td>\n      <td>DET</td>\n      <td>0</td>\n      <td>0</td>\n      <td>Tata</td>\n      <td>6</td>\n      <td>Miran</td>\n    </tr>\n    <tr>\n      <th>85</th>\n      <td>22022</td>\n      <td>1610612752</td>\n      <td>NYK</td>\n      <td>New York Knicks</td>\n      <td>0022200023</td>\n      <td>2022-10-21</td>\n      <td>NYK vs. DET</td>\n      <td>W</td>\n      <td>239</td>\n      <td>130</td>\n      <td>...</td>\n      <td>6</td>\n      <td>12</td>\n      <td>26</td>\n      <td>24.0</td>\n      <td>DET</td>\n      <td>1</td>\n      <td>1</td>\n      <td>Miran</td>\n      <td>7</td>\n      <td>Miran</td>\n    </tr>\n  </tbody>\n</table>\n<p>86 rows × 34 columns</p>\n</div>"
     },
     "execution_count": 14,
     "metadata": {},
     "output_type": "execute_result"
    }
   ],
   "source": [
    "# Add info on the owner of opposing team\n",
    "opp_selection = team_selection[['TEAM_OWNER','TEAM_ABBREVIATION']]\n",
    "opp_selection.columns = ['OPPOSING_OWNER','OPPONENT']\n",
    "games = pd.merge(games, opp_selection ,on=[\"OPPONENT\"])\n",
    "games"
   ],
   "metadata": {
    "collapsed": false
   }
  },
  {
   "cell_type": "code",
   "execution_count": 15,
   "outputs": [
    {
     "data": {
      "text/plain": "   SEASON_ID     TEAM_ID TEAM_ABBREVIATION           TEAM_NAME     GAME_ID  \\\n0      22022  1610612747               LAL  Los Angeles Lakers  0022200037   \n1      22022  1610612758               SAC    Sacramento Kings  0022200014   \n2      22022  1610612756               PHX        Phoenix Suns  0022200027   \n3      22022  1610612747               LAL  Los Angeles Lakers  0022200016   \n4      22022  1610612758               SAC    Sacramento Kings  0022200036   \n..       ...         ...               ...                 ...         ...   \n81     22022  1610612741               CHI       Chicago Bulls  0022200007   \n82     22022  1610612738               BOS      Boston Celtics  0022200022   \n83     22022  1610612754               IND      Indiana Pacers  0022200029   \n84     22022  1610612753               ORL       Orlando Magic  0022200003   \n85     22022  1610612752               NYK     New York Knicks  0022200023   \n\n     GAME_DATE      MATCHUP WL  MIN  PTS  ...  TOV  PF  PLUS_MINUS  OPPONENT  \\\n0   2022-10-23  LAL vs. POR  L  241  104  ...   13  24        -2.0       POR   \n1   2022-10-19  SAC vs. POR  L  241  108  ...   15  25        -7.0       POR   \n2   2022-10-21    PHX @ POR  L  266  111  ...   16  27        -2.0       POR   \n3   2022-10-20  LAL vs. LAC  L  241   97  ...   10  24        -6.0       LAC   \n4   2022-10-22  SAC vs. LAC  L  239  109  ...   12  21        -2.0       LAC   \n..         ...          ... ..  ...  ...  ...  ...  ..         ...       ...   \n81  2022-10-19    CHI @ MIA  W  240  116  ...   14  26         8.0       MIA   \n82  2022-10-21    BOS @ MIA  W  241  111  ...   19  23         7.0       MIA   \n83  2022-10-22  IND vs. DET  W  240  124  ...   11  21         9.0       DET   \n84  2022-10-19    ORL @ DET  L  240  109  ...   18  23        -4.0       DET   \n85  2022-10-21  NYK vs. DET  W  239  130  ...   12  26        24.0       DET   \n\n    IS_HOME  IS_WIN  TEAM_OWNER  TEAM_PICK  OPPOSING_OWNER  IS_NOT_AGAINST_OWN  \n0         1       0      Vedran          6          Vedran                   0  \n1         1       0        Tata         10          Vedran                   1  \n2         0       0       Miran          4          Vedran                   1  \n3         1       0      Vedran          6            Tata                   1  \n4         1       0        Tata         10            Tata                   0  \n..      ...     ...         ...        ...             ...                 ...  \n81        0       1      Vedran          7            Tata                   1  \n82        0       1      Vedran          2            Tata                   1  \n83        1       1       Miran          9           Miran                   0  \n84        0       0        Tata          6           Miran                   1  \n85        1       1       Miran          7           Miran                   0  \n\n[86 rows x 35 columns]",
      "text/html": "<div>\n<style scoped>\n    .dataframe tbody tr th:only-of-type {\n        vertical-align: middle;\n    }\n\n    .dataframe tbody tr th {\n        vertical-align: top;\n    }\n\n    .dataframe thead th {\n        text-align: right;\n    }\n</style>\n<table border=\"1\" class=\"dataframe\">\n  <thead>\n    <tr style=\"text-align: right;\">\n      <th></th>\n      <th>SEASON_ID</th>\n      <th>TEAM_ID</th>\n      <th>TEAM_ABBREVIATION</th>\n      <th>TEAM_NAME</th>\n      <th>GAME_ID</th>\n      <th>GAME_DATE</th>\n      <th>MATCHUP</th>\n      <th>WL</th>\n      <th>MIN</th>\n      <th>PTS</th>\n      <th>...</th>\n      <th>TOV</th>\n      <th>PF</th>\n      <th>PLUS_MINUS</th>\n      <th>OPPONENT</th>\n      <th>IS_HOME</th>\n      <th>IS_WIN</th>\n      <th>TEAM_OWNER</th>\n      <th>TEAM_PICK</th>\n      <th>OPPOSING_OWNER</th>\n      <th>IS_NOT_AGAINST_OWN</th>\n    </tr>\n  </thead>\n  <tbody>\n    <tr>\n      <th>0</th>\n      <td>22022</td>\n      <td>1610612747</td>\n      <td>LAL</td>\n      <td>Los Angeles Lakers</td>\n      <td>0022200037</td>\n      <td>2022-10-23</td>\n      <td>LAL vs. POR</td>\n      <td>L</td>\n      <td>241</td>\n      <td>104</td>\n      <td>...</td>\n      <td>13</td>\n      <td>24</td>\n      <td>-2.0</td>\n      <td>POR</td>\n      <td>1</td>\n      <td>0</td>\n      <td>Vedran</td>\n      <td>6</td>\n      <td>Vedran</td>\n      <td>0</td>\n    </tr>\n    <tr>\n      <th>1</th>\n      <td>22022</td>\n      <td>1610612758</td>\n      <td>SAC</td>\n      <td>Sacramento Kings</td>\n      <td>0022200014</td>\n      <td>2022-10-19</td>\n      <td>SAC vs. POR</td>\n      <td>L</td>\n      <td>241</td>\n      <td>108</td>\n      <td>...</td>\n      <td>15</td>\n      <td>25</td>\n      <td>-7.0</td>\n      <td>POR</td>\n      <td>1</td>\n      <td>0</td>\n      <td>Tata</td>\n      <td>10</td>\n      <td>Vedran</td>\n      <td>1</td>\n    </tr>\n    <tr>\n      <th>2</th>\n      <td>22022</td>\n      <td>1610612756</td>\n      <td>PHX</td>\n      <td>Phoenix Suns</td>\n      <td>0022200027</td>\n      <td>2022-10-21</td>\n      <td>PHX @ POR</td>\n      <td>L</td>\n      <td>266</td>\n      <td>111</td>\n      <td>...</td>\n      <td>16</td>\n      <td>27</td>\n      <td>-2.0</td>\n      <td>POR</td>\n      <td>0</td>\n      <td>0</td>\n      <td>Miran</td>\n      <td>4</td>\n      <td>Vedran</td>\n      <td>1</td>\n    </tr>\n    <tr>\n      <th>3</th>\n      <td>22022</td>\n      <td>1610612747</td>\n      <td>LAL</td>\n      <td>Los Angeles Lakers</td>\n      <td>0022200016</td>\n      <td>2022-10-20</td>\n      <td>LAL vs. LAC</td>\n      <td>L</td>\n      <td>241</td>\n      <td>97</td>\n      <td>...</td>\n      <td>10</td>\n      <td>24</td>\n      <td>-6.0</td>\n      <td>LAC</td>\n      <td>1</td>\n      <td>0</td>\n      <td>Vedran</td>\n      <td>6</td>\n      <td>Tata</td>\n      <td>1</td>\n    </tr>\n    <tr>\n      <th>4</th>\n      <td>22022</td>\n      <td>1610612758</td>\n      <td>SAC</td>\n      <td>Sacramento Kings</td>\n      <td>0022200036</td>\n      <td>2022-10-22</td>\n      <td>SAC vs. LAC</td>\n      <td>L</td>\n      <td>239</td>\n      <td>109</td>\n      <td>...</td>\n      <td>12</td>\n      <td>21</td>\n      <td>-2.0</td>\n      <td>LAC</td>\n      <td>1</td>\n      <td>0</td>\n      <td>Tata</td>\n      <td>10</td>\n      <td>Tata</td>\n      <td>0</td>\n    </tr>\n    <tr>\n      <th>...</th>\n      <td>...</td>\n      <td>...</td>\n      <td>...</td>\n      <td>...</td>\n      <td>...</td>\n      <td>...</td>\n      <td>...</td>\n      <td>...</td>\n      <td>...</td>\n      <td>...</td>\n      <td>...</td>\n      <td>...</td>\n      <td>...</td>\n      <td>...</td>\n      <td>...</td>\n      <td>...</td>\n      <td>...</td>\n      <td>...</td>\n      <td>...</td>\n      <td>...</td>\n      <td>...</td>\n    </tr>\n    <tr>\n      <th>81</th>\n      <td>22022</td>\n      <td>1610612741</td>\n      <td>CHI</td>\n      <td>Chicago Bulls</td>\n      <td>0022200007</td>\n      <td>2022-10-19</td>\n      <td>CHI @ MIA</td>\n      <td>W</td>\n      <td>240</td>\n      <td>116</td>\n      <td>...</td>\n      <td>14</td>\n      <td>26</td>\n      <td>8.0</td>\n      <td>MIA</td>\n      <td>0</td>\n      <td>1</td>\n      <td>Vedran</td>\n      <td>7</td>\n      <td>Tata</td>\n      <td>1</td>\n    </tr>\n    <tr>\n      <th>82</th>\n      <td>22022</td>\n      <td>1610612738</td>\n      <td>BOS</td>\n      <td>Boston Celtics</td>\n      <td>0022200022</td>\n      <td>2022-10-21</td>\n      <td>BOS @ MIA</td>\n      <td>W</td>\n      <td>241</td>\n      <td>111</td>\n      <td>...</td>\n      <td>19</td>\n      <td>23</td>\n      <td>7.0</td>\n      <td>MIA</td>\n      <td>0</td>\n      <td>1</td>\n      <td>Vedran</td>\n      <td>2</td>\n      <td>Tata</td>\n      <td>1</td>\n    </tr>\n    <tr>\n      <th>83</th>\n      <td>22022</td>\n      <td>1610612754</td>\n      <td>IND</td>\n      <td>Indiana Pacers</td>\n      <td>0022200029</td>\n      <td>2022-10-22</td>\n      <td>IND vs. DET</td>\n      <td>W</td>\n      <td>240</td>\n      <td>124</td>\n      <td>...</td>\n      <td>11</td>\n      <td>21</td>\n      <td>9.0</td>\n      <td>DET</td>\n      <td>1</td>\n      <td>1</td>\n      <td>Miran</td>\n      <td>9</td>\n      <td>Miran</td>\n      <td>0</td>\n    </tr>\n    <tr>\n      <th>84</th>\n      <td>22022</td>\n      <td>1610612753</td>\n      <td>ORL</td>\n      <td>Orlando Magic</td>\n      <td>0022200003</td>\n      <td>2022-10-19</td>\n      <td>ORL @ DET</td>\n      <td>L</td>\n      <td>240</td>\n      <td>109</td>\n      <td>...</td>\n      <td>18</td>\n      <td>23</td>\n      <td>-4.0</td>\n      <td>DET</td>\n      <td>0</td>\n      <td>0</td>\n      <td>Tata</td>\n      <td>6</td>\n      <td>Miran</td>\n      <td>1</td>\n    </tr>\n    <tr>\n      <th>85</th>\n      <td>22022</td>\n      <td>1610612752</td>\n      <td>NYK</td>\n      <td>New York Knicks</td>\n      <td>0022200023</td>\n      <td>2022-10-21</td>\n      <td>NYK vs. DET</td>\n      <td>W</td>\n      <td>239</td>\n      <td>130</td>\n      <td>...</td>\n      <td>12</td>\n      <td>26</td>\n      <td>24.0</td>\n      <td>DET</td>\n      <td>1</td>\n      <td>1</td>\n      <td>Miran</td>\n      <td>7</td>\n      <td>Miran</td>\n      <td>0</td>\n    </tr>\n  </tbody>\n</table>\n<p>86 rows × 35 columns</p>\n</div>"
     },
     "execution_count": 15,
     "metadata": {},
     "output_type": "execute_result"
    }
   ],
   "source": [
    "# Add column to know if the game is against own team\n",
    "games['IS_NOT_AGAINST_OWN'] = 1\n",
    "games.loc[(games['TEAM_OWNER'] == games['OPPOSING_OWNER']),'IS_NOT_AGAINST_OWN']=0\n",
    "\n",
    "games"
   ],
   "metadata": {
    "collapsed": false
   }
  },
  {
   "cell_type": "code",
   "execution_count": 16,
   "outputs": [
    {
     "name": "stdout",
     "output_type": "stream",
     "text": [
      "Ovo je trenutno stanje s bodovima na daatum 10/23/2022\n",
      "TEAM_OWNER\n",
      "Vedran    19\n",
      "Miran     12\n",
      "Tata      12\n",
      "Name: IS_WIN, dtype: int64\n"
     ]
    }
   ],
   "source": [
    "# actually calculate the points!\n",
    "# Doesn't address the Playoff game / Championship\n",
    "\n",
    "bodovi = games.groupby(by=['TEAM_OWNER'])['IS_WIN'].sum()\n",
    "bodovi = bodovi.sort_values(ascending=False)\n",
    "\n",
    "print(\"Ovo je trenutno stanje s bodovima na daatum \" + league_end_str)\n",
    "print(bodovi)\n",
    "# bodovi = bodovi.sort_values(by=['IS_WIN'], ascending=False)\n",
    "\n"
   ],
   "metadata": {
    "collapsed": false
   }
  },
  {
   "cell_type": "code",
   "execution_count": null,
   "outputs": [],
   "source": [
    " # Next steps: Play with data\n",
    "# Total possible points, total games, total games vs. own teams, total ratios for all pairs..."
   ],
   "metadata": {
    "collapsed": false
   }
  },
  {
   "cell_type": "code",
   "execution_count": 17,
   "outputs": [
    {
     "name": "stdout",
     "output_type": "stream",
     "text": [
      "Total number of games played:\n"
     ]
    },
    {
     "data": {
      "text/plain": "TEAM_OWNER\nMiran     29\nTata      29\nVedran    28\nName: GAME_ID, dtype: int64"
     },
     "execution_count": 17,
     "metadata": {},
     "output_type": "execute_result"
    }
   ],
   "source": [
    "print(\"Total number of games played:\")\n",
    "\n",
    "ukupno_tekma = games.groupby(by=['TEAM_OWNER'])['GAME_ID'].count()\n",
    "ukupno_tekma = ukupno_tekma.sort_values(ascending=False)\n",
    "\n",
    "ukupno_tekma"
   ],
   "metadata": {
    "collapsed": false
   }
  },
  {
   "cell_type": "code",
   "execution_count": 18,
   "outputs": [
    {
     "name": "stdout",
     "output_type": "stream",
     "text": [
      "Total possible points (excl. games vs. own teams):\n"
     ]
    },
    {
     "data": {
      "text/plain": "TEAM_OWNER\nTata      23\nVedran    22\nMiran     19\nName: IS_NOT_AGAINST_OWN, dtype: int64"
     },
     "execution_count": 18,
     "metadata": {},
     "output_type": "execute_result"
    }
   ],
   "source": [
    "print(\"Total possible points (excl. games vs. own teams):\")\n",
    "\n",
    "potencijalno_bodovi = games.groupby(by=['TEAM_OWNER'])['IS_NOT_AGAINST_OWN'].sum()\n",
    "potencijalno_bodovi  = potencijalno_bodovi.sort_values(ascending=False)\n",
    "\n",
    "potencijalno_bodovi"
   ],
   "metadata": {
    "collapsed": false
   }
  },
  {
   "cell_type": "code",
   "execution_count": 23,
   "outputs": [
    {
     "name": "stdout",
     "output_type": "stream",
     "text": [
      "Ovo je trenutno stanje s bodovima na daatum 10/23/2022\n",
      "TEAM_OWNER\n",
      "Vedran    19\n",
      "Miran     12\n",
      "Tata      12\n",
      "Name: IS_WIN, dtype: int64\n",
      "\n",
      "Total number of games played:\n",
      "TEAM_OWNER\n",
      "Miran     29\n",
      "Tata      29\n",
      "Vedran    28\n",
      "Name: GAME_ID, dtype: int64\n",
      "\n",
      "Total possible points (excl. games vs. own teams):\n",
      "TEAM_OWNER\n",
      "Tata      23\n",
      "Vedran    22\n",
      "Miran     19\n",
      "Name: IS_NOT_AGAINST_OWN, dtype: int64\n"
     ]
    }
   ],
   "source": [
    "# Print the results\n",
    "\n",
    "\n",
    "print(\"Ovo je trenutno stanje s bodovima na daatum \" + league_end_str)\n",
    "print(bodovi)\n",
    "print()\n",
    "\n",
    "print(\"Total number of games played:\")\n",
    "print(ukupno_tekma)\n",
    "print()\n",
    "\n",
    "print(\"Total possible points (excl. games vs. own teams):\")\n",
    "print(potencijalno_bodovi)"
   ],
   "metadata": {
    "collapsed": false
   }
  },
  {
   "cell_type": "code",
   "execution_count": null,
   "outputs": [],
   "source": [],
   "metadata": {
    "collapsed": false
   }
  }
 ],
 "metadata": {
  "kernelspec": {
   "display_name": "Python 3",
   "language": "python",
   "name": "python3"
  },
  "language_info": {
   "codemirror_mode": {
    "name": "ipython",
    "version": 2
   },
   "file_extension": ".py",
   "mimetype": "text/x-python",
   "name": "python",
   "nbconvert_exporter": "python",
   "pygments_lexer": "ipython2",
   "version": "2.7.6"
  }
 },
 "nbformat": 4,
 "nbformat_minor": 0
}
